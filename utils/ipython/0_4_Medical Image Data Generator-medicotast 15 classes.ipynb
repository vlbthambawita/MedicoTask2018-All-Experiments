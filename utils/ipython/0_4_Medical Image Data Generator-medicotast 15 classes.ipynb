{
 "cells": [
  {
   "cell_type": "markdown",
   "metadata": {},
   "source": [
    "# This is Medical Image Data Generator (15 classes)"
   ]
  },
  {
   "cell_type": "code",
   "execution_count": 1,
   "metadata": {},
   "outputs": [],
   "source": [
    "import os\n",
    "import shutil\n",
    "import math"
   ]
  },
  {
   "cell_type": "code",
   "execution_count": 2,
   "metadata": {},
   "outputs": [],
   "source": [
    "original_data_folder = '../../data/data_Medico_2018_development_set_v3_15_classes'"
   ]
  },
  {
   "cell_type": "code",
   "execution_count": 3,
   "metadata": {},
   "outputs": [
    {
     "data": {
      "text/plain": [
       "['stool-plenty',\n",
       " 'colon-clear',\n",
       " 'retroflex-rectum',\n",
       " 'dyed-lifted-polyps',\n",
       " 'instruments',\n",
       " 'normal-pylorus',\n",
       " 'stool-inclusions',\n",
       " 'blurry-nothing',\n",
       " 'out-of-patient',\n",
       " 'esophagitis_normal_z_line',\n",
       " 'retroflex-stomach',\n",
       " 'ulcerative-colitis',\n",
       " 'polyps',\n",
       " 'dyed-resection-margins',\n",
       " 'normal-cecum']"
      ]
     },
     "execution_count": 3,
     "metadata": {},
     "output_type": "execute_result"
    }
   ],
   "source": [
    "os.listdir(original_data_folder)"
   ]
  },
  {
   "cell_type": "markdown",
   "metadata": {},
   "source": [
    "### Change this name to new for creating new data folder from the original data folder"
   ]
  },
  {
   "cell_type": "code",
   "execution_count": 4,
   "metadata": {},
   "outputs": [],
   "source": [
    "base_dir = '../../data/data_generated_medicotask_15classes_70_30_v3'"
   ]
  },
  {
   "cell_type": "code",
   "execution_count": 5,
   "metadata": {},
   "outputs": [],
   "source": [
    "train_dir = os.path.join(base_dir, 'train')\n",
    "validation_dir = os.path.join(base_dir, 'validation')\n",
    "#test_dir = os.path.join(base_dir, 'test')\n",
    "\n",
    "\n",
    "main_classification_types = os.listdir(original_data_folder)\n",
    "\n",
    "# original data location path\n",
    "original_data_folder_name = original_data_folder"
   ]
  },
  {
   "cell_type": "code",
   "execution_count": null,
   "metadata": {},
   "outputs": [],
   "source": []
  },
  {
   "cell_type": "code",
   "execution_count": 6,
   "metadata": {},
   "outputs": [],
   "source": [
    "# os.listdir(os.path.join(train_dir, main_classification_types[0]))"
   ]
  },
  {
   "cell_type": "code",
   "execution_count": 7,
   "metadata": {},
   "outputs": [],
   "source": [
    " # os.listdir(os.path.join(train_dir, main_classification_types[0]))"
   ]
  },
  {
   "cell_type": "code",
   "execution_count": null,
   "metadata": {},
   "outputs": [],
   "source": []
  },
  {
   "cell_type": "code",
   "execution_count": null,
   "metadata": {},
   "outputs": [],
   "source": []
  },
  {
   "cell_type": "markdown",
   "metadata": {},
   "source": [
    "## Need to take 80% for training and 20% for validation "
   ]
  },
  {
   "cell_type": "code",
   "execution_count": 8,
   "metadata": {},
   "outputs": [
    {
     "data": {
      "text/plain": [
       "['stool-plenty',\n",
       " 'colon-clear',\n",
       " 'retroflex-rectum',\n",
       " 'dyed-lifted-polyps',\n",
       " 'instruments',\n",
       " 'normal-pylorus',\n",
       " 'stool-inclusions',\n",
       " 'blurry-nothing',\n",
       " 'out-of-patient',\n",
       " 'esophagitis_normal_z_line',\n",
       " 'retroflex-stomach',\n",
       " 'ulcerative-colitis',\n",
       " 'polyps',\n",
       " 'dyed-resection-margins',\n",
       " 'normal-cecum']"
      ]
     },
     "execution_count": 8,
     "metadata": {},
     "output_type": "execute_result"
    }
   ],
   "source": [
    "os.listdir(original_data_folder_name)"
   ]
  },
  {
   "cell_type": "code",
   "execution_count": 9,
   "metadata": {},
   "outputs": [],
   "source": [
    "x = len(os.listdir(original_data_folder_name)) * (80/100)"
   ]
  },
  {
   "cell_type": "code",
   "execution_count": 10,
   "metadata": {},
   "outputs": [
    {
     "data": {
      "text/plain": [
       "12.0"
      ]
     },
     "execution_count": 10,
     "metadata": {},
     "output_type": "execute_result"
    }
   ],
   "source": [
    "x"
   ]
  },
  {
   "cell_type": "code",
   "execution_count": 11,
   "metadata": {},
   "outputs": [
    {
     "data": {
      "text/plain": [
       "12"
      ]
     },
     "execution_count": 11,
     "metadata": {},
     "output_type": "execute_result"
    }
   ],
   "source": [
    "math.floor(x)"
   ]
  },
  {
   "cell_type": "code",
   "execution_count": null,
   "metadata": {},
   "outputs": [],
   "source": []
  },
  {
   "cell_type": "code",
   "execution_count": null,
   "metadata": {},
   "outputs": [],
   "source": []
  },
  {
   "cell_type": "code",
   "execution_count": null,
   "metadata": {},
   "outputs": [],
   "source": []
  },
  {
   "cell_type": "code",
   "execution_count": null,
   "metadata": {},
   "outputs": [],
   "source": []
  },
  {
   "cell_type": "code",
   "execution_count": null,
   "metadata": {},
   "outputs": [],
   "source": []
  },
  {
   "cell_type": "markdown",
   "metadata": {},
   "source": [
    "## Change these values for generating new train, validation and test data sets"
   ]
  },
  {
   "cell_type": "code",
   "execution_count": 12,
   "metadata": {},
   "outputs": [],
   "source": [
    "train_size = 70 # 70% \n",
    "validation_size = 30 # 30 %\n",
    "test_size = 0 # 0 %"
   ]
  },
  {
   "cell_type": "markdown",
   "metadata": {},
   "source": [
    "## Function for making new directory structure"
   ]
  },
  {
   "cell_type": "code",
   "execution_count": 13,
   "metadata": {},
   "outputs": [],
   "source": [
    "def make_folder_structure(base_dir, main_classification_types_dirs):\n",
    "\n",
    "    train_dir_list = []\n",
    "    validation_dir_list = []\n",
    "    test_dir_list = []\n",
    "\n",
    "\n",
    "    if not os.path.exists(base_dir):\n",
    "        os.mkdir(base_dir)  # new directory to make directory structure and load data\n",
    "\n",
    "    main_directory_names = ['train', 'validation', 'test']\n",
    "\n",
    "    for main_dir_name in main_directory_names:\n",
    "        dir = os.path.join(base_dir, main_dir_name)\n",
    "        if not os.path.exists(dir):\n",
    "            os.mkdir(dir)\n",
    "\n",
    "        for main_classification_types_dir in main_classification_types_dirs:\n",
    "            type_dir = os.path.join(dir, main_classification_types_dir)\n",
    "\n",
    "            if main_dir_name == 'train':\n",
    "                train_dir_list.append(type_dir)\n",
    "\n",
    "            elif main_dir_name == 'validation':\n",
    "                validation_dir_list.append(type_dir)\n",
    "\n",
    "            elif main_dir_name == 'test':\n",
    "                test_dir_list.append(type_dir)\n",
    "\n",
    "            if not os.path.exists(type_dir):\n",
    "                os.mkdir(type_dir)\n",
    "\n",
    "    return train_dir_list, validation_dir_list, test_dir_list\n"
   ]
  },
  {
   "cell_type": "markdown",
   "metadata": {},
   "source": [
    "## Function for loading data to new directory structure "
   ]
  },
  {
   "cell_type": "code",
   "execution_count": 14,
   "metadata": {},
   "outputs": [],
   "source": [
    "def load_data_to_folder(original_data_folder, # original data folder\n",
    "                        base_dir,  # folder to create training, validation and testing data\n",
    "                        main_classification_types,  # main class types of the problem\n",
    "                        size_of_training_percentage,  # percentage %\n",
    "                        size_of_validation_percentage,  # percentage %\n",
    "                        size_of_testing_percentage):  # percentage %\n",
    "\n",
    "    for class_type in main_classification_types:\n",
    "        src_dir = os.path.join(original_data_folder, class_type)\n",
    "        files = os.listdir(src_dir)\n",
    "        \n",
    "        size_of_training = math.floor(len(files) * (size_of_training_percentage/100))\n",
    "        size_of_validation = math.ceil(len(files) * (size_of_validation_percentage/100))\n",
    "        size_of_testing = math.ceil(len(files) * (size_of_testing_percentage/100))\n",
    "        \n",
    "\n",
    "        print(len(files))\n",
    "        print(size_of_training)\n",
    "        print(size_of_validation)\n",
    "        print(size_of_testing)\n",
    "        \n",
    "        training_files = files[0:size_of_training]\n",
    "        validation_files = files[size_of_training:size_of_training + size_of_validation]\n",
    "        testing_files = files[size_of_training + size_of_validation:size_of_training + size_of_validation + size_of_testing]\n",
    "\n",
    "        \n",
    "\n",
    "        # copying training images\n",
    "        for file in training_files:\n",
    "            src_file = os.path.join(src_dir, file)\n",
    "            dst_file = os.path.join(base_dir + '/train/' + class_type, file)\n",
    "            if not os.path.exists(dst_file):\n",
    "                shutil.copyfile(src_file, dst_file)\n",
    "\n",
    "        # copying validaton images\n",
    "        for file in validation_files:\n",
    "            src_file = os.path.join(src_dir, file)\n",
    "            dst_file = os.path.join(base_dir + '/validation/' + class_type, file)\n",
    "            if not os.path.exists(dst_file):\n",
    "                shutil.copyfile(src_file, dst_file)\n",
    "\n",
    "        # copying testing images\n",
    "        for file in testing_files:\n",
    "            src_file = os.path.join(src_dir, file)\n",
    "            dst_file = os.path.join(base_dir + '/test/' + class_type, file)\n",
    "            if not os.path.exists(dst_file):\n",
    "                shutil.copyfile(src_file, dst_file)\n",
    "\n",
    "        #training_dir = os.path.join(base_dir, 'train')\n",
    "        \n",
    "        size_of_training = 0\n",
    "        size_of_validation = 0\n",
    "        size_of_testing = 0\n",
    "\n"
   ]
  },
  {
   "cell_type": "markdown",
   "metadata": {},
   "source": [
    "### Generating new folder structure for new data set version 2 with more training data and less validation and testing data"
   ]
  },
  {
   "cell_type": "code",
   "execution_count": 15,
   "metadata": {},
   "outputs": [
    {
     "data": {
      "text/plain": [
       "(['../../data/data_generated_medicotask_15classes_70_30_v3/train/stool-plenty',\n",
       "  '../../data/data_generated_medicotask_15classes_70_30_v3/train/colon-clear',\n",
       "  '../../data/data_generated_medicotask_15classes_70_30_v3/train/retroflex-rectum',\n",
       "  '../../data/data_generated_medicotask_15classes_70_30_v3/train/dyed-lifted-polyps',\n",
       "  '../../data/data_generated_medicotask_15classes_70_30_v3/train/instruments',\n",
       "  '../../data/data_generated_medicotask_15classes_70_30_v3/train/normal-pylorus',\n",
       "  '../../data/data_generated_medicotask_15classes_70_30_v3/train/stool-inclusions',\n",
       "  '../../data/data_generated_medicotask_15classes_70_30_v3/train/blurry-nothing',\n",
       "  '../../data/data_generated_medicotask_15classes_70_30_v3/train/out-of-patient',\n",
       "  '../../data/data_generated_medicotask_15classes_70_30_v3/train/esophagitis_normal_z_line',\n",
       "  '../../data/data_generated_medicotask_15classes_70_30_v3/train/retroflex-stomach',\n",
       "  '../../data/data_generated_medicotask_15classes_70_30_v3/train/ulcerative-colitis',\n",
       "  '../../data/data_generated_medicotask_15classes_70_30_v3/train/polyps',\n",
       "  '../../data/data_generated_medicotask_15classes_70_30_v3/train/dyed-resection-margins',\n",
       "  '../../data/data_generated_medicotask_15classes_70_30_v3/train/normal-cecum'],\n",
       " ['../../data/data_generated_medicotask_15classes_70_30_v3/validation/stool-plenty',\n",
       "  '../../data/data_generated_medicotask_15classes_70_30_v3/validation/colon-clear',\n",
       "  '../../data/data_generated_medicotask_15classes_70_30_v3/validation/retroflex-rectum',\n",
       "  '../../data/data_generated_medicotask_15classes_70_30_v3/validation/dyed-lifted-polyps',\n",
       "  '../../data/data_generated_medicotask_15classes_70_30_v3/validation/instruments',\n",
       "  '../../data/data_generated_medicotask_15classes_70_30_v3/validation/normal-pylorus',\n",
       "  '../../data/data_generated_medicotask_15classes_70_30_v3/validation/stool-inclusions',\n",
       "  '../../data/data_generated_medicotask_15classes_70_30_v3/validation/blurry-nothing',\n",
       "  '../../data/data_generated_medicotask_15classes_70_30_v3/validation/out-of-patient',\n",
       "  '../../data/data_generated_medicotask_15classes_70_30_v3/validation/esophagitis_normal_z_line',\n",
       "  '../../data/data_generated_medicotask_15classes_70_30_v3/validation/retroflex-stomach',\n",
       "  '../../data/data_generated_medicotask_15classes_70_30_v3/validation/ulcerative-colitis',\n",
       "  '../../data/data_generated_medicotask_15classes_70_30_v3/validation/polyps',\n",
       "  '../../data/data_generated_medicotask_15classes_70_30_v3/validation/dyed-resection-margins',\n",
       "  '../../data/data_generated_medicotask_15classes_70_30_v3/validation/normal-cecum'],\n",
       " ['../../data/data_generated_medicotask_15classes_70_30_v3/test/stool-plenty',\n",
       "  '../../data/data_generated_medicotask_15classes_70_30_v3/test/colon-clear',\n",
       "  '../../data/data_generated_medicotask_15classes_70_30_v3/test/retroflex-rectum',\n",
       "  '../../data/data_generated_medicotask_15classes_70_30_v3/test/dyed-lifted-polyps',\n",
       "  '../../data/data_generated_medicotask_15classes_70_30_v3/test/instruments',\n",
       "  '../../data/data_generated_medicotask_15classes_70_30_v3/test/normal-pylorus',\n",
       "  '../../data/data_generated_medicotask_15classes_70_30_v3/test/stool-inclusions',\n",
       "  '../../data/data_generated_medicotask_15classes_70_30_v3/test/blurry-nothing',\n",
       "  '../../data/data_generated_medicotask_15classes_70_30_v3/test/out-of-patient',\n",
       "  '../../data/data_generated_medicotask_15classes_70_30_v3/test/esophagitis_normal_z_line',\n",
       "  '../../data/data_generated_medicotask_15classes_70_30_v3/test/retroflex-stomach',\n",
       "  '../../data/data_generated_medicotask_15classes_70_30_v3/test/ulcerative-colitis',\n",
       "  '../../data/data_generated_medicotask_15classes_70_30_v3/test/polyps',\n",
       "  '../../data/data_generated_medicotask_15classes_70_30_v3/test/dyed-resection-margins',\n",
       "  '../../data/data_generated_medicotask_15classes_70_30_v3/test/normal-cecum'])"
      ]
     },
     "execution_count": 15,
     "metadata": {},
     "output_type": "execute_result"
    }
   ],
   "source": [
    "make_folder_structure(base_dir, main_classification_types)"
   ]
  },
  {
   "cell_type": "code",
   "execution_count": 16,
   "metadata": {
    "scrolled": true
   },
   "outputs": [
    {
     "name": "stdout",
     "output_type": "stream",
     "text": [
      "366\n",
      "256\n",
      "110\n",
      "0\n",
      "267\n",
      "186\n",
      "81\n",
      "0\n",
      "237\n",
      "165\n",
      "72\n",
      "0\n",
      "457\n",
      "319\n",
      "138\n",
      "0\n",
      "36\n",
      "25\n",
      "11\n",
      "0\n",
      "439\n",
      "307\n",
      "132\n",
      "0\n",
      "130\n",
      "91\n",
      "39\n",
      "0\n",
      "176\n",
      "123\n",
      "53\n",
      "0\n",
      "43\n",
      "30\n",
      "13\n",
      "0\n",
      "882\n",
      "617\n",
      "265\n",
      "0\n",
      "398\n",
      "278\n",
      "120\n",
      "0\n",
      "457\n",
      "319\n",
      "138\n",
      "0\n",
      "613\n",
      "429\n",
      "184\n",
      "0\n",
      "416\n",
      "291\n",
      "125\n",
      "0\n",
      "416\n",
      "291\n",
      "125\n",
      "0\n"
     ]
    }
   ],
   "source": [
    "load_data_to_folder(original_data_folder_name, base_dir, main_classification_types, train_size, validation_size, test_size)"
   ]
  },
  {
   "cell_type": "code",
   "execution_count": null,
   "metadata": {},
   "outputs": [],
   "source": []
  }
 ],
 "metadata": {
  "kernelspec": {
   "display_name": "Python 3",
   "language": "python",
   "name": "python3"
  },
  "language_info": {
   "codemirror_mode": {
    "name": "ipython",
    "version": 3
   },
   "file_extension": ".py",
   "mimetype": "text/x-python",
   "name": "python",
   "nbconvert_exporter": "python",
   "pygments_lexer": "ipython3",
   "version": "3.6.5"
  }
 },
 "nbformat": 4,
 "nbformat_minor": 2
}
