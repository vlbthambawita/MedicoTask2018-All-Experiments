{
 "cells": [
  {
   "cell_type": "code",
   "execution_count": 1,
   "metadata": {},
   "outputs": [],
   "source": [
    "import os"
   ]
  },
  {
   "cell_type": "code",
   "execution_count": null,
   "metadata": {},
   "outputs": [],
   "source": []
  },
  {
   "cell_type": "code",
   "execution_count": null,
   "metadata": {},
   "outputs": [],
   "source": []
  },
  {
   "cell_type": "code",
   "execution_count": 2,
   "metadata": {},
   "outputs": [],
   "source": [
    "main_dirctory = \"../../data/data_medico_2018_development_set_features\""
   ]
  },
  {
   "cell_type": "code",
   "execution_count": 5,
   "metadata": {},
   "outputs": [],
   "source": [
    "out_directory = \"../../data/arff\""
   ]
  },
  {
   "cell_type": "code",
   "execution_count": 7,
   "metadata": {},
   "outputs": [],
   "source": [
    "if not os.path.exists(out_directory):\n",
    "    os.mkdir(out_directory)"
   ]
  },
  {
   "cell_type": "code",
   "execution_count": 8,
   "metadata": {},
   "outputs": [],
   "source": [
    "class_dir_list = os.listdir(main_dirctory)"
   ]
  },
  {
   "cell_type": "code",
   "execution_count": 41,
   "metadata": {},
   "outputs": [
    {
     "data": {
      "text/plain": [
       "','"
      ]
     },
     "execution_count": 41,
     "metadata": {},
     "output_type": "execute_result"
    }
   ],
   "source": [
    "str(class_dir_list).join(\",\")"
   ]
  },
  {
   "cell_type": "code",
   "execution_count": 39,
   "metadata": {},
   "outputs": [
    {
     "name": "stdout",
     "output_type": "stream",
     "text": [
      "stool-plenty,normal-z-line,colon-clear,retroflex-rectum,dyed-lifted-polyps,instruments,normal-pylorus,stool-inclusions,blurry-nothing,out-of-patient,esophagitis,retroflex-stomach,ulcerative-colitis,polyps,dyed-resection-margins,normal-cecum\n"
     ]
    }
   ],
   "source": [
    "print(\",\".join(class_dir_list))"
   ]
  },
  {
   "cell_type": "code",
   "execution_count": null,
   "metadata": {},
   "outputs": [],
   "source": [
    "join"
   ]
  },
  {
   "cell_type": "code",
   "execution_count": 4,
   "metadata": {},
   "outputs": [
    {
     "data": {
      "text/plain": [
       "'stool-plenty'"
      ]
     },
     "execution_count": 4,
     "metadata": {},
     "output_type": "execute_result"
    }
   ],
   "source": [
    "os.listdir(main_dirctory)[0]"
   ]
  },
  {
   "cell_type": "code",
   "execution_count": 15,
   "metadata": {},
   "outputs": [],
   "source": [
    "class_dir = os.path.join(main_dirctory, class_dir_list[0])"
   ]
  },
  {
   "cell_type": "code",
   "execution_count": 16,
   "metadata": {},
   "outputs": [],
   "source": [
    "files = os.listdir(class_dir)"
   ]
  },
  {
   "cell_type": "code",
   "execution_count": 17,
   "metadata": {},
   "outputs": [
    {
     "data": {
      "text/plain": [
       "['20.features',\n",
       " '37.features',\n",
       " '218.features',\n",
       " '254.features',\n",
       " '84.features',\n",
       " '340.features',\n",
       " '292.features',\n",
       " '101.features',\n",
       " '272.features',\n",
       " '116.features',\n",
       " '320.features',\n",
       " '345.features',\n",
       " '265.features',\n",
       " '180.features',\n",
       " '25.features',\n",
       " '334.features',\n",
       " '222.features',\n",
       " '59.features',\n",
       " '142.features',\n",
       " '321.features',\n",
       " '145.features',\n",
       " '237.features',\n",
       " '257.features',\n",
       " '231.features',\n",
       " '31.features',\n",
       " '194.features',\n",
       " '118.features',\n",
       " '284.features',\n",
       " '148.features',\n",
       " '123.features',\n",
       " '178.features',\n",
       " '259.features',\n",
       " '317.features',\n",
       " '158.features',\n",
       " '98.features',\n",
       " '139.features',\n",
       " '153.features',\n",
       " '281.features',\n",
       " '167.features',\n",
       " '110.features',\n",
       " '219.features',\n",
       " '270.features',\n",
       " '245.features',\n",
       " '234.features',\n",
       " '207.features',\n",
       " '108.features',\n",
       " '319.features',\n",
       " '161.features',\n",
       " '12.features',\n",
       " '19.features',\n",
       " '278.features',\n",
       " '205.features',\n",
       " '193.features',\n",
       " '211.features',\n",
       " '209.features',\n",
       " '274.features',\n",
       " '252.features',\n",
       " '227.features',\n",
       " '326.features',\n",
       " '285.features',\n",
       " '251.features',\n",
       " '308.features',\n",
       " '301.features',\n",
       " '220.features',\n",
       " '260.features',\n",
       " '186.features',\n",
       " '271.features',\n",
       " '5.features',\n",
       " '109.features',\n",
       " '111.features',\n",
       " '128.features',\n",
       " '277.features',\n",
       " '311.features',\n",
       " '165.features',\n",
       " '336.features',\n",
       " '35.features',\n",
       " '97.features',\n",
       " '217.features',\n",
       " '223.features',\n",
       " '289.features',\n",
       " '76.features',\n",
       " '304.features',\n",
       " '17.features',\n",
       " '124.features',\n",
       " '95.features',\n",
       " '232.features',\n",
       " '14.features',\n",
       " '365.features',\n",
       " '351.features',\n",
       " '246.features',\n",
       " '262.features',\n",
       " '39.features',\n",
       " '56.features',\n",
       " '23.features',\n",
       " '38.features',\n",
       " '113.features',\n",
       " '276.features',\n",
       " '366.features',\n",
       " '29.features',\n",
       " '361.features',\n",
       " '236.features',\n",
       " '44.features',\n",
       " '32.features',\n",
       " '2.features',\n",
       " '221.features',\n",
       " '104.features',\n",
       " '354.features',\n",
       " '151.features',\n",
       " '213.features',\n",
       " '181.features',\n",
       " '235.features',\n",
       " '96.features',\n",
       " '6.features',\n",
       " '61.features',\n",
       " '190.features',\n",
       " '133.features',\n",
       " '294.features',\n",
       " '169.features',\n",
       " '331.features',\n",
       " '4.features',\n",
       " '341.features',\n",
       " '352.features',\n",
       " '263.features',\n",
       " '125.features',\n",
       " '269.features',\n",
       " '68.features',\n",
       " '328.features',\n",
       " '198.features',\n",
       " '349.features',\n",
       " '100.features',\n",
       " '52.features',\n",
       " '45.features',\n",
       " '344.features',\n",
       " '63.features',\n",
       " '10.features',\n",
       " '121.features',\n",
       " '47.features',\n",
       " '210.features',\n",
       " '318.features',\n",
       " '107.features',\n",
       " '92.features',\n",
       " '228.features',\n",
       " '298.features',\n",
       " '357.features',\n",
       " '313.features',\n",
       " '173.features',\n",
       " '187.features',\n",
       " '74.features',\n",
       " '50.features',\n",
       " '57.features',\n",
       " '168.features',\n",
       " '362.features',\n",
       " '33.features',\n",
       " '249.features',\n",
       " '131.features',\n",
       " '13.features',\n",
       " '164.features',\n",
       " '119.features',\n",
       " '183.features',\n",
       " '215.features',\n",
       " '83.features',\n",
       " '81.features',\n",
       " '141.features',\n",
       " '71.features',\n",
       " '91.features',\n",
       " '135.features',\n",
       " '28.features',\n",
       " '244.features',\n",
       " '146.features',\n",
       " '314.features',\n",
       " '299.features',\n",
       " '325.features',\n",
       " '189.features',\n",
       " '266.features',\n",
       " '70.features',\n",
       " '93.features',\n",
       " '188.features',\n",
       " '80.features',\n",
       " '356.features',\n",
       " '243.features',\n",
       " '136.features',\n",
       " '255.features',\n",
       " '258.features',\n",
       " '264.features',\n",
       " '240.features',\n",
       " '280.features',\n",
       " '333.features',\n",
       " '8.features',\n",
       " '174.features',\n",
       " '214.features',\n",
       " '267.features',\n",
       " '89.features',\n",
       " '138.features',\n",
       " '329.features',\n",
       " '184.features',\n",
       " '90.features',\n",
       " '172.features',\n",
       " '225.features',\n",
       " '192.features',\n",
       " '337.features',\n",
       " '359.features',\n",
       " '114.features',\n",
       " '176.features',\n",
       " '179.features',\n",
       " '42.features',\n",
       " '303.features',\n",
       " '115.features',\n",
       " '48.features',\n",
       " '324.features',\n",
       " '36.features',\n",
       " '126.features',\n",
       " '106.features',\n",
       " '15.features',\n",
       " '51.features',\n",
       " '62.features',\n",
       " '297.features',\n",
       " '279.features',\n",
       " '196.features',\n",
       " '46.features',\n",
       " '99.features',\n",
       " '21.features',\n",
       " '11.features',\n",
       " '256.features',\n",
       " '282.features',\n",
       " '346.features',\n",
       " '273.features',\n",
       " '283.features',\n",
       " '348.features',\n",
       " '350.features',\n",
       " '112.features',\n",
       " '238.features',\n",
       " '94.features',\n",
       " '54.features',\n",
       " '339.features',\n",
       " '1.features',\n",
       " '208.features',\n",
       " '233.features',\n",
       " '199.features',\n",
       " '66.features',\n",
       " '53.features',\n",
       " '364.features',\n",
       " '200.features',\n",
       " '154.features',\n",
       " '291.features',\n",
       " '342.features',\n",
       " '332.features',\n",
       " '78.features',\n",
       " '166.features',\n",
       " '143.features',\n",
       " '363.features',\n",
       " '338.features',\n",
       " '102.features',\n",
       " '159.features',\n",
       " '49.features',\n",
       " '306.features',\n",
       " '315.features',\n",
       " '275.features',\n",
       " '140.features',\n",
       " '137.features',\n",
       " '77.features',\n",
       " '41.features',\n",
       " '247.features',\n",
       " '88.features',\n",
       " '160.features',\n",
       " '171.features',\n",
       " '358.features',\n",
       " '163.features',\n",
       " '117.features',\n",
       " '3.features',\n",
       " '103.features',\n",
       " '105.features',\n",
       " '287.features',\n",
       " '216.features',\n",
       " '73.features',\n",
       " '72.features',\n",
       " '347.features',\n",
       " '86.features',\n",
       " '185.features',\n",
       " '55.features',\n",
       " '305.features',\n",
       " '242.features',\n",
       " '322.features',\n",
       " '170.features',\n",
       " '248.features',\n",
       " '197.features',\n",
       " '312.features',\n",
       " '157.features',\n",
       " '224.features',\n",
       " '302.features',\n",
       " '40.features',\n",
       " '206.features',\n",
       " '43.features',\n",
       " '16.features',\n",
       " '327.features',\n",
       " '293.features',\n",
       " '261.features',\n",
       " '134.features',\n",
       " '122.features',\n",
       " '343.features',\n",
       " '150.features',\n",
       " '129.features',\n",
       " '79.features',\n",
       " '64.features',\n",
       " '288.features',\n",
       " '24.features',\n",
       " '147.features',\n",
       " '310.features',\n",
       " '82.features',\n",
       " '9.features',\n",
       " '182.features',\n",
       " '360.features',\n",
       " '204.features',\n",
       " '26.features',\n",
       " '286.features',\n",
       " '155.features',\n",
       " '132.features',\n",
       " '69.features',\n",
       " '353.features',\n",
       " '239.features',\n",
       " '34.features',\n",
       " '22.features',\n",
       " '203.features',\n",
       " '18.features',\n",
       " '316.features',\n",
       " '330.features',\n",
       " '296.features',\n",
       " '87.features',\n",
       " '295.features',\n",
       " '355.features',\n",
       " '67.features',\n",
       " '253.features',\n",
       " '144.features',\n",
       " '65.features',\n",
       " '27.features',\n",
       " '307.features',\n",
       " '241.features',\n",
       " '201.features',\n",
       " '162.features',\n",
       " '195.features',\n",
       " '323.features',\n",
       " '175.features',\n",
       " '191.features',\n",
       " '58.features',\n",
       " '202.features',\n",
       " '226.features',\n",
       " '290.features',\n",
       " '309.features',\n",
       " '229.features',\n",
       " '85.features',\n",
       " '30.features',\n",
       " '212.features',\n",
       " '127.features',\n",
       " '152.features',\n",
       " '120.features',\n",
       " '177.features',\n",
       " '156.features',\n",
       " '130.features',\n",
       " '335.features',\n",
       " '250.features',\n",
       " '60.features',\n",
       " '7.features',\n",
       " '300.features',\n",
       " '268.features',\n",
       " '75.features',\n",
       " '230.features',\n",
       " '149.features']"
      ]
     },
     "execution_count": 17,
     "metadata": {},
     "output_type": "execute_result"
    }
   ],
   "source": [
    "files\n"
   ]
  },
  {
   "cell_type": "code",
   "execution_count": 12,
   "metadata": {},
   "outputs": [],
   "source": [
    "file = files[0]"
   ]
  },
  {
   "cell_type": "code",
   "execution_count": 13,
   "metadata": {},
   "outputs": [
    {
     "data": {
      "text/plain": [
       "'20.features'"
      ]
     },
     "execution_count": 13,
     "metadata": {},
     "output_type": "execute_result"
    }
   ],
   "source": [
    "file\n"
   ]
  },
  {
   "cell_type": "code",
   "execution_count": 18,
   "metadata": {},
   "outputs": [],
   "source": [
    "file_path = os.path.join(class_dir, file)"
   ]
  },
  {
   "cell_type": "code",
   "execution_count": 53,
   "metadata": {},
   "outputs": [
    {
     "name": "stdout",
     "output_type": "stream",
     "text": [
      "../../data/data_medico_2018_development_set_features/stool-plenty/20.features\n",
      "JCD:1.5,0.0,2.0,0.0,0.0,0.0,4.5,5.5,5.0,0.5,0.0,0.0,0.0,0.0,0.0,0.0,2.5,1.5,0.0,0.0,0.0,0.0,0.0,0.0,0.0,0.0,0.0,0.0,0.0,0.0,2.5,3.5,2.5,0.0,0.0,0.0,0.0,0.0,0.0,0.0,0.5,0.5,0.0,0.0,0.0,0.0,0.0,0.0,0.0,0.0,0.0,0.0,0.0,0.0,2.0,2.0,2.0,0.0,0.0,0.0,0.0,0.0,0.0,0.0,0.0,0.0,0.0,0.0,0.0,0.0,0.0,0.0,0.0,0.5,0.5,0.0,0.0,0.0,1.0,1.5,2.0,0.0,0.0,0.0,0.0,0.0,0.0,0.0,0.0,0.0,0.0,0.0,0.0,0.0,0.0,0.0,0.0,0.0,0.0,0.0,0.0,0.0,1.0,2.0,2.0,0.0,0.0,0.0,0.0,0.0,0.0,0.0,0.0,0.0,0.0,0.0,0.0,0.0,0.0,0.0,0.0,0.0,0.0,0.0,0.0,0.0,0.0,0.0,0.0,0.0,0.0,0.0,0.0,0.0,0.0,0.0,0.0,0.0,0.0,0.0,0.0,0.0,0.0,0.0,0.0,0.0,0.0,0.0,0.0,0.0,1.0,1.0,2.0,0.0,0.0,0.0,0.0,0.0,0.0,0.0,0.0,0.0,0.0,0.0,0.0,0.0,0.0,0.0\n",
      "\n",
      "feature name = JCD\n",
      "feature values = ['1.5', '0.0', '2.0', '0.0', '0.0', '0.0', '4.5', '5.5', '5.0', '0.5', '0.0', '0.0', '0.0', '0.0', '0.0', '0.0', '2.5', '1.5', '0.0', '0.0', '0.0', '0.0', '0.0', '0.0', '0.0', '0.0', '0.0', '0.0', '0.0', '0.0', '2.5', '3.5', '2.5', '0.0', '0.0', '0.0', '0.0', '0.0', '0.0', '0.0', '0.5', '0.5', '0.0', '0.0', '0.0', '0.0', '0.0', '0.0', '0.0', '0.0', '0.0', '0.0', '0.0', '0.0', '2.0', '2.0', '2.0', '0.0', '0.0', '0.0', '0.0', '0.0', '0.0', '0.0', '0.0', '0.0', '0.0', '0.0', '0.0', '0.0', '0.0', '0.0', '0.0', '0.5', '0.5', '0.0', '0.0', '0.0', '1.0', '1.5', '2.0', '0.0', '0.0', '0.0', '0.0', '0.0', '0.0', '0.0', '0.0', '0.0', '0.0', '0.0', '0.0', '0.0', '0.0', '0.0', '0.0', '0.0', '0.0', '0.0', '0.0', '0.0', '1.0', '2.0', '2.0', '0.0', '0.0', '0.0', '0.0', '0.0', '0.0', '0.0', '0.0', '0.0', '0.0', '0.0', '0.0', '0.0', '0.0', '0.0', '0.0', '0.0', '0.0', '0.0', '0.0', '0.0', '0.0', '0.0', '0.0', '0.0', '0.0', '0.0', '0.0', '0.0', '0.0', '0.0', '0.0', '0.0', '0.0', '0.0', '0.0', '0.0', '0.0', '0.0', '0.0', '0.0', '0.0', '0.0', '0.0', '0.0', '1.0', '1.0', '2.0', '0.0', '0.0', '0.0', '0.0', '0.0', '0.0', '0.0', '0.0', '0.0', '0.0', '0.0', '0.0', '0.0', '0.0', '0.0\\n']\n",
      "feature lenth =  168\n",
      "../../data/data_medico_2018_development_set_features/stool-plenty/20.features\n",
      "Tamura:3.6626157407407405,4.802009533141395,299.0,150.0,182.0,207.0,145.0,190.0,206.0,281.0,246.0,231.0,219.0,248.0,169.0,168.0,156.0,127.0\n",
      "\n",
      "feature name = Tamura\n",
      "feature values = ['3.6626157407407405', '4.802009533141395', '299.0', '150.0', '182.0', '207.0', '145.0', '190.0', '206.0', '281.0', '246.0', '231.0', '219.0', '248.0', '169.0', '168.0', '156.0', '127.0\\n']\n",
      "feature lenth =  18\n",
      "../../data/data_medico_2018_development_set_features/stool-plenty/20.features\n",
      "ColorLayout:22.0,24.0,20.0,11.0,19.0,11.0,16.0,11.0,12.0,7.0,13.0,8.0,13.0,14.0,11.0,15.0,14.0,18.0,16.0,15.0,18.0,15.0,19.0,13.0,17.0,11.0,22.0,47.0,6.0,25.0,10.0,25.0,6.0\n",
      "\n",
      "feature name = ColorLayout\n",
      "feature values = ['22.0', '24.0', '20.0', '11.0', '19.0', '11.0', '16.0', '11.0', '12.0', '7.0', '13.0', '8.0', '13.0', '14.0', '11.0', '15.0', '14.0', '18.0', '16.0', '15.0', '18.0', '15.0', '19.0', '13.0', '17.0', '11.0', '22.0', '47.0', '6.0', '25.0', '10.0', '25.0', '6.0\\n']\n",
      "feature lenth =  33\n",
      "../../data/data_medico_2018_development_set_features/stool-plenty/20.features\n",
      "EdgeHistogram:0.0,5.0,7.0,0.0,2.0,0.0,5.0,0.0,1.0,1.0,0.0,4.0,0.0,3.0,2.0,3.0,1.0,0.0,7.0,1.0,3.0,3.0,3.0,2.0,0.0,1.0,5.0,5.0,3.0,1.0,0.0,4.0,4.0,2.0,0.0,3.0,1.0,6.0,3.0,4.0,3.0,5.0,0.0,3.0,1.0,2.0,3.0,4.0,2.0,2.0,3.0,3.0,4.0,4.0,3.0,2.0,1.0,5.0,0.0,4.0,2.0,0.0,0.0,0.0,1.0,1.0,2.0,5.0,3.0,3.0,1.0,4.0,4.0,5.0,3.0,2.0,1.0,7.0,2.0,3.0\n",
      "\n",
      "feature name = EdgeHistogram\n",
      "feature values = ['0.0', '5.0', '7.0', '0.0', '2.0', '0.0', '5.0', '0.0', '1.0', '1.0', '0.0', '4.0', '0.0', '3.0', '2.0', '3.0', '1.0', '0.0', '7.0', '1.0', '3.0', '3.0', '3.0', '2.0', '0.0', '1.0', '5.0', '5.0', '3.0', '1.0', '0.0', '4.0', '4.0', '2.0', '0.0', '3.0', '1.0', '6.0', '3.0', '4.0', '3.0', '5.0', '0.0', '3.0', '1.0', '2.0', '3.0', '4.0', '2.0', '2.0', '3.0', '3.0', '4.0', '4.0', '3.0', '2.0', '1.0', '5.0', '0.0', '4.0', '2.0', '0.0', '0.0', '0.0', '1.0', '1.0', '2.0', '5.0', '3.0', '3.0', '1.0', '4.0', '4.0', '5.0', '3.0', '2.0', '1.0', '7.0', '2.0', '3.0\\n']\n",
      "feature lenth =  80\n",
      "../../data/data_medico_2018_development_set_features/stool-plenty/20.features\n",
      "AutoColorCorrelogram:14.0,13.0,13.0,12.0,11.0,8.0,6.0,5.0,8.0,5.0,4.0,3.0,14.0,14.0,13.0,13.0,15.0,14.0,14.0,13.0,15.0,15.0,15.0,14.0,10.0,8.0,6.0,5.0,12.0,9.0,8.0,6.0,2.0,0.0,0.0,0.0,15.0,14.0,13.0,13.0,3.0,1.0,0.0,0.0,13.0,12.0,11.0,10.0,1.0,0.0,0.0,0.0,5.0,2.0,1.0,0.0,5.0,1.0,1.0,1.0,1.0,1.0,0.0,0.0,1.0,0.0,0.0,0.0,7.0,3.0,1.0,0.0,3.0,1.0,0.0,0.0,1.0,0.0,0.0,0.0,1.0,0.0,0.0,0.0,0.0,0.0,0.0,0.0,7.0,4.0,2.0,1.0,0.0,0.0,0.0,0.0,3.0,1.0,0.0,0.0,4.0,0.0,0.0,0.0,4.0,1.0,1.0,0.0,5.0,3.0,2.0,1.0,4.0,2.0,1.0,1.0,6.0,3.0,1.0,1.0,6.0,3.0,2.0,1.0,15.0,15.0,15.0,15.0,6.0,3.0,2.0,0.0,4.0,1.0,0.0,0.0,2.0,0.0,0.0,0.0,8.0,5.0,3.0,2.0,3.0,1.0,0.0,0.0,3.0,0.0,0.0,0.0,4.0,1.0,0.0,0.0,0.0,0.0,0.0,0.0,1.0,0.0,0.0,0.0,1.0,0.0,0.0,0.0,2.0,0.0,0.0,0.0,0.0,1.0,0.0,0.0,4.0,1.0,0.0,0.0,0.0,0.0,0.0,0.0,7.0,4.0,2.0,1.0,0.0,0.0,0.0,0.0,0.0,0.0,0.0,0.0,5.0,1.0,0.0,0.0,0.0,0.0,0.0,0.0,4.0,0.0,0.0,0.0,1.0,0.0,0.0,0.0,0.0,0.0,0.0,0.0,3.0,1.0,0.0,0.0,0.0,0.0,0.0,0.0,0.0,0.0,0.0,0.0,4.0,0.0,0.0,0.0,4.0,1.0,1.0,0.0,1.0,0.0,0.0,0.0,4.0,2.0,1.0,1.0,0.0,0.0,0.0,0.0,4.0,1.0,1.0,0.0,0.0,0.0,0.0,0.0\n",
      "\n",
      "feature name = AutoColorCorrelogram\n",
      "feature values = ['14.0', '13.0', '13.0', '12.0', '11.0', '8.0', '6.0', '5.0', '8.0', '5.0', '4.0', '3.0', '14.0', '14.0', '13.0', '13.0', '15.0', '14.0', '14.0', '13.0', '15.0', '15.0', '15.0', '14.0', '10.0', '8.0', '6.0', '5.0', '12.0', '9.0', '8.0', '6.0', '2.0', '0.0', '0.0', '0.0', '15.0', '14.0', '13.0', '13.0', '3.0', '1.0', '0.0', '0.0', '13.0', '12.0', '11.0', '10.0', '1.0', '0.0', '0.0', '0.0', '5.0', '2.0', '1.0', '0.0', '5.0', '1.0', '1.0', '1.0', '1.0', '1.0', '0.0', '0.0', '1.0', '0.0', '0.0', '0.0', '7.0', '3.0', '1.0', '0.0', '3.0', '1.0', '0.0', '0.0', '1.0', '0.0', '0.0', '0.0', '1.0', '0.0', '0.0', '0.0', '0.0', '0.0', '0.0', '0.0', '7.0', '4.0', '2.0', '1.0', '0.0', '0.0', '0.0', '0.0', '3.0', '1.0', '0.0', '0.0', '4.0', '0.0', '0.0', '0.0', '4.0', '1.0', '1.0', '0.0', '5.0', '3.0', '2.0', '1.0', '4.0', '2.0', '1.0', '1.0', '6.0', '3.0', '1.0', '1.0', '6.0', '3.0', '2.0', '1.0', '15.0', '15.0', '15.0', '15.0', '6.0', '3.0', '2.0', '0.0', '4.0', '1.0', '0.0', '0.0', '2.0', '0.0', '0.0', '0.0', '8.0', '5.0', '3.0', '2.0', '3.0', '1.0', '0.0', '0.0', '3.0', '0.0', '0.0', '0.0', '4.0', '1.0', '0.0', '0.0', '0.0', '0.0', '0.0', '0.0', '1.0', '0.0', '0.0', '0.0', '1.0', '0.0', '0.0', '0.0', '2.0', '0.0', '0.0', '0.0', '0.0', '1.0', '0.0', '0.0', '4.0', '1.0', '0.0', '0.0', '0.0', '0.0', '0.0', '0.0', '7.0', '4.0', '2.0', '1.0', '0.0', '0.0', '0.0', '0.0', '0.0', '0.0', '0.0', '0.0', '5.0', '1.0', '0.0', '0.0', '0.0', '0.0', '0.0', '0.0', '4.0', '0.0', '0.0', '0.0', '1.0', '0.0', '0.0', '0.0', '0.0', '0.0', '0.0', '0.0', '3.0', '1.0', '0.0', '0.0', '0.0', '0.0', '0.0', '0.0', '0.0', '0.0', '0.0', '0.0', '4.0', '0.0', '0.0', '0.0', '4.0', '1.0', '1.0', '0.0', '1.0', '0.0', '0.0', '0.0', '4.0', '2.0', '1.0', '1.0', '0.0', '0.0', '0.0', '0.0', '4.0', '1.0', '1.0', '0.0', '0.0', '0.0', '0.0', '0.0\\n']\n",
      "feature lenth =  256\n",
      "../../data/data_medico_2018_development_set_features/stool-plenty/20.features\n",
      "PHOG:14.0,10.0,4.0,2.0,2.0,1.0,1.0,2.0,1.0,1.0,1.0,2.0,2.0,2.0,6.0,7.0,7.0,3.0,2.0,3.0,3.0,3.0,5.0,4.0,4.0,4.0,5.0,6.0,8.0,14.0,12.0,7.0,4.0,1.0,2.0,0.0,0.0,1.0,1.0,0.0,1.0,1.0,0.0,0.0,3.0,3.0,4.0,1.0,0.0,2.0,2.0,1.0,4.0,5.0,4.0,5.0,6.0,7.0,10.0,15.0,15.0,12.0,8.0,5.0,3.0,3.0,1.0,1.0,1.0,1.0,0.0,0.0,0.0,0.0,0.0,0.0,0.0,0.0,1.0,1.0,1.0,1.0,1.0,1.0,2.0,2.0,1.0,1.0,3.0,9.0,15.0,10.0,1.0,0.0,1.0,1.0,0.0,1.0,0.0,1.0,2.0,1.0,3.0,3.0,10.0,12.0,9.0,3.0,2.0,2.0,2.0,1.0,2.0,1.0,1.0,1.0,2.0,3.0,5.0,13.0,7.0,5.0,4.0,4.0,4.0,3.0,5.0,4.0,4.0,4.0,4.0,5.0,5.0,4.0,7.0,10.0,11.0,9.0,8.0,6.0,9.0,15.0,14.0,7.0,6.0,7.0,6.0,7.0,6.0,5.0,5.0,6.0,1.0,0.0,6.0,0.0,0.0,5.0,5.0,0.0,3.0,3.0,0.0,0.0,7.0,5.0,9.0,0.0,0.0,3.0,3.0,0.0,9.0,11.0,8.0,11.0,14.0,12.0,13.0,15.0,7.0,2.0,1.0,1.0,0.0,1.0,1.0,0.0,0.0,0.0,0.0,0.0,0.0,2.0,6.0,6.0,9.0,3.0,2.0,3.0,4.0,4.0,6.0,6.0,6.0,6.0,7.0,10.0,14.0,11.0,13.0,6.0,0.0,0.0,0.0,0.0,0.0,0.0,0.0,0.0,1.0,1.0,0.0,1.0,4.0,4.0,3.0,1.0,0.0,0.0,0.0,0.0,0.0,0.0,0.0,1.0,1.0,3.0,7.0,14.0,14.0,10.0,2.0,1.0,0.0,1.0,0.0,1.0,1.0,1.0,3.0,3.0,7.0,8.0,12.0,15.0,11.0,6.0,4.0,4.0,4.0,4.0,4.0,3.0,2.0,1.0,1.0,1.0,1.0,7.0,15.0,10.0,6.0,2.0,0.0,0.0,0.0,0.0,0.0,0.0,0.0,0.0,0.0,0.0,0.0,0.0,0.0,0.0,0.0,0.0,0.0,0.0,0.0,0.0,0.0,0.0,0.0,0.0,1.0,9.0,11.0,4.0,2.0,1.0,1.0,0.0,0.0,0.0,0.0,0.0,0.0,0.0,0.0,0.0,0.0,1.0,0.0,0.0,0.0,1.0,1.0,1.0,2.0,2.0,3.0,3.0,3.0,5.0,9.0,15.0,12.0,8.0,0.0,0.0,1.0,1.0,1.0,1.0,0.0,0.0,0.0,0.0,1.0,0.0,4.0,5.0,9.0,0.0,0.0,1.0,1.0,0.0,1.0,1.0,0.0,0.0,1.0,3.0,7.0,15.0,6.0,7.0,0.0,0.0,0.0,0.0,0.0,0.0,0.0,0.0,0.0,0.0,0.0,1.0,11.0,15.0,10.0,1.0,0.0,1.0,0.0,1.0,1.0,1.0,1.0,2.0,2.0,1.0,1.0,3.0,13.0,15.0,12.0,9.0,4.0,4.0,2.0,1.0,0.0,0.0,0.0,0.0,0.0,0.0,0.0,0.0,0.0,0.0,0.0,0.0,0.0,0.0,0.0,0.0,0.0,1.0,1.0,1.0,4.0,7.0,15.0,8.0,1.0,0.0,0.0,0.0,0.0,0.0,0.0,0.0,0.0,0.0,0.0,0.0,0.0,0.0,0.0,0.0,0.0,0.0,0.0,0.0,0.0,0.0,0.0,0.0,0.0,1.0,2.0,12.0,8.0,8.0,6.0,9.0,15.0,11.0,13.0,7.0,10.0,5.0,3.0,3.0,2.0,0.0,3.0,6.0,4.0,8.0,7.0,7.0,3.0,11.0,4.0,6.0,13.0,6.0,4.0,6.0,6.0,5.0,11.0,7.0,4.0,4.0,5.0,3.0,5.0,5.0,4.0,3.0,2.0,3.0,3.0,4.0,6.0,6.0,6.0,15.0,10.0,7.0,6.0,8.0,10.0,9.0,9.0,12.0,11.0,13.0,10.0,7.0,12.0,7.0,11.0,10.0,11.0,15.0,5.0,6.0,8.0,3.0,0.0,0.0,0.0,0.0,0.0,0.0,0.0,1.0,0.0,1.0,0.0,0.0,0.0,0.0,0.0,2.0,1.0,0.0,2.0,4.0,6.0,3.0,6.0,2.0,3.0,2.0,3.0,3.0,6.0,5.0,4.0,3.0,3.0,3.0,3.0,3.0,4.0,5.0,6.0,9.0,9.0,8.0,12.0,13.0,15.0,12.0,5.0,1.0,4.0,3.0,2.0,3.0,7.0,3.0,3.0,4.0,7.0,7.0,9.0,11.0,15.0,14.0,14.0,5.0,3.0,7.0,5.0,12.0,10.0,4.0,4.0,5.0,3.0,3.0,0.0,5.0,1.0,3.0,2.0,2.0,3.0,3.0,2.0,2.0,2.0,1.0,1.0,2.0,1.0,1.0,2.0,3.0,3.0,2.0,6.0,9.0,11.0,3.0,3.0,3.0,9.0,14.0,15.0,4.0,2.0,2.0,2.0,3.0,3.0,2.0\n",
      "\n",
      "feature name = PHOG\n",
      "feature values = ['14.0', '10.0', '4.0', '2.0', '2.0', '1.0', '1.0', '2.0', '1.0', '1.0', '1.0', '2.0', '2.0', '2.0', '6.0', '7.0', '7.0', '3.0', '2.0', '3.0', '3.0', '3.0', '5.0', '4.0', '4.0', '4.0', '5.0', '6.0', '8.0', '14.0', '12.0', '7.0', '4.0', '1.0', '2.0', '0.0', '0.0', '1.0', '1.0', '0.0', '1.0', '1.0', '0.0', '0.0', '3.0', '3.0', '4.0', '1.0', '0.0', '2.0', '2.0', '1.0', '4.0', '5.0', '4.0', '5.0', '6.0', '7.0', '10.0', '15.0', '15.0', '12.0', '8.0', '5.0', '3.0', '3.0', '1.0', '1.0', '1.0', '1.0', '0.0', '0.0', '0.0', '0.0', '0.0', '0.0', '0.0', '0.0', '1.0', '1.0', '1.0', '1.0', '1.0', '1.0', '2.0', '2.0', '1.0', '1.0', '3.0', '9.0', '15.0', '10.0', '1.0', '0.0', '1.0', '1.0', '0.0', '1.0', '0.0', '1.0', '2.0', '1.0', '3.0', '3.0', '10.0', '12.0', '9.0', '3.0', '2.0', '2.0', '2.0', '1.0', '2.0', '1.0', '1.0', '1.0', '2.0', '3.0', '5.0', '13.0', '7.0', '5.0', '4.0', '4.0', '4.0', '3.0', '5.0', '4.0', '4.0', '4.0', '4.0', '5.0', '5.0', '4.0', '7.0', '10.0', '11.0', '9.0', '8.0', '6.0', '9.0', '15.0', '14.0', '7.0', '6.0', '7.0', '6.0', '7.0', '6.0', '5.0', '5.0', '6.0', '1.0', '0.0', '6.0', '0.0', '0.0', '5.0', '5.0', '0.0', '3.0', '3.0', '0.0', '0.0', '7.0', '5.0', '9.0', '0.0', '0.0', '3.0', '3.0', '0.0', '9.0', '11.0', '8.0', '11.0', '14.0', '12.0', '13.0', '15.0', '7.0', '2.0', '1.0', '1.0', '0.0', '1.0', '1.0', '0.0', '0.0', '0.0', '0.0', '0.0', '0.0', '2.0', '6.0', '6.0', '9.0', '3.0', '2.0', '3.0', '4.0', '4.0', '6.0', '6.0', '6.0', '6.0', '7.0', '10.0', '14.0', '11.0', '13.0', '6.0', '0.0', '0.0', '0.0', '0.0', '0.0', '0.0', '0.0', '0.0', '1.0', '1.0', '0.0', '1.0', '4.0', '4.0', '3.0', '1.0', '0.0', '0.0', '0.0', '0.0', '0.0', '0.0', '0.0', '1.0', '1.0', '3.0', '7.0', '14.0', '14.0', '10.0', '2.0', '1.0', '0.0', '1.0', '0.0', '1.0', '1.0', '1.0', '3.0', '3.0', '7.0', '8.0', '12.0', '15.0', '11.0', '6.0', '4.0', '4.0', '4.0', '4.0', '4.0', '3.0', '2.0', '1.0', '1.0', '1.0', '1.0', '7.0', '15.0', '10.0', '6.0', '2.0', '0.0', '0.0', '0.0', '0.0', '0.0', '0.0', '0.0', '0.0', '0.0', '0.0', '0.0', '0.0', '0.0', '0.0', '0.0', '0.0', '0.0', '0.0', '0.0', '0.0', '0.0', '0.0', '0.0', '0.0', '1.0', '9.0', '11.0', '4.0', '2.0', '1.0', '1.0', '0.0', '0.0', '0.0', '0.0', '0.0', '0.0', '0.0', '0.0', '0.0', '0.0', '1.0', '0.0', '0.0', '0.0', '1.0', '1.0', '1.0', '2.0', '2.0', '3.0', '3.0', '3.0', '5.0', '9.0', '15.0', '12.0', '8.0', '0.0', '0.0', '1.0', '1.0', '1.0', '1.0', '0.0', '0.0', '0.0', '0.0', '1.0', '0.0', '4.0', '5.0', '9.0', '0.0', '0.0', '1.0', '1.0', '0.0', '1.0', '1.0', '0.0', '0.0', '1.0', '3.0', '7.0', '15.0', '6.0', '7.0', '0.0', '0.0', '0.0', '0.0', '0.0', '0.0', '0.0', '0.0', '0.0', '0.0', '0.0', '1.0', '11.0', '15.0', '10.0', '1.0', '0.0', '1.0', '0.0', '1.0', '1.0', '1.0', '1.0', '2.0', '2.0', '1.0', '1.0', '3.0', '13.0', '15.0', '12.0', '9.0', '4.0', '4.0', '2.0', '1.0', '0.0', '0.0', '0.0', '0.0', '0.0', '0.0', '0.0', '0.0', '0.0', '0.0', '0.0', '0.0', '0.0', '0.0', '0.0', '0.0', '0.0', '1.0', '1.0', '1.0', '4.0', '7.0', '15.0', '8.0', '1.0', '0.0', '0.0', '0.0', '0.0', '0.0', '0.0', '0.0', '0.0', '0.0', '0.0', '0.0', '0.0', '0.0', '0.0', '0.0', '0.0', '0.0', '0.0', '0.0', '0.0', '0.0', '0.0', '0.0', '0.0', '1.0', '2.0', '12.0', '8.0', '8.0', '6.0', '9.0', '15.0', '11.0', '13.0', '7.0', '10.0', '5.0', '3.0', '3.0', '2.0', '0.0', '3.0', '6.0', '4.0', '8.0', '7.0', '7.0', '3.0', '11.0', '4.0', '6.0', '13.0', '6.0', '4.0', '6.0', '6.0', '5.0', '11.0', '7.0', '4.0', '4.0', '5.0', '3.0', '5.0', '5.0', '4.0', '3.0', '2.0', '3.0', '3.0', '4.0', '6.0', '6.0', '6.0', '15.0', '10.0', '7.0', '6.0', '8.0', '10.0', '9.0', '9.0', '12.0', '11.0', '13.0', '10.0', '7.0', '12.0', '7.0', '11.0', '10.0', '11.0', '15.0', '5.0', '6.0', '8.0', '3.0', '0.0', '0.0', '0.0', '0.0', '0.0', '0.0', '0.0', '1.0', '0.0', '1.0', '0.0', '0.0', '0.0', '0.0', '0.0', '2.0', '1.0', '0.0', '2.0', '4.0', '6.0', '3.0', '6.0', '2.0', '3.0', '2.0', '3.0', '3.0', '6.0', '5.0', '4.0', '3.0', '3.0', '3.0', '3.0', '3.0', '4.0', '5.0', '6.0', '9.0', '9.0', '8.0', '12.0', '13.0', '15.0', '12.0', '5.0', '1.0', '4.0', '3.0', '2.0', '3.0', '7.0', '3.0', '3.0', '4.0', '7.0', '7.0', '9.0', '11.0', '15.0', '14.0', '14.0', '5.0', '3.0', '7.0', '5.0', '12.0', '10.0', '4.0', '4.0', '5.0', '3.0', '3.0', '0.0', '5.0', '1.0', '3.0', '2.0', '2.0', '3.0', '3.0', '2.0', '2.0', '2.0', '1.0', '1.0', '2.0', '1.0', '1.0', '2.0', '3.0', '3.0', '2.0', '6.0', '9.0', '11.0', '3.0', '3.0', '3.0', '9.0', '14.0', '15.0', '4.0', '2.0', '2.0', '2.0', '3.0', '3.0', '2.0\\n']\n",
      "feature lenth =  630\n"
     ]
    }
   ],
   "source": [
    "f = open(file_path, \"r\")\n",
    "\n",
    "for line in f:\n",
    "    print(file_path)\n",
    "    print(line)\n",
    "    fields_2 = line.split(\":\")\n",
    "    \n",
    "    feature_name = fields_2[0]\n",
    "    feature_values = fields_2[1].split(\",\")\n",
    "    print(\"feature name =\", feature_name)\n",
    "    print(\"feature values =\", feature_values)\n",
    "    print(\"feature lenth = \", len(feature_values))\n",
    "   # print(len(fields_2[1]))\n",
    "    \n",
    "f.close()\n",
    "    "
   ]
  },
  {
   "cell_type": "code",
   "execution_count": 60,
   "metadata": {},
   "outputs": [],
   "source": [
    "JCD_feature_size = 168"
   ]
  },
  {
   "cell_type": "code",
   "execution_count": 61,
   "metadata": {},
   "outputs": [],
   "source": [
    "Tamura_feature_size = 18"
   ]
  },
  {
   "cell_type": "code",
   "execution_count": 62,
   "metadata": {},
   "outputs": [],
   "source": [
    "ColorLayout_feature_size = 33"
   ]
  },
  {
   "cell_type": "code",
   "execution_count": 63,
   "metadata": {},
   "outputs": [],
   "source": [
    "EdgeHistogram_feature_size = 80"
   ]
  },
  {
   "cell_type": "code",
   "execution_count": 64,
   "metadata": {},
   "outputs": [],
   "source": [
    "AutoColorCorrelogram_feature_size = 256"
   ]
  },
  {
   "cell_type": "code",
   "execution_count": 65,
   "metadata": {},
   "outputs": [],
   "source": [
    "PHOG_feature_size = 630"
   ]
  },
  {
   "cell_type": "code",
   "execution_count": null,
   "metadata": {},
   "outputs": [],
   "source": []
  },
  {
   "cell_type": "code",
   "execution_count": null,
   "metadata": {},
   "outputs": [],
   "source": []
  },
  {
   "cell_type": "code",
   "execution_count": 75,
   "metadata": {},
   "outputs": [],
   "source": [
    "arff_file = open(out_directory + \"/test.arff\", \"w\")\n",
    "arff_file.write(\"@RELATION medico\\n\\n\")\n",
    "\n",
    "arff_file.write(\"@ATTRIBUTE filename string\\n\")\n",
    "\n",
    "for i in range(JCD_feature_size):\n",
    "    arff_file.write(\"@ATTRIBUTE JCD{0} NUMERIC\\n\".format(i))  \n",
    "\n",
    "    \n",
    "for i in range(Tamura_feature_size):\n",
    "    arff_file.write(\"@ATTRIBUTE Tamura{0} NUMERIC\\n\".format(i))\n",
    "    \n",
    "\n",
    "for i in range(ColorLayout_feature_size):\n",
    "    arff_file.write(\"@ATTRIBUTE ColorLayout{0} NUMERIC\\n\".format(i))\n",
    "\n",
    "    \n",
    "for i in range(EdgeHistogram_feature_size):\n",
    "    arff_file.write(\"@ATTRIBUTE EdgeHistogram{0} NUMERIC\\n\".format(i))\n",
    "    \n",
    "    \n",
    "for i in range(AutoColorCorrelogram_feature_size):\n",
    "    arff_file.write(\"@ATTRIBUTE AutoColorCorrelogram{0} NUMERIC\\n\".format(i))\n",
    "    \n",
    "    \n",
    "for i in range(PHOG_feature_size):\n",
    "    arff_file.write(\"@ATTRIBUTE PHOG_feature_size{0} NUMERIC\\n\".format(i))\n",
    "    \n",
    "    \n",
    "\n",
    "arff_file.write(\"@ATTRIBUTE class {\" + \",\".join(class_dir_list) + \"}\\n\\n\")\n",
    "\n",
    "# Writing data\n",
    "arff_file.write(\"@DATA\\n\")\n",
    "arff_file.write(class_dir_list[0] + \"/\"+file[0:-9] +\",\")\n",
    "arff_file.write(class_dir_list[0] + \"/\"+file[0:-9] +\",\")\n",
    "\n",
    "arff_file.close()"
   ]
  },
  {
   "cell_type": "code",
   "execution_count": null,
   "metadata": {},
   "outputs": [],
   "source": []
  },
  {
   "cell_type": "code",
   "execution_count": null,
   "metadata": {},
   "outputs": [],
   "source": []
  },
  {
   "cell_type": "code",
   "execution_count": null,
   "metadata": {},
   "outputs": [],
   "source": [
    "f = open(file_path, \"r\")\n",
    "\n",
    "for line in f:\n",
    "    print(file_path)\n",
    "    print(line)\n",
    "    fields_2 = line.split(\":\")\n",
    "    \n",
    "    feature_name = fields_2[0]\n",
    "    feature_values = fields_2[1].split(\",\")\n",
    "    print(\"feature name =\", feature_name)\n",
    "    print(\"feature values =\", feature_values)\n",
    "    print(\"feature lenth = \", len(feature_values))\n",
    "   # print(len(fields_2[1]))\n",
    "    \n",
    "f.close()\n",
    "    "
   ]
  },
  {
   "cell_type": "code",
   "execution_count": 81,
   "metadata": {},
   "outputs": [
    {
     "name": "stdout",
     "output_type": "stream",
     "text": [
      "../../data/data_medico_2018_development_set_features/stool-plenty/20.features\n",
      "JCD:1.5,0.0,2.0,0.0,0.0,0.0,4.5,5.5,5.0,0.5,0.0,0.0,0.0,0.0,0.0,0.0,2.5,1.5,0.0,0.0,0.0,0.0,0.0,0.0,0.0,0.0,0.0,0.0,0.0,0.0,2.5,3.5,2.5,0.0,0.0,0.0,0.0,0.0,0.0,0.0,0.5,0.5,0.0,0.0,0.0,0.0,0.0,0.0,0.0,0.0,0.0,0.0,0.0,0.0,2.0,2.0,2.0,0.0,0.0,0.0,0.0,0.0,0.0,0.0,0.0,0.0,0.0,0.0,0.0,0.0,0.0,0.0,0.0,0.5,0.5,0.0,0.0,0.0,1.0,1.5,2.0,0.0,0.0,0.0,0.0,0.0,0.0,0.0,0.0,0.0,0.0,0.0,0.0,0.0,0.0,0.0,0.0,0.0,0.0,0.0,0.0,0.0,1.0,2.0,2.0,0.0,0.0,0.0,0.0,0.0,0.0,0.0,0.0,0.0,0.0,0.0,0.0,0.0,0.0,0.0,0.0,0.0,0.0,0.0,0.0,0.0,0.0,0.0,0.0,0.0,0.0,0.0,0.0,0.0,0.0,0.0,0.0,0.0,0.0,0.0,0.0,0.0,0.0,0.0,0.0,0.0,0.0,0.0,0.0,0.0,1.0,1.0,2.0,0.0,0.0,0.0,0.0,0.0,0.0,0.0,0.0,0.0,0.0,0.0,0.0,0.0,0.0,0.0\n",
      "\n",
      "feature name = JCD\n",
      "feature values = ['1.5', '0.0', '2.0', '0.0', '0.0', '0.0', '4.5', '5.5', '5.0', '0.5', '0.0', '0.0', '0.0', '0.0', '0.0', '0.0', '2.5', '1.5', '0.0', '0.0', '0.0', '0.0', '0.0', '0.0', '0.0', '0.0', '0.0', '0.0', '0.0', '0.0', '2.5', '3.5', '2.5', '0.0', '0.0', '0.0', '0.0', '0.0', '0.0', '0.0', '0.5', '0.5', '0.0', '0.0', '0.0', '0.0', '0.0', '0.0', '0.0', '0.0', '0.0', '0.0', '0.0', '0.0', '2.0', '2.0', '2.0', '0.0', '0.0', '0.0', '0.0', '0.0', '0.0', '0.0', '0.0', '0.0', '0.0', '0.0', '0.0', '0.0', '0.0', '0.0', '0.0', '0.5', '0.5', '0.0', '0.0', '0.0', '1.0', '1.5', '2.0', '0.0', '0.0', '0.0', '0.0', '0.0', '0.0', '0.0', '0.0', '0.0', '0.0', '0.0', '0.0', '0.0', '0.0', '0.0', '0.0', '0.0', '0.0', '0.0', '0.0', '0.0', '1.0', '2.0', '2.0', '0.0', '0.0', '0.0', '0.0', '0.0', '0.0', '0.0', '0.0', '0.0', '0.0', '0.0', '0.0', '0.0', '0.0', '0.0', '0.0', '0.0', '0.0', '0.0', '0.0', '0.0', '0.0', '0.0', '0.0', '0.0', '0.0', '0.0', '0.0', '0.0', '0.0', '0.0', '0.0', '0.0', '0.0', '0.0', '0.0', '0.0', '0.0', '0.0', '0.0', '0.0', '0.0', '0.0', '0.0', '0.0', '1.0', '1.0', '2.0', '0.0', '0.0', '0.0', '0.0', '0.0', '0.0', '0.0', '0.0', '0.0', '0.0', '0.0', '0.0', '0.0', '0.0', '0.0\\n']\n",
      "feature lenth =  168\n"
     ]
    },
    {
     "ename": "AttributeError",
     "evalue": "'list' object has no attribute 'rstrip'",
     "output_type": "error",
     "traceback": [
      "\u001b[0;31m-------------------------------------------\u001b[0m",
      "\u001b[0;31mAttributeError\u001b[0mTraceback (most recent call last)",
      "\u001b[0;32m<ipython-input-81-1cab3d4ca321>\u001b[0m in \u001b[0;36m<module>\u001b[0;34m()\u001b[0m\n\u001b[1;32m     48\u001b[0m     \u001b[0mprint\u001b[0m\u001b[0;34m(\u001b[0m\u001b[0;34m\"feature lenth = \"\u001b[0m\u001b[0;34m,\u001b[0m \u001b[0mlen\u001b[0m\u001b[0;34m(\u001b[0m\u001b[0mfeature_values\u001b[0m\u001b[0;34m)\u001b[0m\u001b[0;34m)\u001b[0m\u001b[0;34m\u001b[0m\u001b[0m\n\u001b[1;32m     49\u001b[0m    \u001b[0;31m# print(len(fields_2[1]))\u001b[0m\u001b[0;34m\u001b[0m\u001b[0;34m\u001b[0m\u001b[0m\n\u001b[0;32m---> 50\u001b[0;31m     \u001b[0marff_file\u001b[0m\u001b[0;34m.\u001b[0m\u001b[0mwrite\u001b[0m\u001b[0;34m(\u001b[0m\u001b[0;34m\",\"\u001b[0m\u001b[0;34m.\u001b[0m\u001b[0mjoin\u001b[0m\u001b[0;34m(\u001b[0m\u001b[0mfeature_values\u001b[0m\u001b[0;34m.\u001b[0m\u001b[0mrstrip\u001b[0m\u001b[0;34m(\u001b[0m\u001b[0;34m)\u001b[0m\u001b[0;34m)\u001b[0m\u001b[0;34m)\u001b[0m\u001b[0;34m\u001b[0m\u001b[0m\n\u001b[0m\u001b[1;32m     51\u001b[0m \u001b[0;34m\u001b[0m\u001b[0m\n\u001b[1;32m     52\u001b[0m \u001b[0mf\u001b[0m\u001b[0;34m.\u001b[0m\u001b[0mclose\u001b[0m\u001b[0;34m(\u001b[0m\u001b[0;34m)\u001b[0m\u001b[0;34m\u001b[0m\u001b[0m\n",
      "\u001b[0;31mAttributeError\u001b[0m: 'list' object has no attribute 'rstrip'"
     ]
    }
   ],
   "source": [
    "arff_file = open(out_directory + \"/test.arff\", \"w\")\n",
    "arff_file.write(\"@RELATION medico\\n\\n\")\n",
    "\n",
    "arff_file.write(\"@ATTRIBUTE filename string\\n\")\n",
    "\n",
    "for i in range(JCD_feature_size):\n",
    "    arff_file.write(\"@ATTRIBUTE JCD{0} NUMERIC\\n\".format(i))  \n",
    "\n",
    "    \n",
    "for i in range(Tamura_feature_size):\n",
    "    arff_file.write(\"@ATTRIBUTE Tamura{0} NUMERIC\\n\".format(i))\n",
    "    \n",
    "\n",
    "for i in range(ColorLayout_feature_size):\n",
    "    arff_file.write(\"@ATTRIBUTE ColorLayout{0} NUMERIC\\n\".format(i))\n",
    "\n",
    "    \n",
    "for i in range(EdgeHistogram_feature_size):\n",
    "    arff_file.write(\"@ATTRIBUTE EdgeHistogram{0} NUMERIC\\n\".format(i))\n",
    "    \n",
    "    \n",
    "for i in range(AutoColorCorrelogram_feature_size):\n",
    "    arff_file.write(\"@ATTRIBUTE AutoColorCorrelogram{0} NUMERIC\\n\".format(i))\n",
    "    \n",
    "    \n",
    "for i in range(PHOG_feature_size):\n",
    "    arff_file.write(\"@ATTRIBUTE PHOG_feature_size{0} NUMERIC\\n\".format(i))\n",
    "    \n",
    "    \n",
    "\n",
    "arff_file.write(\"@ATTRIBUTE class {\" + \",\".join(class_dir_list) + \"}\\n\\n\")\n",
    "\n",
    "# Writing data\n",
    "arff_file.write(\"@DATA\\n\")\n",
    "arff_file.write(class_dir_list[0] + \"/\"+file[0:-9] +\",\")\n",
    "\n",
    "f = open(file_path, \"r\")\n",
    "\n",
    "for line in f:\n",
    "    print(file_path)\n",
    "    print(line)\n",
    "    fields_2 = line.split(\":\")\n",
    "    \n",
    "    feature_name = fields_2[0]\n",
    "    feature_values = fields_2[1].split(\",\")\n",
    "    print(\"feature name =\", feature_name)\n",
    "    print(\"feature values =\", feature_values)\n",
    "    print(\"feature lenth = \", len(feature_values))\n",
    "   # print(len(fields_2[1]))\n",
    "    arff_file.write(\",\".join(feature_values))\n",
    "    \n",
    "f.close()\n",
    "\n",
    "arff_file.close()"
   ]
  },
  {
   "cell_type": "code",
   "execution_count": null,
   "metadata": {},
   "outputs": [],
   "source": []
  }
 ],
 "metadata": {
  "kernelspec": {
   "display_name": "Python 3",
   "language": "python",
   "name": "python3"
  },
  "language_info": {
   "codemirror_mode": {
    "name": "ipython",
    "version": 3
   },
   "file_extension": ".py",
   "mimetype": "text/x-python",
   "name": "python",
   "nbconvert_exporter": "python",
   "pygments_lexer": "ipython3",
   "version": "3.6.5"
  }
 },
 "nbformat": 4,
 "nbformat_minor": 2
}
