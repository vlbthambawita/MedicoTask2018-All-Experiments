{
 "cells": [
  {
   "cell_type": "markdown",
   "metadata": {},
   "source": [
    "# This is Medical Image Data Generator"
   ]
  },
  {
   "cell_type": "code",
   "execution_count": 1,
   "metadata": {},
   "outputs": [],
   "source": [
    "import os\n",
    "import shutil"
   ]
  },
  {
   "cell_type": "markdown",
   "metadata": {},
   "source": [
    "### Change this name to new for creating new data folder from the original data folder"
   ]
  },
  {
   "cell_type": "code",
   "execution_count": 3,
   "metadata": {},
   "outputs": [],
   "source": [
    "base_dir = 'data_v2'"
   ]
  },
  {
   "cell_type": "code",
   "execution_count": 11,
   "metadata": {},
   "outputs": [],
   "source": [
    "train_dir = os.path.join(base_dir, 'train')\n",
    "validation_dir = os.path.join(base_dir, 'validation')\n",
    "test_dir = os.path.join(base_dir, 'test')\n",
    "\n",
    "\n",
    "main_classification_types = ['dyed-lifted-polyps',\n",
    "                             'dyed-resection-margins',\n",
    "                             'esophagitis',\n",
    "                             'normal-cecum',\n",
    "                             'normal-pylorus',\n",
    "                             'normal-z-line',\n",
    "                             'polyps',\n",
    "                             'ulcerative-colitis']\n",
    "\n",
    "# original data location path\n",
    "original_data_folder_name = '/home/vajira/simula/Datasets/kvasir_v2_preprocessed_borders_navbox_removed'"
   ]
  },
  {
   "cell_type": "markdown",
   "metadata": {},
   "source": [
    "## Change these values for generating new train, validation and test data sets"
   ]
  },
  {
   "cell_type": "code",
   "execution_count": 6,
   "metadata": {},
   "outputs": [],
   "source": [
    "train_size = 600\n",
    "validation_size = 200\n",
    "test_size = 200"
   ]
  },
  {
   "cell_type": "markdown",
   "metadata": {},
   "source": [
    "## Function for making new directory structure"
   ]
  },
  {
   "cell_type": "code",
   "execution_count": 7,
   "metadata": {},
   "outputs": [],
   "source": [
    "def make_folder_structure(base_dir, main_classification_types_dirs):\n",
    "\n",
    "    train_dir_list = []\n",
    "    validation_dir_list = []\n",
    "    test_dir_list = []\n",
    "\n",
    "\n",
    "    if not os.path.exists(base_dir):\n",
    "        os.mkdir(base_dir)  # new directory to make directory structure and load data\n",
    "\n",
    "    main_directory_names = ['train', 'validation', 'test']\n",
    "\n",
    "    for main_dir_name in main_directory_names:\n",
    "        dir = os.path.join(base_dir, main_dir_name)\n",
    "        if not os.path.exists(dir):\n",
    "            os.mkdir(dir)\n",
    "\n",
    "        for main_classification_types_dir in main_classification_types_dirs:\n",
    "            type_dir = os.path.join(dir, main_classification_types_dir)\n",
    "\n",
    "            if main_dir_name == 'train':\n",
    "                train_dir_list.append(type_dir)\n",
    "\n",
    "            elif main_dir_name == 'validation':\n",
    "                validation_dir_list.append(type_dir)\n",
    "\n",
    "            elif main_dir_name == 'test':\n",
    "                test_dir_list.append(type_dir)\n",
    "\n",
    "            if not os.path.exists(type_dir):\n",
    "                os.mkdir(type_dir)\n",
    "\n",
    "    return train_dir_list, validation_dir_list, test_dir_list\n"
   ]
  },
  {
   "cell_type": "markdown",
   "metadata": {},
   "source": [
    "## Function for loading data to new directory structure "
   ]
  },
  {
   "cell_type": "code",
   "execution_count": 8,
   "metadata": {},
   "outputs": [],
   "source": [
    "def load_data_to_folder(original_data_folder, # original data folder\n",
    "                        base_dir,  # folder to create training, validation and testing data\n",
    "                        main_classification_types,  # main class types of the problem\n",
    "                        size_of_training,  # number of images to training set\n",
    "                        size_of_validation,  # number of images to validation set\n",
    "                        size_of_testing):  # number of images to testing set\n",
    "\n",
    "    for class_type in main_classification_types:\n",
    "        src_dir = os.path.join(original_data_folder, class_type)\n",
    "        files = os.listdir(src_dir)\n",
    "\n",
    "        training_files = files[0:size_of_training]\n",
    "        validation_files = files[size_of_training:size_of_training + size_of_validation]\n",
    "        testing_files = files[size_of_training + size_of_validation:size_of_training + size_of_validation + size_of_testing]\n",
    "\n",
    "        print(len(files))\n",
    "\n",
    "        # copying training images\n",
    "        for file in training_files:\n",
    "            src_file = os.path.join(src_dir, file)\n",
    "            dst_file = os.path.join(base_dir + '/train/' + class_type, file)\n",
    "            if not os.path.exists(dst_file):\n",
    "                shutil.copyfile(src_file, dst_file)\n",
    "\n",
    "        # copying validaton images\n",
    "        for file in validation_files:\n",
    "            src_file = os.path.join(src_dir, file)\n",
    "            dst_file = os.path.join(base_dir + '/validation/' + class_type, file)\n",
    "            if not os.path.exists(dst_file):\n",
    "                shutil.copyfile(src_file, dst_file)\n",
    "\n",
    "        # copying testing images\n",
    "        for file in testing_files:\n",
    "            src_file = os.path.join(src_dir, file)\n",
    "            dst_file = os.path.join(base_dir + '/test/' + class_type, file)\n",
    "            if not os.path.exists(dst_file):\n",
    "                shutil.copyfile(src_file, dst_file)\n",
    "\n",
    "        #training_dir = os.path.join(base_dir, 'train')\n",
    "\n"
   ]
  },
  {
   "cell_type": "markdown",
   "metadata": {},
   "source": [
    "### Generating new folder structure for new data set version 2 with more training data and less validation and testing data"
   ]
  },
  {
   "cell_type": "code",
   "execution_count": 9,
   "metadata": {},
   "outputs": [
    {
     "data": {
      "text/plain": [
       "(['data_v2/train/dyed-lifted-polyps',\n",
       "  'data_v2/train/dyed-resection-margins',\n",
       "  'data_v2/train/esophagitis',\n",
       "  'data_v2/train/normal-cecum',\n",
       "  'data_v2/train/normal-pylorus',\n",
       "  'data_v2/train/normal-z-line',\n",
       "  'data_v2/train/polyps',\n",
       "  'data_v2/train/ulcerative-colitis'],\n",
       " ['data_v2/validation/dyed-lifted-polyps',\n",
       "  'data_v2/validation/dyed-resection-margins',\n",
       "  'data_v2/validation/esophagitis',\n",
       "  'data_v2/validation/normal-cecum',\n",
       "  'data_v2/validation/normal-pylorus',\n",
       "  'data_v2/validation/normal-z-line',\n",
       "  'data_v2/validation/polyps',\n",
       "  'data_v2/validation/ulcerative-colitis'],\n",
       " ['data_v2/test/dyed-lifted-polyps',\n",
       "  'data_v2/test/dyed-resection-margins',\n",
       "  'data_v2/test/esophagitis',\n",
       "  'data_v2/test/normal-cecum',\n",
       "  'data_v2/test/normal-pylorus',\n",
       "  'data_v2/test/normal-z-line',\n",
       "  'data_v2/test/polyps',\n",
       "  'data_v2/test/ulcerative-colitis'])"
      ]
     },
     "execution_count": 9,
     "metadata": {},
     "output_type": "execute_result"
    }
   ],
   "source": [
    "make_folder_structure(base_dir, main_classification_types)"
   ]
  },
  {
   "cell_type": "code",
   "execution_count": 12,
   "metadata": {},
   "outputs": [
    {
     "name": "stdout",
     "output_type": "stream",
     "text": [
      "1000\n",
      "1000\n",
      "1000\n",
      "1000\n",
      "1000\n",
      "1000\n",
      "1000\n",
      "1000\n"
     ]
    }
   ],
   "source": [
    "load_data_to_folder(original_data_folder_name, base_dir, main_classification_types, train_size, validation_size, test_size)"
   ]
  },
  {
   "cell_type": "code",
   "execution_count": null,
   "metadata": {},
   "outputs": [],
   "source": []
  }
 ],
 "metadata": {
  "kernelspec": {
   "display_name": "Python 3",
   "language": "python",
   "name": "python3"
  },
  "language_info": {
   "codemirror_mode": {
    "name": "ipython",
    "version": 3
   },
   "file_extension": ".py",
   "mimetype": "text/x-python",
   "name": "python",
   "nbconvert_exporter": "python",
   "pygments_lexer": "ipython3",
   "version": "3.6.5"
  }
 },
 "nbformat": 4,
 "nbformat_minor": 2
}
