{
 "cells": [
  {
   "cell_type": "markdown",
   "metadata": {},
   "source": [
    "# This is Medical Image Data Generator"
   ]
  },
  {
   "cell_type": "code",
   "execution_count": 1,
   "metadata": {},
   "outputs": [],
   "source": [
    "import os\n",
    "import shutil\n",
    "import math"
   ]
  },
  {
   "cell_type": "markdown",
   "metadata": {},
   "source": [
    "### Change this name to new for creating new data folder from the original data folder"
   ]
  },
  {
   "cell_type": "code",
   "execution_count": 2,
   "metadata": {},
   "outputs": [],
   "source": [
    "base_dir = '../../data/data_generated_medicotask_70_30_features'"
   ]
  },
  {
   "cell_type": "code",
   "execution_count": 3,
   "metadata": {},
   "outputs": [],
   "source": [
    "train_dir = os.path.join(base_dir, 'train')\n",
    "validation_dir = os.path.join(base_dir, 'validation')\n",
    "#test_dir = os.path.join(base_dir, 'test')\n",
    "\n",
    "\n",
    "main_classification_types = ['stool-plenty',\n",
    "                            'normal-z-line',\n",
    "                            'colon-clear',\n",
    "                            'retroflex-rectum',\n",
    "                            'dyed-lifted-polyps',\n",
    "                            'instruments',\n",
    "                            'normal-pylorus',\n",
    "                            'stool-inclusions',\n",
    "                            'blurry-nothing',\n",
    "                            'out-of-patient',\n",
    "                            'esophagitis',\n",
    "                            'retroflex-stomach',\n",
    "                            'ulcerative-colitis',\n",
    "                            'polyps',\n",
    "                            'dyed-resection-margins',\n",
    "                            'normal-cecum']\n",
    "\n",
    "# original data location path\n",
    "original_data_folder_name = \"../../data/data_medico_2018_development_set_features\""
   ]
  },
  {
   "cell_type": "markdown",
   "metadata": {},
   "source": [
    "## Need to take 80% for training and 20% for validation "
   ]
  },
  {
   "cell_type": "code",
   "execution_count": 4,
   "metadata": {},
   "outputs": [
    {
     "data": {
      "text/plain": [
       "['stool-plenty',\n",
       " 'normal-z-line',\n",
       " 'colon-clear',\n",
       " 'retroflex-rectum',\n",
       " 'dyed-lifted-polyps',\n",
       " 'instruments',\n",
       " 'normal-pylorus',\n",
       " 'stool-inclusions',\n",
       " 'blurry-nothing',\n",
       " 'out-of-patient',\n",
       " 'esophagitis',\n",
       " 'retroflex-stomach',\n",
       " 'ulcerative-colitis',\n",
       " 'polyps',\n",
       " 'dyed-resection-margins',\n",
       " 'normal-cecum']"
      ]
     },
     "execution_count": 4,
     "metadata": {},
     "output_type": "execute_result"
    }
   ],
   "source": [
    "os.listdir(original_data_folder_name)"
   ]
  },
  {
   "cell_type": "markdown",
   "metadata": {},
   "source": [
    "## Change these values for generating new train, validation and test data sets"
   ]
  },
  {
   "cell_type": "code",
   "execution_count": 5,
   "metadata": {},
   "outputs": [],
   "source": [
    "train_size = 70 # 70% \n",
    "validation_size = 30 # 30 %\n",
    "test_size = 0 # 0 %"
   ]
  },
  {
   "cell_type": "markdown",
   "metadata": {},
   "source": [
    "## Function for making new directory structure"
   ]
  },
  {
   "cell_type": "code",
   "execution_count": 6,
   "metadata": {},
   "outputs": [],
   "source": [
    "def make_folder_structure(base_dir, main_classification_types_dirs):\n",
    "\n",
    "    train_dir_list = []\n",
    "    validation_dir_list = []\n",
    "    test_dir_list = []\n",
    "\n",
    "\n",
    "    if not os.path.exists(base_dir):\n",
    "        os.mkdir(base_dir)  # new directory to make directory structure and load data\n",
    "\n",
    "    main_directory_names = ['train', 'validation', 'test']\n",
    "\n",
    "    for main_dir_name in main_directory_names:\n",
    "        dir = os.path.join(base_dir, main_dir_name)\n",
    "        if not os.path.exists(dir):\n",
    "            os.mkdir(dir)\n",
    "\n",
    "        for main_classification_types_dir in main_classification_types_dirs:\n",
    "            type_dir = os.path.join(dir, main_classification_types_dir)\n",
    "\n",
    "            if main_dir_name == 'train':\n",
    "                train_dir_list.append(type_dir)\n",
    "\n",
    "            elif main_dir_name == 'validation':\n",
    "                validation_dir_list.append(type_dir)\n",
    "\n",
    "            elif main_dir_name == 'test':\n",
    "                test_dir_list.append(type_dir)\n",
    "\n",
    "            if not os.path.exists(type_dir):\n",
    "                os.mkdir(type_dir)\n",
    "\n",
    "    return train_dir_list, validation_dir_list, test_dir_list\n"
   ]
  },
  {
   "cell_type": "markdown",
   "metadata": {},
   "source": [
    "## Function for loading data to new directory structure "
   ]
  },
  {
   "cell_type": "code",
   "execution_count": 7,
   "metadata": {},
   "outputs": [],
   "source": [
    "def load_data_to_folder(original_data_folder, # original data folder\n",
    "                        base_dir,  # folder to create training, validation and testing data\n",
    "                        main_classification_types,  # main class types of the problem\n",
    "                        size_of_training_percentage,  # percentage %\n",
    "                        size_of_validation_percentage,  # percentage %\n",
    "                        size_of_testing_percentage):  # percentage %\n",
    "\n",
    "    for class_type in main_classification_types:\n",
    "        src_dir = os.path.join(original_data_folder, class_type)\n",
    "        files = os.listdir(src_dir)\n",
    "        \n",
    "        size_of_training = math.floor(len(files) * (size_of_training_percentage/100))\n",
    "        size_of_validation = math.ceil(len(files) * (size_of_validation_percentage/100))\n",
    "        size_of_testing = math.ceil(len(files) * (size_of_testing_percentage/100))\n",
    "        \n",
    "\n",
    "        print(len(files))\n",
    "        print(size_of_training)\n",
    "        print(size_of_validation)\n",
    "        print(size_of_testing)\n",
    "        \n",
    "        training_files = files[0:size_of_training]\n",
    "        validation_files = files[size_of_training:size_of_training + size_of_validation]\n",
    "        testing_files = files[size_of_training + size_of_validation:size_of_training + size_of_validation + size_of_testing]\n",
    "\n",
    "        \n",
    "\n",
    "        # copying training images\n",
    "        for file in training_files:\n",
    "            src_file = os.path.join(src_dir, file)\n",
    "            dst_file = os.path.join(base_dir + '/train/' + class_type, file)\n",
    "            if not os.path.exists(dst_file):\n",
    "                shutil.copyfile(src_file, dst_file)\n",
    "\n",
    "        # copying validaton images\n",
    "        for file in validation_files:\n",
    "            src_file = os.path.join(src_dir, file)\n",
    "            dst_file = os.path.join(base_dir + '/validation/' + class_type, file)\n",
    "            if not os.path.exists(dst_file):\n",
    "                shutil.copyfile(src_file, dst_file)\n",
    "\n",
    "        # copying testing images\n",
    "        for file in testing_files:\n",
    "            src_file = os.path.join(src_dir, file)\n",
    "            dst_file = os.path.join(base_dir + '/test/' + class_type, file)\n",
    "            if not os.path.exists(dst_file):\n",
    "                shutil.copyfile(src_file, dst_file)\n",
    "\n",
    "        #training_dir = os.path.join(base_dir, 'train')\n",
    "        \n",
    "        size_of_training = 0\n",
    "        size_of_validation = 0\n",
    "        size_of_testing = 0\n",
    "\n"
   ]
  },
  {
   "cell_type": "markdown",
   "metadata": {},
   "source": [
    "### Generating new folder structure for new data set version 2 with more training data and less validation and testing data"
   ]
  },
  {
   "cell_type": "code",
   "execution_count": 8,
   "metadata": {},
   "outputs": [
    {
     "data": {
      "text/plain": [
       "(['../../data/data_generated_medicotask_70_30_features/train/stool-plenty',\n",
       "  '../../data/data_generated_medicotask_70_30_features/train/normal-z-line',\n",
       "  '../../data/data_generated_medicotask_70_30_features/train/colon-clear',\n",
       "  '../../data/data_generated_medicotask_70_30_features/train/retroflex-rectum',\n",
       "  '../../data/data_generated_medicotask_70_30_features/train/dyed-lifted-polyps',\n",
       "  '../../data/data_generated_medicotask_70_30_features/train/instruments',\n",
       "  '../../data/data_generated_medicotask_70_30_features/train/normal-pylorus',\n",
       "  '../../data/data_generated_medicotask_70_30_features/train/stool-inclusions',\n",
       "  '../../data/data_generated_medicotask_70_30_features/train/blurry-nothing',\n",
       "  '../../data/data_generated_medicotask_70_30_features/train/out-of-patient',\n",
       "  '../../data/data_generated_medicotask_70_30_features/train/esophagitis',\n",
       "  '../../data/data_generated_medicotask_70_30_features/train/retroflex-stomach',\n",
       "  '../../data/data_generated_medicotask_70_30_features/train/ulcerative-colitis',\n",
       "  '../../data/data_generated_medicotask_70_30_features/train/polyps',\n",
       "  '../../data/data_generated_medicotask_70_30_features/train/dyed-resection-margins',\n",
       "  '../../data/data_generated_medicotask_70_30_features/train/normal-cecum'],\n",
       " ['../../data/data_generated_medicotask_70_30_features/validation/stool-plenty',\n",
       "  '../../data/data_generated_medicotask_70_30_features/validation/normal-z-line',\n",
       "  '../../data/data_generated_medicotask_70_30_features/validation/colon-clear',\n",
       "  '../../data/data_generated_medicotask_70_30_features/validation/retroflex-rectum',\n",
       "  '../../data/data_generated_medicotask_70_30_features/validation/dyed-lifted-polyps',\n",
       "  '../../data/data_generated_medicotask_70_30_features/validation/instruments',\n",
       "  '../../data/data_generated_medicotask_70_30_features/validation/normal-pylorus',\n",
       "  '../../data/data_generated_medicotask_70_30_features/validation/stool-inclusions',\n",
       "  '../../data/data_generated_medicotask_70_30_features/validation/blurry-nothing',\n",
       "  '../../data/data_generated_medicotask_70_30_features/validation/out-of-patient',\n",
       "  '../../data/data_generated_medicotask_70_30_features/validation/esophagitis',\n",
       "  '../../data/data_generated_medicotask_70_30_features/validation/retroflex-stomach',\n",
       "  '../../data/data_generated_medicotask_70_30_features/validation/ulcerative-colitis',\n",
       "  '../../data/data_generated_medicotask_70_30_features/validation/polyps',\n",
       "  '../../data/data_generated_medicotask_70_30_features/validation/dyed-resection-margins',\n",
       "  '../../data/data_generated_medicotask_70_30_features/validation/normal-cecum'],\n",
       " ['../../data/data_generated_medicotask_70_30_features/test/stool-plenty',\n",
       "  '../../data/data_generated_medicotask_70_30_features/test/normal-z-line',\n",
       "  '../../data/data_generated_medicotask_70_30_features/test/colon-clear',\n",
       "  '../../data/data_generated_medicotask_70_30_features/test/retroflex-rectum',\n",
       "  '../../data/data_generated_medicotask_70_30_features/test/dyed-lifted-polyps',\n",
       "  '../../data/data_generated_medicotask_70_30_features/test/instruments',\n",
       "  '../../data/data_generated_medicotask_70_30_features/test/normal-pylorus',\n",
       "  '../../data/data_generated_medicotask_70_30_features/test/stool-inclusions',\n",
       "  '../../data/data_generated_medicotask_70_30_features/test/blurry-nothing',\n",
       "  '../../data/data_generated_medicotask_70_30_features/test/out-of-patient',\n",
       "  '../../data/data_generated_medicotask_70_30_features/test/esophagitis',\n",
       "  '../../data/data_generated_medicotask_70_30_features/test/retroflex-stomach',\n",
       "  '../../data/data_generated_medicotask_70_30_features/test/ulcerative-colitis',\n",
       "  '../../data/data_generated_medicotask_70_30_features/test/polyps',\n",
       "  '../../data/data_generated_medicotask_70_30_features/test/dyed-resection-margins',\n",
       "  '../../data/data_generated_medicotask_70_30_features/test/normal-cecum'])"
      ]
     },
     "execution_count": 8,
     "metadata": {},
     "output_type": "execute_result"
    }
   ],
   "source": [
    "make_folder_structure(base_dir, main_classification_types)"
   ]
  },
  {
   "cell_type": "code",
   "execution_count": 9,
   "metadata": {
    "scrolled": true
   },
   "outputs": [
    {
     "name": "stdout",
     "output_type": "stream",
     "text": [
      "366\n",
      "256\n",
      "110\n",
      "0\n",
      "437\n",
      "305\n",
      "132\n",
      "0\n",
      "267\n",
      "186\n",
      "81\n",
      "0\n",
      "237\n",
      "165\n",
      "72\n",
      "0\n",
      "457\n",
      "319\n",
      "138\n",
      "0\n",
      "36\n",
      "25\n",
      "11\n",
      "0\n",
      "439\n",
      "307\n",
      "132\n",
      "0\n",
      "130\n",
      "91\n",
      "39\n",
      "0\n",
      "176\n",
      "123\n",
      "53\n",
      "0\n",
      "4\n",
      "2\n",
      "2\n",
      "0\n",
      "444\n",
      "310\n",
      "134\n",
      "0\n",
      "398\n",
      "278\n",
      "120\n",
      "0\n",
      "457\n",
      "319\n",
      "138\n",
      "0\n",
      "613\n",
      "429\n",
      "184\n",
      "0\n",
      "416\n",
      "291\n",
      "125\n",
      "0\n",
      "416\n",
      "291\n",
      "125\n",
      "0\n"
     ]
    }
   ],
   "source": [
    "load_data_to_folder(original_data_folder_name, base_dir, main_classification_types, train_size, validation_size, test_size)"
   ]
  },
  {
   "cell_type": "code",
   "execution_count": null,
   "metadata": {},
   "outputs": [],
   "source": []
  }
 ],
 "metadata": {
  "kernelspec": {
   "display_name": "Python 3",
   "language": "python",
   "name": "python3"
  },
  "language_info": {
   "codemirror_mode": {
    "name": "ipython",
    "version": 3
   },
   "file_extension": ".py",
   "mimetype": "text/x-python",
   "name": "python",
   "nbconvert_exporter": "python",
   "pygments_lexer": "ipython3",
   "version": "3.6.5"
  }
 },
 "nbformat": 4,
 "nbformat_minor": 2
}
