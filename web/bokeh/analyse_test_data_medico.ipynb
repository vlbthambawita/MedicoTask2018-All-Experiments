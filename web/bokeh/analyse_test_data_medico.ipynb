{
 "cells": [
  {
   "cell_type": "code",
   "execution_count": 85,
   "metadata": {},
   "outputs": [],
   "source": [
    "from bokeh.io import output_notebook\n",
    "from bokeh.plotting import figure, show\n",
    "from bokeh.transform import factor_cmap\n",
    "from bokeh.palettes import Spectral6,Magma256, Category20\n",
    "from bokeh.models import ColumnDataSource\n",
    "import os"
   ]
  },
  {
   "cell_type": "code",
   "execution_count": 22,
   "metadata": {},
   "outputs": [],
   "source": [
    "import pandas as pd"
   ]
  },
  {
   "cell_type": "code",
   "execution_count": 23,
   "metadata": {},
   "outputs": [
    {
     "data": {
      "text/html": [
       "\n",
       "    <div class=\"bk-root\">\n",
       "        <a href=\"https://bokeh.pydata.org\" target=\"_blank\" class=\"bk-logo bk-logo-small bk-logo-notebook\"></a>\n",
       "        <span id=\"3f2f5afc-075f-4dfa-8fc2-5f689c182fb0\">Loading BokehJS ...</span>\n",
       "    </div>"
      ]
     },
     "metadata": {},
     "output_type": "display_data"
    },
    {
     "data": {
      "application/javascript": [
       "\n",
       "(function(root) {\n",
       "  function now() {\n",
       "    return new Date();\n",
       "  }\n",
       "\n",
       "  var force = true;\n",
       "\n",
       "  if (typeof (root._bokeh_onload_callbacks) === \"undefined\" || force === true) {\n",
       "    root._bokeh_onload_callbacks = [];\n",
       "    root._bokeh_is_loading = undefined;\n",
       "  }\n",
       "\n",
       "  var JS_MIME_TYPE = 'application/javascript';\n",
       "  var HTML_MIME_TYPE = 'text/html';\n",
       "  var EXEC_MIME_TYPE = 'application/vnd.bokehjs_exec.v0+json';\n",
       "  var CLASS_NAME = 'output_bokeh rendered_html';\n",
       "\n",
       "  /**\n",
       "   * Render data to the DOM node\n",
       "   */\n",
       "  function render(props, node) {\n",
       "    var script = document.createElement(\"script\");\n",
       "    node.appendChild(script);\n",
       "  }\n",
       "\n",
       "  /**\n",
       "   * Handle when an output is cleared or removed\n",
       "   */\n",
       "  function handleClearOutput(event, handle) {\n",
       "    var cell = handle.cell;\n",
       "\n",
       "    var id = cell.output_area._bokeh_element_id;\n",
       "    var server_id = cell.output_area._bokeh_server_id;\n",
       "    // Clean up Bokeh references\n",
       "    if (id != null && id in Bokeh.index) {\n",
       "      Bokeh.index[id].model.document.clear();\n",
       "      delete Bokeh.index[id];\n",
       "    }\n",
       "\n",
       "    if (server_id !== undefined) {\n",
       "      // Clean up Bokeh references\n",
       "      var cmd = \"from bokeh.io.state import curstate; print(curstate().uuid_to_server['\" + server_id + \"'].get_sessions()[0].document.roots[0]._id)\";\n",
       "      cell.notebook.kernel.execute(cmd, {\n",
       "        iopub: {\n",
       "          output: function(msg) {\n",
       "            var id = msg.content.text.trim();\n",
       "            if (id in Bokeh.index) {\n",
       "              Bokeh.index[id].model.document.clear();\n",
       "              delete Bokeh.index[id];\n",
       "            }\n",
       "          }\n",
       "        }\n",
       "      });\n",
       "      // Destroy server and session\n",
       "      var cmd = \"import bokeh.io.notebook as ion; ion.destroy_server('\" + server_id + \"')\";\n",
       "      cell.notebook.kernel.execute(cmd);\n",
       "    }\n",
       "  }\n",
       "\n",
       "  /**\n",
       "   * Handle when a new output is added\n",
       "   */\n",
       "  function handleAddOutput(event, handle) {\n",
       "    var output_area = handle.output_area;\n",
       "    var output = handle.output;\n",
       "\n",
       "    // limit handleAddOutput to display_data with EXEC_MIME_TYPE content only\n",
       "    if ((output.output_type != \"display_data\") || (!output.data.hasOwnProperty(EXEC_MIME_TYPE))) {\n",
       "      return\n",
       "    }\n",
       "\n",
       "    var toinsert = output_area.element.find(\".\" + CLASS_NAME.split(' ')[0]);\n",
       "\n",
       "    if (output.metadata[EXEC_MIME_TYPE][\"id\"] !== undefined) {\n",
       "      toinsert[toinsert.length - 1].firstChild.textContent = output.data[JS_MIME_TYPE];\n",
       "      // store reference to embed id on output_area\n",
       "      output_area._bokeh_element_id = output.metadata[EXEC_MIME_TYPE][\"id\"];\n",
       "    }\n",
       "    if (output.metadata[EXEC_MIME_TYPE][\"server_id\"] !== undefined) {\n",
       "      var bk_div = document.createElement(\"div\");\n",
       "      bk_div.innerHTML = output.data[HTML_MIME_TYPE];\n",
       "      var script_attrs = bk_div.children[0].attributes;\n",
       "      for (var i = 0; i < script_attrs.length; i++) {\n",
       "        toinsert[toinsert.length - 1].firstChild.setAttribute(script_attrs[i].name, script_attrs[i].value);\n",
       "      }\n",
       "      // store reference to server id on output_area\n",
       "      output_area._bokeh_server_id = output.metadata[EXEC_MIME_TYPE][\"server_id\"];\n",
       "    }\n",
       "  }\n",
       "\n",
       "  function register_renderer(events, OutputArea) {\n",
       "\n",
       "    function append_mime(data, metadata, element) {\n",
       "      // create a DOM node to render to\n",
       "      var toinsert = this.create_output_subarea(\n",
       "        metadata,\n",
       "        CLASS_NAME,\n",
       "        EXEC_MIME_TYPE\n",
       "      );\n",
       "      this.keyboard_manager.register_events(toinsert);\n",
       "      // Render to node\n",
       "      var props = {data: data, metadata: metadata[EXEC_MIME_TYPE]};\n",
       "      render(props, toinsert[toinsert.length - 1]);\n",
       "      element.append(toinsert);\n",
       "      return toinsert\n",
       "    }\n",
       "\n",
       "    /* Handle when an output is cleared or removed */\n",
       "    events.on('clear_output.CodeCell', handleClearOutput);\n",
       "    events.on('delete.Cell', handleClearOutput);\n",
       "\n",
       "    /* Handle when a new output is added */\n",
       "    events.on('output_added.OutputArea', handleAddOutput);\n",
       "\n",
       "    /**\n",
       "     * Register the mime type and append_mime function with output_area\n",
       "     */\n",
       "    OutputArea.prototype.register_mime_type(EXEC_MIME_TYPE, append_mime, {\n",
       "      /* Is output safe? */\n",
       "      safe: true,\n",
       "      /* Index of renderer in `output_area.display_order` */\n",
       "      index: 0\n",
       "    });\n",
       "  }\n",
       "\n",
       "  // register the mime type if in Jupyter Notebook environment and previously unregistered\n",
       "  if (root.Jupyter !== undefined) {\n",
       "    var events = require('base/js/events');\n",
       "    var OutputArea = require('notebook/js/outputarea').OutputArea;\n",
       "\n",
       "    if (OutputArea.prototype.mime_types().indexOf(EXEC_MIME_TYPE) == -1) {\n",
       "      register_renderer(events, OutputArea);\n",
       "    }\n",
       "  }\n",
       "\n",
       "  \n",
       "  if (typeof (root._bokeh_timeout) === \"undefined\" || force === true) {\n",
       "    root._bokeh_timeout = Date.now() + 5000;\n",
       "    root._bokeh_failed_load = false;\n",
       "  }\n",
       "\n",
       "  var NB_LOAD_WARNING = {'data': {'text/html':\n",
       "     \"<div style='background-color: #fdd'>\\n\"+\n",
       "     \"<p>\\n\"+\n",
       "     \"BokehJS does not appear to have successfully loaded. If loading BokehJS from CDN, this \\n\"+\n",
       "     \"may be due to a slow or bad network connection. Possible fixes:\\n\"+\n",
       "     \"</p>\\n\"+\n",
       "     \"<ul>\\n\"+\n",
       "     \"<li>re-rerun `output_notebook()` to attempt to load from CDN again, or</li>\\n\"+\n",
       "     \"<li>use INLINE resources instead, as so:</li>\\n\"+\n",
       "     \"</ul>\\n\"+\n",
       "     \"<code>\\n\"+\n",
       "     \"from bokeh.resources import INLINE\\n\"+\n",
       "     \"output_notebook(resources=INLINE)\\n\"+\n",
       "     \"</code>\\n\"+\n",
       "     \"</div>\"}};\n",
       "\n",
       "  function display_loaded() {\n",
       "    var el = document.getElementById(\"3f2f5afc-075f-4dfa-8fc2-5f689c182fb0\");\n",
       "    if (el != null) {\n",
       "      el.textContent = \"BokehJS is loading...\";\n",
       "    }\n",
       "    if (root.Bokeh !== undefined) {\n",
       "      if (el != null) {\n",
       "        el.textContent = \"BokehJS \" + root.Bokeh.version + \" successfully loaded.\";\n",
       "      }\n",
       "    } else if (Date.now() < root._bokeh_timeout) {\n",
       "      setTimeout(display_loaded, 100)\n",
       "    }\n",
       "  }\n",
       "\n",
       "\n",
       "  function run_callbacks() {\n",
       "    try {\n",
       "      root._bokeh_onload_callbacks.forEach(function(callback) { callback() });\n",
       "    }\n",
       "    finally {\n",
       "      delete root._bokeh_onload_callbacks\n",
       "    }\n",
       "    console.info(\"Bokeh: all callbacks have finished\");\n",
       "  }\n",
       "\n",
       "  function load_libs(js_urls, callback) {\n",
       "    root._bokeh_onload_callbacks.push(callback);\n",
       "    if (root._bokeh_is_loading > 0) {\n",
       "      console.log(\"Bokeh: BokehJS is being loaded, scheduling callback at\", now());\n",
       "      return null;\n",
       "    }\n",
       "    if (js_urls == null || js_urls.length === 0) {\n",
       "      run_callbacks();\n",
       "      return null;\n",
       "    }\n",
       "    console.log(\"Bokeh: BokehJS not loaded, scheduling load and callback at\", now());\n",
       "    root._bokeh_is_loading = js_urls.length;\n",
       "    for (var i = 0; i < js_urls.length; i++) {\n",
       "      var url = js_urls[i];\n",
       "      var s = document.createElement('script');\n",
       "      s.src = url;\n",
       "      s.async = false;\n",
       "      s.onreadystatechange = s.onload = function() {\n",
       "        root._bokeh_is_loading--;\n",
       "        if (root._bokeh_is_loading === 0) {\n",
       "          console.log(\"Bokeh: all BokehJS libraries loaded\");\n",
       "          run_callbacks()\n",
       "        }\n",
       "      };\n",
       "      s.onerror = function() {\n",
       "        console.warn(\"failed to load library \" + url);\n",
       "      };\n",
       "      console.log(\"Bokeh: injecting script tag for BokehJS library: \", url);\n",
       "      document.getElementsByTagName(\"head\")[0].appendChild(s);\n",
       "    }\n",
       "  };var element = document.getElementById(\"3f2f5afc-075f-4dfa-8fc2-5f689c182fb0\");\n",
       "  if (element == null) {\n",
       "    console.log(\"Bokeh: ERROR: autoload.js configured with elementid '3f2f5afc-075f-4dfa-8fc2-5f689c182fb0' but no matching script tag was found. \")\n",
       "    return false;\n",
       "  }\n",
       "\n",
       "  var js_urls = [\"https://cdn.pydata.org/bokeh/release/bokeh-0.13.0.min.js\", \"https://cdn.pydata.org/bokeh/release/bokeh-widgets-0.13.0.min.js\", \"https://cdn.pydata.org/bokeh/release/bokeh-tables-0.13.0.min.js\", \"https://cdn.pydata.org/bokeh/release/bokeh-gl-0.13.0.min.js\"];\n",
       "\n",
       "  var inline_js = [\n",
       "    function(Bokeh) {\n",
       "      Bokeh.set_log_level(\"info\");\n",
       "    },\n",
       "    \n",
       "    function(Bokeh) {\n",
       "      \n",
       "    },\n",
       "    function(Bokeh) {\n",
       "      console.log(\"Bokeh: injecting CSS: https://cdn.pydata.org/bokeh/release/bokeh-0.13.0.min.css\");\n",
       "      Bokeh.embed.inject_css(\"https://cdn.pydata.org/bokeh/release/bokeh-0.13.0.min.css\");\n",
       "      console.log(\"Bokeh: injecting CSS: https://cdn.pydata.org/bokeh/release/bokeh-widgets-0.13.0.min.css\");\n",
       "      Bokeh.embed.inject_css(\"https://cdn.pydata.org/bokeh/release/bokeh-widgets-0.13.0.min.css\");\n",
       "      console.log(\"Bokeh: injecting CSS: https://cdn.pydata.org/bokeh/release/bokeh-tables-0.13.0.min.css\");\n",
       "      Bokeh.embed.inject_css(\"https://cdn.pydata.org/bokeh/release/bokeh-tables-0.13.0.min.css\");\n",
       "    }\n",
       "  ];\n",
       "\n",
       "  function run_inline_js() {\n",
       "    \n",
       "    if ((root.Bokeh !== undefined) || (force === true)) {\n",
       "      for (var i = 0; i < inline_js.length; i++) {\n",
       "        inline_js[i].call(root, root.Bokeh);\n",
       "      }if (force === true) {\n",
       "        display_loaded();\n",
       "      }} else if (Date.now() < root._bokeh_timeout) {\n",
       "      setTimeout(run_inline_js, 100);\n",
       "    } else if (!root._bokeh_failed_load) {\n",
       "      console.log(\"Bokeh: BokehJS failed to load within specified timeout.\");\n",
       "      root._bokeh_failed_load = true;\n",
       "    } else if (force !== true) {\n",
       "      var cell = $(document.getElementById(\"3f2f5afc-075f-4dfa-8fc2-5f689c182fb0\")).parents('.cell').data().cell;\n",
       "      cell.output_area.append_execute_result(NB_LOAD_WARNING)\n",
       "    }\n",
       "\n",
       "  }\n",
       "\n",
       "  if (root._bokeh_is_loading === 0) {\n",
       "    console.log(\"Bokeh: BokehJS loaded, going straight to plotting\");\n",
       "    run_inline_js();\n",
       "  } else {\n",
       "    load_libs(js_urls, function() {\n",
       "      console.log(\"Bokeh: BokehJS plotting callback run at\", now());\n",
       "      run_inline_js();\n",
       "    });\n",
       "  }\n",
       "}(window));"
      ],
      "application/vnd.bokehjs_load.v0+json": "\n(function(root) {\n  function now() {\n    return new Date();\n  }\n\n  var force = true;\n\n  if (typeof (root._bokeh_onload_callbacks) === \"undefined\" || force === true) {\n    root._bokeh_onload_callbacks = [];\n    root._bokeh_is_loading = undefined;\n  }\n\n  \n\n  \n  if (typeof (root._bokeh_timeout) === \"undefined\" || force === true) {\n    root._bokeh_timeout = Date.now() + 5000;\n    root._bokeh_failed_load = false;\n  }\n\n  var NB_LOAD_WARNING = {'data': {'text/html':\n     \"<div style='background-color: #fdd'>\\n\"+\n     \"<p>\\n\"+\n     \"BokehJS does not appear to have successfully loaded. If loading BokehJS from CDN, this \\n\"+\n     \"may be due to a slow or bad network connection. Possible fixes:\\n\"+\n     \"</p>\\n\"+\n     \"<ul>\\n\"+\n     \"<li>re-rerun `output_notebook()` to attempt to load from CDN again, or</li>\\n\"+\n     \"<li>use INLINE resources instead, as so:</li>\\n\"+\n     \"</ul>\\n\"+\n     \"<code>\\n\"+\n     \"from bokeh.resources import INLINE\\n\"+\n     \"output_notebook(resources=INLINE)\\n\"+\n     \"</code>\\n\"+\n     \"</div>\"}};\n\n  function display_loaded() {\n    var el = document.getElementById(\"3f2f5afc-075f-4dfa-8fc2-5f689c182fb0\");\n    if (el != null) {\n      el.textContent = \"BokehJS is loading...\";\n    }\n    if (root.Bokeh !== undefined) {\n      if (el != null) {\n        el.textContent = \"BokehJS \" + root.Bokeh.version + \" successfully loaded.\";\n      }\n    } else if (Date.now() < root._bokeh_timeout) {\n      setTimeout(display_loaded, 100)\n    }\n  }\n\n\n  function run_callbacks() {\n    try {\n      root._bokeh_onload_callbacks.forEach(function(callback) { callback() });\n    }\n    finally {\n      delete root._bokeh_onload_callbacks\n    }\n    console.info(\"Bokeh: all callbacks have finished\");\n  }\n\n  function load_libs(js_urls, callback) {\n    root._bokeh_onload_callbacks.push(callback);\n    if (root._bokeh_is_loading > 0) {\n      console.log(\"Bokeh: BokehJS is being loaded, scheduling callback at\", now());\n      return null;\n    }\n    if (js_urls == null || js_urls.length === 0) {\n      run_callbacks();\n      return null;\n    }\n    console.log(\"Bokeh: BokehJS not loaded, scheduling load and callback at\", now());\n    root._bokeh_is_loading = js_urls.length;\n    for (var i = 0; i < js_urls.length; i++) {\n      var url = js_urls[i];\n      var s = document.createElement('script');\n      s.src = url;\n      s.async = false;\n      s.onreadystatechange = s.onload = function() {\n        root._bokeh_is_loading--;\n        if (root._bokeh_is_loading === 0) {\n          console.log(\"Bokeh: all BokehJS libraries loaded\");\n          run_callbacks()\n        }\n      };\n      s.onerror = function() {\n        console.warn(\"failed to load library \" + url);\n      };\n      console.log(\"Bokeh: injecting script tag for BokehJS library: \", url);\n      document.getElementsByTagName(\"head\")[0].appendChild(s);\n    }\n  };var element = document.getElementById(\"3f2f5afc-075f-4dfa-8fc2-5f689c182fb0\");\n  if (element == null) {\n    console.log(\"Bokeh: ERROR: autoload.js configured with elementid '3f2f5afc-075f-4dfa-8fc2-5f689c182fb0' but no matching script tag was found. \")\n    return false;\n  }\n\n  var js_urls = [\"https://cdn.pydata.org/bokeh/release/bokeh-0.13.0.min.js\", \"https://cdn.pydata.org/bokeh/release/bokeh-widgets-0.13.0.min.js\", \"https://cdn.pydata.org/bokeh/release/bokeh-tables-0.13.0.min.js\", \"https://cdn.pydata.org/bokeh/release/bokeh-gl-0.13.0.min.js\"];\n\n  var inline_js = [\n    function(Bokeh) {\n      Bokeh.set_log_level(\"info\");\n    },\n    \n    function(Bokeh) {\n      \n    },\n    function(Bokeh) {\n      console.log(\"Bokeh: injecting CSS: https://cdn.pydata.org/bokeh/release/bokeh-0.13.0.min.css\");\n      Bokeh.embed.inject_css(\"https://cdn.pydata.org/bokeh/release/bokeh-0.13.0.min.css\");\n      console.log(\"Bokeh: injecting CSS: https://cdn.pydata.org/bokeh/release/bokeh-widgets-0.13.0.min.css\");\n      Bokeh.embed.inject_css(\"https://cdn.pydata.org/bokeh/release/bokeh-widgets-0.13.0.min.css\");\n      console.log(\"Bokeh: injecting CSS: https://cdn.pydata.org/bokeh/release/bokeh-tables-0.13.0.min.css\");\n      Bokeh.embed.inject_css(\"https://cdn.pydata.org/bokeh/release/bokeh-tables-0.13.0.min.css\");\n    }\n  ];\n\n  function run_inline_js() {\n    \n    if ((root.Bokeh !== undefined) || (force === true)) {\n      for (var i = 0; i < inline_js.length; i++) {\n        inline_js[i].call(root, root.Bokeh);\n      }if (force === true) {\n        display_loaded();\n      }} else if (Date.now() < root._bokeh_timeout) {\n      setTimeout(run_inline_js, 100);\n    } else if (!root._bokeh_failed_load) {\n      console.log(\"Bokeh: BokehJS failed to load within specified timeout.\");\n      root._bokeh_failed_load = true;\n    } else if (force !== true) {\n      var cell = $(document.getElementById(\"3f2f5afc-075f-4dfa-8fc2-5f689c182fb0\")).parents('.cell').data().cell;\n      cell.output_area.append_execute_result(NB_LOAD_WARNING)\n    }\n\n  }\n\n  if (root._bokeh_is_loading === 0) {\n    console.log(\"Bokeh: BokehJS loaded, going straight to plotting\");\n    run_inline_js();\n  } else {\n    load_libs(js_urls, function() {\n      console.log(\"Bokeh: BokehJS plotting callback run at\", now());\n      run_inline_js();\n    });\n  }\n}(window));"
     },
     "metadata": {},
     "output_type": "display_data"
    }
   ],
   "source": [
    "output_notebook()"
   ]
  },
  {
   "cell_type": "code",
   "execution_count": 24,
   "metadata": {},
   "outputs": [],
   "source": [
    "base_directory = \"../../data/data_generated_medicotask_70_30_modified_v3/pytorch_submission_medico\""
   ]
  },
  {
   "cell_type": "code",
   "execution_count": 25,
   "metadata": {},
   "outputs": [
    {
     "data": {
      "text/plain": [
       "['23_4_test2_prob_softmax',\n",
       " 'test1_PROB_softmax_time',\n",
       " 'test1',\n",
       " 'test2',\n",
       " 'test1_PROB_time',\n",
       " 'test3_with_prob',\n",
       " '24_6_test3_with_prob',\n",
       " 'test3',\n",
       " 'test1_PROB']"
      ]
     },
     "execution_count": 25,
     "metadata": {},
     "output_type": "execute_result"
    }
   ],
   "source": [
    "os.listdir(base_directory)"
   ]
  },
  {
   "cell_type": "markdown",
   "metadata": {},
   "source": [
    "### Files to read data"
   ]
  },
  {
   "cell_type": "code",
   "execution_count": 149,
   "metadata": {},
   "outputs": [],
   "source": [
    "data_file_method_1 = base_directory + \"/test1_PROB_softmax_time\"\n",
    "data_file_method_2 = base_directory + \"/23_4_test2_prob_softmax\"\n",
    "data_file_method_3 = base_directory + \"/24_6_test3_with_prob\""
   ]
  },
  {
   "cell_type": "markdown",
   "metadata": {},
   "source": [
    "### Reading CSV files to dataframes"
   ]
  },
  {
   "cell_type": "code",
   "execution_count": 150,
   "metadata": {},
   "outputs": [],
   "source": [
    "data_method_1 = pd.read_csv(data_file_method_1)\n",
    "data_method_2 = pd.read_csv(data_file_method_2)\n",
    "data_method_3 = pd.read_csv(data_file_method_3)"
   ]
  },
  {
   "cell_type": "code",
   "execution_count": 171,
   "metadata": {},
   "outputs": [],
   "source": [
    "plot_data_method1 = data_method_1['labels'].value_counts()\n",
    "plot_data_method2 = data_method_2['labels'].value_counts()\n",
    "plot_data_method3 = data_method_3['labels'].value_counts()\n",
    "plot_data_method1 = plot_data_method1.to_frame().transpose()\n",
    "plot_data_method2 = plot_data_method2.to_frame().transpose()\n",
    "plot_data_method3 = plot_data_method3.to_frame().transpose()"
   ]
  },
  {
   "cell_type": "code",
   "execution_count": 190,
   "metadata": {},
   "outputs": [],
   "source": [
    "plot_data_method1 = plot_data_method1.rename(index={'labels':'method1'})\n",
    "plot_data_method2 = plot_data_method2.rename(index={'labels':'method2'})\n",
    "plot_data_method3 = plot_data_method3.rename(index={'labels':'method3'})"
   ]
  },
  {
   "cell_type": "code",
   "execution_count": 191,
   "metadata": {},
   "outputs": [],
   "source": [
    "frames = [plot_data_method1, plot_data_method2, plot_data_method3]"
   ]
  },
  {
   "cell_type": "code",
   "execution_count": 193,
   "metadata": {},
   "outputs": [],
   "source": [
    "full_data_set = pd.concat(frames, sort=False)"
   ]
  },
  {
   "cell_type": "code",
   "execution_count": 194,
   "metadata": {},
   "outputs": [
    {
     "data": {
      "text/html": [
       "<div>\n",
       "<style scoped>\n",
       "    .dataframe tbody tr th:only-of-type {\n",
       "        vertical-align: middle;\n",
       "    }\n",
       "\n",
       "    .dataframe tbody tr th {\n",
       "        vertical-align: top;\n",
       "    }\n",
       "\n",
       "    .dataframe thead th {\n",
       "        text-align: right;\n",
       "    }\n",
       "</style>\n",
       "<table border=\"1\" class=\"dataframe\">\n",
       "  <thead>\n",
       "    <tr style=\"text-align: right;\">\n",
       "      <th></th>\n",
       "      <th>stool-plenty</th>\n",
       "      <th>colon-clear</th>\n",
       "      <th>dyed-resection-margins</th>\n",
       "      <th>normal-cecum</th>\n",
       "      <th>normal-z-line</th>\n",
       "      <th>ulcerative-colitis</th>\n",
       "      <th>normal-pylorus</th>\n",
       "      <th>dyed-lifted-polyps</th>\n",
       "      <th>esophagitis</th>\n",
       "      <th>stool-inclusions</th>\n",
       "      <th>polyps</th>\n",
       "      <th>retroflex-stomach</th>\n",
       "      <th>retroflex-rectum</th>\n",
       "      <th>instruments</th>\n",
       "      <th>blurry-nothing</th>\n",
       "      <th>out-of-patient</th>\n",
       "    </tr>\n",
       "  </thead>\n",
       "  <tbody>\n",
       "    <tr>\n",
       "      <th>method1</th>\n",
       "      <td>1890</td>\n",
       "      <td>1070</td>\n",
       "      <td>620</td>\n",
       "      <td>593</td>\n",
       "      <td>592</td>\n",
       "      <td>568</td>\n",
       "      <td>566</td>\n",
       "      <td>547</td>\n",
       "      <td>528</td>\n",
       "      <td>515</td>\n",
       "      <td>450</td>\n",
       "      <td>398</td>\n",
       "      <td>187</td>\n",
       "      <td>172</td>\n",
       "      <td>39</td>\n",
       "      <td>5</td>\n",
       "    </tr>\n",
       "    <tr>\n",
       "      <th>method2</th>\n",
       "      <td>1860</td>\n",
       "      <td>1073</td>\n",
       "      <td>583</td>\n",
       "      <td>602</td>\n",
       "      <td>641</td>\n",
       "      <td>586</td>\n",
       "      <td>569</td>\n",
       "      <td>580</td>\n",
       "      <td>478</td>\n",
       "      <td>532</td>\n",
       "      <td>424</td>\n",
       "      <td>393</td>\n",
       "      <td>199</td>\n",
       "      <td>175</td>\n",
       "      <td>39</td>\n",
       "      <td>6</td>\n",
       "    </tr>\n",
       "    <tr>\n",
       "      <th>method3</th>\n",
       "      <td>1920</td>\n",
       "      <td>1070</td>\n",
       "      <td>583</td>\n",
       "      <td>604</td>\n",
       "      <td>636</td>\n",
       "      <td>551</td>\n",
       "      <td>569</td>\n",
       "      <td>590</td>\n",
       "      <td>483</td>\n",
       "      <td>508</td>\n",
       "      <td>423</td>\n",
       "      <td>399</td>\n",
       "      <td>194</td>\n",
       "      <td>165</td>\n",
       "      <td>39</td>\n",
       "      <td>6</td>\n",
       "    </tr>\n",
       "  </tbody>\n",
       "</table>\n",
       "</div>"
      ],
      "text/plain": [
       "         stool-plenty  colon-clear  dyed-resection-margins  normal-cecum  \\\n",
       "method1          1890         1070                     620           593   \n",
       "method2          1860         1073                     583           602   \n",
       "method3          1920         1070                     583           604   \n",
       "\n",
       "         normal-z-line  ulcerative-colitis  normal-pylorus  \\\n",
       "method1            592                 568             566   \n",
       "method2            641                 586             569   \n",
       "method3            636                 551             569   \n",
       "\n",
       "         dyed-lifted-polyps  esophagitis  stool-inclusions  polyps  \\\n",
       "method1                 547          528               515     450   \n",
       "method2                 580          478               532     424   \n",
       "method3                 590          483               508     423   \n",
       "\n",
       "         retroflex-stomach  retroflex-rectum  instruments  blurry-nothing  \\\n",
       "method1                398               187          172              39   \n",
       "method2                393               199          175              39   \n",
       "method3                399               194          165              39   \n",
       "\n",
       "         out-of-patient  \n",
       "method1               5  \n",
       "method2               6  \n",
       "method3               6  "
      ]
     },
     "execution_count": 194,
     "metadata": {},
     "output_type": "execute_result"
    }
   ],
   "source": [
    "full_data_set"
   ]
  },
  {
   "cell_type": "code",
   "execution_count": 155,
   "metadata": {},
   "outputs": [
    {
     "data": {
      "text/html": [
       "<div>\n",
       "<style scoped>\n",
       "    .dataframe tbody tr th:only-of-type {\n",
       "        vertical-align: middle;\n",
       "    }\n",
       "\n",
       "    .dataframe tbody tr th {\n",
       "        vertical-align: top;\n",
       "    }\n",
       "\n",
       "    .dataframe thead th {\n",
       "        text-align: right;\n",
       "    }\n",
       "</style>\n",
       "<table border=\"1\" class=\"dataframe\">\n",
       "  <thead>\n",
       "    <tr style=\"text-align: right;\">\n",
       "      <th></th>\n",
       "      <th>stool-plenty</th>\n",
       "      <th>colon-clear</th>\n",
       "      <th>dyed-resection-margins</th>\n",
       "      <th>normal-cecum</th>\n",
       "      <th>normal-z-line</th>\n",
       "      <th>ulcerative-colitis</th>\n",
       "      <th>normal-pylorus</th>\n",
       "      <th>dyed-lifted-polyps</th>\n",
       "      <th>esophagitis</th>\n",
       "      <th>stool-inclusions</th>\n",
       "      <th>polyps</th>\n",
       "      <th>retroflex-stomach</th>\n",
       "      <th>retroflex-rectum</th>\n",
       "      <th>instruments</th>\n",
       "      <th>blurry-nothing</th>\n",
       "      <th>out-of-patient</th>\n",
       "    </tr>\n",
       "  </thead>\n",
       "  <tbody>\n",
       "    <tr>\n",
       "      <th>labels</th>\n",
       "      <td>1890</td>\n",
       "      <td>1070</td>\n",
       "      <td>620</td>\n",
       "      <td>593</td>\n",
       "      <td>592</td>\n",
       "      <td>568</td>\n",
       "      <td>566</td>\n",
       "      <td>547</td>\n",
       "      <td>528</td>\n",
       "      <td>515</td>\n",
       "      <td>450</td>\n",
       "      <td>398</td>\n",
       "      <td>187</td>\n",
       "      <td>172</td>\n",
       "      <td>39</td>\n",
       "      <td>5</td>\n",
       "    </tr>\n",
       "  </tbody>\n",
       "</table>\n",
       "</div>"
      ],
      "text/plain": [
       "        stool-plenty  colon-clear  dyed-resection-margins  normal-cecum  \\\n",
       "labels          1890         1070                     620           593   \n",
       "\n",
       "        normal-z-line  ulcerative-colitis  normal-pylorus  dyed-lifted-polyps  \\\n",
       "labels            592                 568             566                 547   \n",
       "\n",
       "        esophagitis  stool-inclusions  polyps  retroflex-stomach  \\\n",
       "labels          528               515     450                398   \n",
       "\n",
       "        retroflex-rectum  instruments  blurry-nothing  out-of-patient  \n",
       "labels               187          172              39               5  "
      ]
     },
     "execution_count": 155,
     "metadata": {},
     "output_type": "execute_result"
    }
   ],
   "source": [
    "plot_data_new"
   ]
  },
  {
   "cell_type": "code",
   "execution_count": null,
   "metadata": {},
   "outputs": [],
   "source": []
  },
  {
   "cell_type": "code",
   "execution_count": null,
   "metadata": {},
   "outputs": [],
   "source": []
  },
  {
   "cell_type": "code",
   "execution_count": 156,
   "metadata": {},
   "outputs": [],
   "source": [
    "x_data = plot_data_new.columns.values"
   ]
  },
  {
   "cell_type": "code",
   "execution_count": 157,
   "metadata": {},
   "outputs": [
    {
     "data": {
      "text/plain": [
       "array(['stool-plenty', 'colon-clear', 'dyed-resection-margins',\n",
       "       'normal-cecum', 'normal-z-line', 'ulcerative-colitis',\n",
       "       'normal-pylorus', 'dyed-lifted-polyps', 'esophagitis',\n",
       "       'stool-inclusions', 'polyps', 'retroflex-stomach',\n",
       "       'retroflex-rectum', 'instruments', 'blurry-nothing',\n",
       "       'out-of-patient'], dtype=object)"
      ]
     },
     "execution_count": 157,
     "metadata": {},
     "output_type": "execute_result"
    }
   ],
   "source": [
    "x_data"
   ]
  },
  {
   "cell_type": "code",
   "execution_count": null,
   "metadata": {},
   "outputs": [],
   "source": []
  },
  {
   "cell_type": "code",
   "execution_count": 203,
   "metadata": {},
   "outputs": [],
   "source": [
    "y_data = plot_data_new[0:].values"
   ]
  },
  {
   "cell_type": "code",
   "execution_count": 204,
   "metadata": {},
   "outputs": [],
   "source": [
    "y_data = y_data.flatten()"
   ]
  },
  {
   "cell_type": "code",
   "execution_count": 205,
   "metadata": {},
   "outputs": [
    {
     "data": {
      "text/plain": [
       "array([1890, 1070,  620,  593,  592,  568,  566,  547,  528,  515,  450,\n",
       "        398,  187,  172,   39,    5])"
      ]
     },
     "execution_count": 205,
     "metadata": {},
     "output_type": "execute_result"
    }
   ],
   "source": [
    "y_data"
   ]
  },
  {
   "cell_type": "markdown",
   "metadata": {},
   "source": [
    "## Plotting Data"
   ]
  },
  {
   "cell_type": "code",
   "execution_count": 195,
   "metadata": {},
   "outputs": [],
   "source": [
    "src = ColumnDataSource(full_data_set)"
   ]
  },
  {
   "cell_type": "code",
   "execution_count": 198,
   "metadata": {},
   "outputs": [
    {
     "data": {
      "text/plain": [
       "dict_keys(['stool-plenty', 'colon-clear', 'dyed-resection-margins', 'normal-cecum', 'normal-z-line', 'ulcerative-colitis', 'normal-pylorus', 'dyed-lifted-polyps', 'esophagitis', 'stool-inclusions', 'polyps', 'retroflex-stomach', 'retroflex-rectum', 'instruments', 'blurry-nothing', 'out-of-patient', 'index'])"
      ]
     },
     "execution_count": 198,
     "metadata": {},
     "output_type": "execute_result"
    }
   ],
   "source": [
    "src.data.keys()"
   ]
  },
  {
   "cell_type": "code",
   "execution_count": 217,
   "metadata": {},
   "outputs": [],
   "source": [
    "x_lables = list(src.data.keys())"
   ]
  },
  {
   "cell_type": "code",
   "execution_count": 218,
   "metadata": {},
   "outputs": [
    {
     "data": {
      "text/plain": [
       "['stool-plenty',\n",
       " 'colon-clear',\n",
       " 'dyed-resection-margins',\n",
       " 'normal-cecum',\n",
       " 'normal-z-line',\n",
       " 'ulcerative-colitis',\n",
       " 'normal-pylorus',\n",
       " 'dyed-lifted-polyps',\n",
       " 'esophagitis',\n",
       " 'stool-inclusions',\n",
       " 'polyps',\n",
       " 'retroflex-stomach',\n",
       " 'retroflex-rectum',\n",
       " 'instruments',\n",
       " 'blurry-nothing',\n",
       " 'out-of-patient',\n",
       " 'index']"
      ]
     },
     "execution_count": 218,
     "metadata": {},
     "output_type": "execute_result"
    }
   ],
   "source": [
    "x_lables "
   ]
  },
  {
   "cell_type": "code",
   "execution_count": 228,
   "metadata": {},
   "outputs": [],
   "source": [
    "y_data_1 = full_data_set.iloc[0:1]"
   ]
  },
  {
   "cell_type": "code",
   "execution_count": 229,
   "metadata": {},
   "outputs": [
    {
     "data": {
      "text/html": [
       "<div>\n",
       "<style scoped>\n",
       "    .dataframe tbody tr th:only-of-type {\n",
       "        vertical-align: middle;\n",
       "    }\n",
       "\n",
       "    .dataframe tbody tr th {\n",
       "        vertical-align: top;\n",
       "    }\n",
       "\n",
       "    .dataframe thead th {\n",
       "        text-align: right;\n",
       "    }\n",
       "</style>\n",
       "<table border=\"1\" class=\"dataframe\">\n",
       "  <thead>\n",
       "    <tr style=\"text-align: right;\">\n",
       "      <th></th>\n",
       "      <th>stool-plenty</th>\n",
       "      <th>colon-clear</th>\n",
       "      <th>dyed-resection-margins</th>\n",
       "      <th>normal-cecum</th>\n",
       "      <th>normal-z-line</th>\n",
       "      <th>ulcerative-colitis</th>\n",
       "      <th>normal-pylorus</th>\n",
       "      <th>dyed-lifted-polyps</th>\n",
       "      <th>esophagitis</th>\n",
       "      <th>stool-inclusions</th>\n",
       "      <th>polyps</th>\n",
       "      <th>retroflex-stomach</th>\n",
       "      <th>retroflex-rectum</th>\n",
       "      <th>instruments</th>\n",
       "      <th>blurry-nothing</th>\n",
       "      <th>out-of-patient</th>\n",
       "    </tr>\n",
       "  </thead>\n",
       "  <tbody>\n",
       "    <tr>\n",
       "      <th>method1</th>\n",
       "      <td>1890</td>\n",
       "      <td>1070</td>\n",
       "      <td>620</td>\n",
       "      <td>593</td>\n",
       "      <td>592</td>\n",
       "      <td>568</td>\n",
       "      <td>566</td>\n",
       "      <td>547</td>\n",
       "      <td>528</td>\n",
       "      <td>515</td>\n",
       "      <td>450</td>\n",
       "      <td>398</td>\n",
       "      <td>187</td>\n",
       "      <td>172</td>\n",
       "      <td>39</td>\n",
       "      <td>5</td>\n",
       "    </tr>\n",
       "  </tbody>\n",
       "</table>\n",
       "</div>"
      ],
      "text/plain": [
       "         stool-plenty  colon-clear  dyed-resection-margins  normal-cecum  \\\n",
       "method1          1890         1070                     620           593   \n",
       "\n",
       "         normal-z-line  ulcerative-colitis  normal-pylorus  \\\n",
       "method1            592                 568             566   \n",
       "\n",
       "         dyed-lifted-polyps  esophagitis  stool-inclusions  polyps  \\\n",
       "method1                 547          528               515     450   \n",
       "\n",
       "         retroflex-stomach  retroflex-rectum  instruments  blurry-nothing  \\\n",
       "method1                398               187          172              39   \n",
       "\n",
       "         out-of-patient  \n",
       "method1               5  "
      ]
     },
     "execution_count": 229,
     "metadata": {},
     "output_type": "execute_result"
    }
   ],
   "source": [
    "y_data_1"
   ]
  },
  {
   "cell_type": "code",
   "execution_count": null,
   "metadata": {},
   "outputs": [],
   "source": []
  },
  {
   "cell_type": "code",
   "execution_count": null,
   "metadata": {},
   "outputs": [],
   "source": [
    "p.vbar(x = x_lables, top= , \n",
    "       width=0.9"
   ]
  },
  {
   "cell_type": "code",
   "execution_count": null,
   "metadata": {},
   "outputs": [],
   "source": []
  },
  {
   "cell_type": "code",
   "execution_count": null,
   "metadata": {},
   "outputs": [],
   "source": []
  },
  {
   "cell_type": "code",
   "execution_count": null,
   "metadata": {},
   "outputs": [],
   "source": []
  },
  {
   "cell_type": "code",
   "execution_count": null,
   "metadata": {},
   "outputs": [],
   "source": []
  },
  {
   "cell_type": "code",
   "execution_count": null,
   "metadata": {},
   "outputs": [],
   "source": []
  },
  {
   "cell_type": "code",
   "execution_count": null,
   "metadata": {},
   "outputs": [],
   "source": []
  },
  {
   "cell_type": "code",
   "execution_count": null,
   "metadata": {},
   "outputs": [],
   "source": []
  },
  {
   "cell_type": "code",
   "execution_count": 211,
   "metadata": {},
   "outputs": [
    {
     "data": {
      "text/plain": [
       "{'blurry-nothing': array([39, 39, 39]),\n",
       " 'colon-clear': array([1070, 1073, 1070]),\n",
       " 'dyed-lifted-polyps': array([547, 580, 590]),\n",
       " 'dyed-resection-margins': array([620, 583, 583]),\n",
       " 'esophagitis': array([528, 478, 483]),\n",
       " 'index': array(['method1', 'method2', 'method3'], dtype=object),\n",
       " 'instruments': array([172, 175, 165]),\n",
       " 'normal-cecum': array([593, 602, 604]),\n",
       " 'normal-pylorus': array([566, 569, 569]),\n",
       " 'normal-z-line': array([592, 641, 636]),\n",
       " 'out-of-patient': array([5, 6, 6]),\n",
       " 'polyps': array([450, 424, 423]),\n",
       " 'retroflex-rectum': array([187, 199, 194]),\n",
       " 'retroflex-stomach': array([398, 393, 399]),\n",
       " 'stool-inclusions': array([515, 532, 508]),\n",
       " 'stool-plenty': array([1890, 1860, 1920]),\n",
       " 'ulcerative-colitis': array([568, 586, 551])}"
      ]
     },
     "execution_count": 211,
     "metadata": {},
     "output_type": "execute_result"
    }
   ],
   "source": [
    "src.data"
   ]
  },
  {
   "cell_type": "code",
   "execution_count": 219,
   "metadata": {},
   "outputs": [],
   "source": [
    "p = figure(x_range = x_lables, plot_height = 500 ,title= \"Method 1 detections\")"
   ]
  },
  {
   "cell_type": "code",
   "execution_count": null,
   "metadata": {},
   "outputs": [],
   "source": []
  },
  {
   "cell_type": "code",
   "execution_count": null,
   "metadata": {},
   "outputs": [],
   "source": [
    "p = figure(x_range = , plot_height = 500 ,title= \"Method 1 detections\",  tooltips=TOOLTIPS)\n",
    "p.vbar(x = 'x_data', top= 'counts', \n",
    "       width=0.9, source = source, \n",
    "       fill_color=factor_cmap('x_data', palette=my_colors, factors=x_data), \n",
    "       hover_fill_alpha=1, hover_fill_color='black')\n",
    "p.xgrid.grid_line_color = None\n",
    "p.xaxis.major_label_orientation = 1\n",
    "p.y_range.start = 0\n",
    "show(p)"
   ]
  },
  {
   "cell_type": "markdown",
   "metadata": {},
   "source": [
    "### start from this location"
   ]
  },
  {
   "cell_type": "code",
   "execution_count": null,
   "metadata": {},
   "outputs": [],
   "source": []
  },
  {
   "cell_type": "code",
   "execution_count": null,
   "metadata": {},
   "outputs": [],
   "source": []
  },
  {
   "cell_type": "code",
   "execution_count": null,
   "metadata": {},
   "outputs": [],
   "source": []
  },
  {
   "cell_type": "code",
   "execution_count": 199,
   "metadata": {},
   "outputs": [],
   "source": [
    "my_colors = Category20[16]"
   ]
  },
  {
   "cell_type": "code",
   "execution_count": 200,
   "metadata": {},
   "outputs": [
    {
     "data": {
      "text/plain": [
       "['#1f77b4',\n",
       " '#aec7e8',\n",
       " '#ff7f0e',\n",
       " '#ffbb78',\n",
       " '#2ca02c',\n",
       " '#98df8a',\n",
       " '#d62728',\n",
       " '#ff9896',\n",
       " '#9467bd',\n",
       " '#c5b0d5',\n",
       " '#8c564b',\n",
       " '#c49c94',\n",
       " '#e377c2',\n",
       " '#f7b6d2',\n",
       " '#7f7f7f',\n",
       " '#c7c7c7']"
      ]
     },
     "execution_count": 200,
     "metadata": {},
     "output_type": "execute_result"
    }
   ],
   "source": [
    "my_colors"
   ]
  },
  {
   "cell_type": "code",
   "execution_count": 163,
   "metadata": {},
   "outputs": [],
   "source": [
    "colors_to_plot = factor_cmap(x_data, palette=my_colors, factors=x_data)"
   ]
  },
  {
   "cell_type": "code",
   "execution_count": 164,
   "metadata": {},
   "outputs": [],
   "source": [
    "source = ColumnDataSource(data=dict(x_data=x_data, counts=y_data))"
   ]
  },
  {
   "cell_type": "code",
   "execution_count": 165,
   "metadata": {},
   "outputs": [],
   "source": [
    "TOOLTIPS = [\n",
    "    (\"Class\", \"@x_data\"),\n",
    "    (\"No of Predictions\", \"@counts\"),\n",
    "]"
   ]
  },
  {
   "cell_type": "code",
   "execution_count": 167,
   "metadata": {},
   "outputs": [
    {
     "data": {
      "text/html": [
       "\n",
       "\n",
       "\n",
       "\n",
       "\n",
       "\n",
       "  <div class=\"bk-root\" id=\"a2b3608f-8142-48ab-8e26-098a0e829cc5\"></div>\n"
      ]
     },
     "metadata": {},
     "output_type": "display_data"
    },
    {
     "data": {
      "application/javascript": [
       "(function(root) {\n",
       "  function embed_document(root) {\n",
       "    \n",
       "  var docs_json = {\"1690c717-c355-4ef1-be06-05b773f0024f\":{\"roots\":{\"references\":[{\"attributes\":{},\"id\":\"5352a937-890e-4b3a-b5b1-9ebd348e3757\",\"type\":\"Selection\"},{\"attributes\":{\"callback\":null,\"renderers\":\"auto\",\"tooltips\":[[\"Class\",\"@x_data\"],[\"No of Predictions\",\"@counts\"]]},\"id\":\"b792c765-89ef-455e-b998-3fd3ae3687db\",\"type\":\"HoverTool\"},{\"attributes\":{},\"id\":\"7035c703-2a90-4e1f-8827-1273a111f858\",\"type\":\"HelpTool\"},{\"attributes\":{\"factors\":[\"stool-plenty\",\"colon-clear\",\"dyed-resection-margins\",\"normal-cecum\",\"normal-z-line\",\"ulcerative-colitis\",\"normal-pylorus\",\"dyed-lifted-polyps\",\"esophagitis\",\"stool-inclusions\",\"polyps\",\"retroflex-stomach\",\"retroflex-rectum\",\"instruments\",\"blurry-nothing\",\"out-of-patient\"],\"palette\":[\"#1f77b4\",\"#aec7e8\",\"#ff7f0e\",\"#ffbb78\",\"#2ca02c\",\"#98df8a\",\"#d62728\",\"#ff9896\",\"#9467bd\",\"#c5b0d5\",\"#8c564b\",\"#c49c94\",\"#e377c2\",\"#f7b6d2\",\"#7f7f7f\",\"#c7c7c7\"]},\"id\":\"fc02bd96-730a-4cbb-8252-f224fa1d098b\",\"type\":\"CategoricalColorMapper\"},{\"attributes\":{\"callback\":null,\"factors\":[\"stool-plenty\",\"colon-clear\",\"dyed-resection-margins\",\"normal-cecum\",\"normal-z-line\",\"ulcerative-colitis\",\"normal-pylorus\",\"dyed-lifted-polyps\",\"esophagitis\",\"stool-inclusions\",\"polyps\",\"retroflex-stomach\",\"retroflex-rectum\",\"instruments\",\"blurry-nothing\",\"out-of-patient\"]},\"id\":\"2bb765bf-4748-4220-ba89-b444fd5ea329\",\"type\":\"FactorRange\"},{\"attributes\":{\"plot\":null,\"text\":\"Method 1 detections\"},\"id\":\"9f27ff4c-4679-469a-9170-8e3af66d2d01\",\"type\":\"Title\"},{\"attributes\":{\"formatter\":{\"id\":\"6968ba1e-bf77-4548-ac59-7adc79eb1908\",\"type\":\"BasicTickFormatter\"},\"plot\":{\"id\":\"2e865112-e5a4-4618-9a59-8a5d39ca19b6\",\"subtype\":\"Figure\",\"type\":\"Plot\"},\"ticker\":{\"id\":\"2a07a9a5-4b5d-48d0-a087-db1a92048269\",\"type\":\"BasicTicker\"}},\"id\":\"1ce1733a-766a-4729-8462-58646dddd143\",\"type\":\"LinearAxis\"},{\"attributes\":{\"data_source\":{\"id\":\"8dae16fa-20b7-48cb-a963-25b6e72d44cb\",\"type\":\"ColumnDataSource\"},\"glyph\":{\"id\":\"096d6136-6585-4af5-bd6f-24c48f68b8e2\",\"type\":\"VBar\"},\"hover_glyph\":{\"id\":\"0f4d08a3-f33b-40d3-aaba-29eb9c1a26e3\",\"type\":\"VBar\"},\"muted_glyph\":null,\"nonselection_glyph\":{\"id\":\"3a3ba035-2d49-470a-88cf-129f29eef011\",\"type\":\"VBar\"},\"selection_glyph\":null,\"view\":{\"id\":\"25bf23f0-76e0-4a8f-8ea4-57f0bdbc9116\",\"type\":\"CDSView\"}},\"id\":\"11a07007-f84b-4aab-ad73-3fa89a34fc11\",\"type\":\"GlyphRenderer\"},{\"attributes\":{},\"id\":\"9d32e5f4-083a-4711-a199-92f7589f64fa\",\"type\":\"CategoricalScale\"},{\"attributes\":{\"formatter\":{\"id\":\"5d7873de-2703-4231-9d1f-6b5d551d2162\",\"type\":\"CategoricalTickFormatter\"},\"major_label_orientation\":1,\"plot\":{\"id\":\"2e865112-e5a4-4618-9a59-8a5d39ca19b6\",\"subtype\":\"Figure\",\"type\":\"Plot\"},\"ticker\":{\"id\":\"171f5cf4-4923-4e10-998a-9db7b3d0e78e\",\"type\":\"CategoricalTicker\"}},\"id\":\"dcf739ee-060b-4ba1-9a16-47b6b72d2c08\",\"type\":\"CategoricalAxis\"},{\"attributes\":{\"grid_line_color\":{\"value\":null},\"plot\":{\"id\":\"2e865112-e5a4-4618-9a59-8a5d39ca19b6\",\"subtype\":\"Figure\",\"type\":\"Plot\"},\"ticker\":{\"id\":\"171f5cf4-4923-4e10-998a-9db7b3d0e78e\",\"type\":\"CategoricalTicker\"}},\"id\":\"4ccc4791-ead8-4868-9f1c-82d3c59a8b3b\",\"type\":\"Grid\"},{\"attributes\":{},\"id\":\"73a85430-db0f-450e-b6fc-1164106f1789\",\"type\":\"LinearScale\"},{\"attributes\":{\"callback\":null,\"data\":{\"counts\":[1890,1070,620,593,592,568,566,547,528,515,450,398,187,172,39,5],\"x_data\":[\"stool-plenty\",\"colon-clear\",\"dyed-resection-margins\",\"normal-cecum\",\"normal-z-line\",\"ulcerative-colitis\",\"normal-pylorus\",\"dyed-lifted-polyps\",\"esophagitis\",\"stool-inclusions\",\"polyps\",\"retroflex-stomach\",\"retroflex-rectum\",\"instruments\",\"blurry-nothing\",\"out-of-patient\"]},\"selected\":{\"id\":\"5352a937-890e-4b3a-b5b1-9ebd348e3757\",\"type\":\"Selection\"},\"selection_policy\":{\"id\":\"6c148011-0322-4913-bd5a-96968eebbf40\",\"type\":\"UnionRenderers\"}},\"id\":\"8dae16fa-20b7-48cb-a963-25b6e72d44cb\",\"type\":\"ColumnDataSource\"},{\"attributes\":{\"below\":[{\"id\":\"dcf739ee-060b-4ba1-9a16-47b6b72d2c08\",\"type\":\"CategoricalAxis\"}],\"left\":[{\"id\":\"1ce1733a-766a-4729-8462-58646dddd143\",\"type\":\"LinearAxis\"}],\"plot_height\":500,\"renderers\":[{\"id\":\"dcf739ee-060b-4ba1-9a16-47b6b72d2c08\",\"type\":\"CategoricalAxis\"},{\"id\":\"4ccc4791-ead8-4868-9f1c-82d3c59a8b3b\",\"type\":\"Grid\"},{\"id\":\"1ce1733a-766a-4729-8462-58646dddd143\",\"type\":\"LinearAxis\"},{\"id\":\"96fdf219-bcf2-446c-bfcc-e2558abbd74e\",\"type\":\"Grid\"},{\"id\":\"90abcdd4-7ce6-4faf-98a4-14797ff6203c\",\"type\":\"BoxAnnotation\"},{\"id\":\"11a07007-f84b-4aab-ad73-3fa89a34fc11\",\"type\":\"GlyphRenderer\"}],\"title\":{\"id\":\"9f27ff4c-4679-469a-9170-8e3af66d2d01\",\"type\":\"Title\"},\"toolbar\":{\"id\":\"af9966ac-eec2-46e5-b129-c0067e99f29c\",\"type\":\"Toolbar\"},\"x_range\":{\"id\":\"2bb765bf-4748-4220-ba89-b444fd5ea329\",\"type\":\"FactorRange\"},\"x_scale\":{\"id\":\"9d32e5f4-083a-4711-a199-92f7589f64fa\",\"type\":\"CategoricalScale\"},\"y_range\":{\"id\":\"b9bfa627-434c-43b7-9c1d-a28dd4b524fa\",\"type\":\"DataRange1d\"},\"y_scale\":{\"id\":\"73a85430-db0f-450e-b6fc-1164106f1789\",\"type\":\"LinearScale\"}},\"id\":\"2e865112-e5a4-4618-9a59-8a5d39ca19b6\",\"subtype\":\"Figure\",\"type\":\"Plot\"},{\"attributes\":{\"callback\":null,\"start\":0},\"id\":\"b9bfa627-434c-43b7-9c1d-a28dd4b524fa\",\"type\":\"DataRange1d\"},{\"attributes\":{\"fill_color\":{\"value\":\"black\"},\"line_color\":{\"value\":\"#1f77b4\"},\"top\":{\"field\":\"counts\"},\"width\":{\"value\":0.9},\"x\":{\"field\":\"x_data\"}},\"id\":\"0f4d08a3-f33b-40d3-aaba-29eb9c1a26e3\",\"type\":\"VBar\"},{\"attributes\":{\"active_drag\":\"auto\",\"active_inspect\":\"auto\",\"active_multi\":null,\"active_scroll\":\"auto\",\"active_tap\":\"auto\",\"tools\":[{\"id\":\"e3bf4338-9d4e-4d62-9e22-e3903234e8dd\",\"type\":\"PanTool\"},{\"id\":\"9f409fd3-610d-4bc5-8733-af47a965770e\",\"type\":\"WheelZoomTool\"},{\"id\":\"66ef9e98-e54c-4d65-8954-2f10e77219ca\",\"type\":\"BoxZoomTool\"},{\"id\":\"9c2f530f-afb4-421d-adcd-9f5ceef2c73b\",\"type\":\"SaveTool\"},{\"id\":\"220d2e20-774f-434d-a140-af83b3fdf41f\",\"type\":\"ResetTool\"},{\"id\":\"7035c703-2a90-4e1f-8827-1273a111f858\",\"type\":\"HelpTool\"},{\"id\":\"b792c765-89ef-455e-b998-3fd3ae3687db\",\"type\":\"HoverTool\"}]},\"id\":\"af9966ac-eec2-46e5-b129-c0067e99f29c\",\"type\":\"Toolbar\"},{\"attributes\":{},\"id\":\"9f409fd3-610d-4bc5-8733-af47a965770e\",\"type\":\"WheelZoomTool\"},{\"attributes\":{},\"id\":\"220d2e20-774f-434d-a140-af83b3fdf41f\",\"type\":\"ResetTool\"},{\"attributes\":{},\"id\":\"9c2f530f-afb4-421d-adcd-9f5ceef2c73b\",\"type\":\"SaveTool\"},{\"attributes\":{\"source\":{\"id\":\"8dae16fa-20b7-48cb-a963-25b6e72d44cb\",\"type\":\"ColumnDataSource\"}},\"id\":\"25bf23f0-76e0-4a8f-8ea4-57f0bdbc9116\",\"type\":\"CDSView\"},{\"attributes\":{\"overlay\":{\"id\":\"90abcdd4-7ce6-4faf-98a4-14797ff6203c\",\"type\":\"BoxAnnotation\"}},\"id\":\"66ef9e98-e54c-4d65-8954-2f10e77219ca\",\"type\":\"BoxZoomTool\"},{\"attributes\":{},\"id\":\"e3bf4338-9d4e-4d62-9e22-e3903234e8dd\",\"type\":\"PanTool\"},{\"attributes\":{\"fill_alpha\":{\"value\":0.1},\"fill_color\":{\"value\":\"#1f77b4\"},\"line_alpha\":{\"value\":0.1},\"line_color\":{\"value\":\"#1f77b4\"},\"top\":{\"field\":\"counts\"},\"width\":{\"value\":0.9},\"x\":{\"field\":\"x_data\"}},\"id\":\"3a3ba035-2d49-470a-88cf-129f29eef011\",\"type\":\"VBar\"},{\"attributes\":{\"bottom_units\":\"screen\",\"fill_alpha\":{\"value\":0.5},\"fill_color\":{\"value\":\"lightgrey\"},\"left_units\":\"screen\",\"level\":\"overlay\",\"line_alpha\":{\"value\":1.0},\"line_color\":{\"value\":\"black\"},\"line_dash\":[4,4],\"line_width\":{\"value\":2},\"plot\":null,\"render_mode\":\"css\",\"right_units\":\"screen\",\"top_units\":\"screen\"},\"id\":\"90abcdd4-7ce6-4faf-98a4-14797ff6203c\",\"type\":\"BoxAnnotation\"},{\"attributes\":{},\"id\":\"5d7873de-2703-4231-9d1f-6b5d551d2162\",\"type\":\"CategoricalTickFormatter\"},{\"attributes\":{\"fill_color\":{\"field\":\"x_data\",\"transform\":{\"id\":\"fc02bd96-730a-4cbb-8252-f224fa1d098b\",\"type\":\"CategoricalColorMapper\"}},\"line_color\":{\"value\":\"#1f77b4\"},\"top\":{\"field\":\"counts\"},\"width\":{\"value\":0.9},\"x\":{\"field\":\"x_data\"}},\"id\":\"096d6136-6585-4af5-bd6f-24c48f68b8e2\",\"type\":\"VBar\"},{\"attributes\":{\"dimension\":1,\"plot\":{\"id\":\"2e865112-e5a4-4618-9a59-8a5d39ca19b6\",\"subtype\":\"Figure\",\"type\":\"Plot\"},\"ticker\":{\"id\":\"2a07a9a5-4b5d-48d0-a087-db1a92048269\",\"type\":\"BasicTicker\"}},\"id\":\"96fdf219-bcf2-446c-bfcc-e2558abbd74e\",\"type\":\"Grid\"},{\"attributes\":{},\"id\":\"2a07a9a5-4b5d-48d0-a087-db1a92048269\",\"type\":\"BasicTicker\"},{\"attributes\":{},\"id\":\"171f5cf4-4923-4e10-998a-9db7b3d0e78e\",\"type\":\"CategoricalTicker\"},{\"attributes\":{},\"id\":\"6c148011-0322-4913-bd5a-96968eebbf40\",\"type\":\"UnionRenderers\"},{\"attributes\":{},\"id\":\"6968ba1e-bf77-4548-ac59-7adc79eb1908\",\"type\":\"BasicTickFormatter\"}],\"root_ids\":[\"2e865112-e5a4-4618-9a59-8a5d39ca19b6\"]},\"title\":\"Bokeh Application\",\"version\":\"0.13.0\"}};\n",
       "  var render_items = [{\"docid\":\"1690c717-c355-4ef1-be06-05b773f0024f\",\"roots\":{\"2e865112-e5a4-4618-9a59-8a5d39ca19b6\":\"a2b3608f-8142-48ab-8e26-098a0e829cc5\"}}];\n",
       "  root.Bokeh.embed.embed_items_notebook(docs_json, render_items);\n",
       "\n",
       "  }\n",
       "  if (root.Bokeh !== undefined) {\n",
       "    embed_document(root);\n",
       "  } else {\n",
       "    var attempts = 0;\n",
       "    var timer = setInterval(function(root) {\n",
       "      if (root.Bokeh !== undefined) {\n",
       "        embed_document(root);\n",
       "        clearInterval(timer);\n",
       "      }\n",
       "      attempts++;\n",
       "      if (attempts > 100) {\n",
       "        console.log(\"Bokeh: ERROR: Unable to run BokehJS code because BokehJS library is missing\")\n",
       "        clearInterval(timer);\n",
       "      }\n",
       "    }, 10, root)\n",
       "  }\n",
       "})(window);"
      ],
      "application/vnd.bokehjs_exec.v0+json": ""
     },
     "metadata": {
      "application/vnd.bokehjs_exec.v0+json": {
       "id": "2e865112-e5a4-4618-9a59-8a5d39ca19b6"
      }
     },
     "output_type": "display_data"
    }
   ],
   "source": [
    "p = figure(x_range = x_data, plot_height = 500 ,title= \"Method 1 detections\",  tooltips=TOOLTIPS)\n",
    "p.vbar(x = 'x_data', top= 'counts', \n",
    "       width=0.9, source = source, \n",
    "       fill_color=factor_cmap('x_data', palette=my_colors, factors=x_data), \n",
    "       hover_fill_alpha=1, hover_fill_color='black')\n",
    "p.xgrid.grid_line_color = None\n",
    "p.xaxis.major_label_orientation = 1\n",
    "p.y_range.start = 0\n",
    "show(p)"
   ]
  },
  {
   "cell_type": "code",
   "execution_count": null,
   "metadata": {},
   "outputs": [],
   "source": []
  },
  {
   "cell_type": "code",
   "execution_count": null,
   "metadata": {},
   "outputs": [],
   "source": []
  },
  {
   "cell_type": "code",
   "execution_count": null,
   "metadata": {},
   "outputs": [],
   "source": []
  }
 ],
 "metadata": {
  "kernelspec": {
   "display_name": "Python 3",
   "language": "python",
   "name": "python3"
  },
  "language_info": {
   "codemirror_mode": {
    "name": "ipython",
    "version": 3
   },
   "file_extension": ".py",
   "mimetype": "text/x-python",
   "name": "python",
   "nbconvert_exporter": "python",
   "pygments_lexer": "ipython3",
   "version": "3.6.5"
  }
 },
 "nbformat": 4,
 "nbformat_minor": 2
}
