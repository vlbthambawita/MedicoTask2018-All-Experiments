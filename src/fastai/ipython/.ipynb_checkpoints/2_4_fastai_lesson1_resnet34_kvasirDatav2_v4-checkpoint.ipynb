{
 "cells": [
  {
   "cell_type": "markdown",
   "metadata": {},
   "source": [
    "# Kvasir - classification - Vajira"
   ]
  },
  {
   "cell_type": "markdown",
   "metadata": {},
   "source": [
    "# 2_4 FastAI - Resnet34 - Kvasir Dataset v2 (600,200,200) - v4"
   ]
  },
  {
   "cell_type": "markdown",
   "metadata": {},
   "source": [
    "## Epochs - 4 (Equal to the value in file 2_2)"
   ]
  },
  {
   "cell_type": "code",
   "execution_count": 1,
   "metadata": {},
   "outputs": [],
   "source": [
    "# Put these at the top of every notebook, to get automatic reloading and inline plotting\n",
    "%reload_ext autoreload\n",
    "%autoreload 2\n",
    "%matplotlib inline"
   ]
  },
  {
   "cell_type": "code",
   "execution_count": 2,
   "metadata": {},
   "outputs": [],
   "source": [
    "# This file contains all the main external libs we'll use\n",
    "from fastai.imports import *"
   ]
  },
  {
   "cell_type": "code",
   "execution_count": 3,
   "metadata": {},
   "outputs": [],
   "source": [
    "from fastai.transforms import *\n",
    "from fastai.conv_learner import *\n",
    "from fastai.model import *\n",
    "from fastai.dataset import *\n",
    "from fastai.sgdr import *\n",
    "from fastai.plots import *"
   ]
  },
  {
   "cell_type": "code",
   "execution_count": 4,
   "metadata": {},
   "outputs": [],
   "source": [
    "PATH = \"data_v2/\"\n",
    "sz=64 # changed to 64 - 64X64 is good for satalite image analysis, Why? to study\n",
    "arch=resnet34\n",
    "bs=64"
   ]
  },
  {
   "cell_type": "code",
   "execution_count": 5,
   "metadata": {},
   "outputs": [],
   "source": [
    "tfms = tfms_from_model(arch, sz, aug_tfms=transforms_side_on, max_zoom=1.1)\n",
    "data = ImageClassifierData.from_paths(PATH, tfms=tfms, bs=bs, num_workers=4, val_name='validation')\n",
    "learn = ConvLearner.pretrained(arch, data)"
   ]
  },
  {
   "cell_type": "code",
   "execution_count": 8,
   "metadata": {},
   "outputs": [
    {
     "data": {
      "application/vnd.jupyter.widget-view+json": {
       "model_id": "2dfeb9c08e894dc6a5f43fbd64573b9d",
       "version_major": 2,
       "version_minor": 0
      },
      "text/plain": [
       "HBox(children=(IntProgress(value=0, description='Epoch', max=1), HTML(value='')))"
      ]
     },
     "metadata": {},
     "output_type": "display_data"
    },
    {
     "name": "stdout",
     "output_type": "stream",
     "text": [
      " 93%|█████████▎| 70/75 [00:15<00:01,  4.57it/s, loss=11.6]"
     ]
    },
    {
     "data": {
      "image/png": "[encoded data removed]",
      "text/plain": [
       "<Figure size 432x288 with 1 Axes>"
      ]
     },
     "metadata": {},
     "output_type": "display_data"
    }
   ],
   "source": [
    "lrf=learn.lr_find()\n",
    "learn.sched.plot()"
   ]
  },
  {
   "cell_type": "code",
   "execution_count": 10,
   "metadata": {},
   "outputs": [],
   "source": [
    "lr = 0.2"
   ]
  },
  {
   "cell_type": "code",
   "execution_count": 10,
   "metadata": {
    "hidden": true,
    "scrolled": false
   },
   "outputs": [
    {
     "data": {
      "application/vnd.jupyter.widget-view+json": {
       "model_id": "84f5427a4c374056bb1312897760041f",
       "version_major": 2,
       "version_minor": 0
      },
      "text/plain": [
       "HBox(children=(IntProgress(value=0, description='Epoch', max=15), HTML(value='')))"
      ]
     },
     "metadata": {},
     "output_type": "display_data"
    },
    {
     "name": "stdout",
     "output_type": "stream",
     "text": [
      "epoch      trn_loss   val_loss   accuracy                 \n",
      "    0      1.426414   0.706697   0.76      \n",
      "    1      0.952372   0.580281   0.768125                  \n",
      "    2      0.669181   0.520423   0.783125                  \n",
      "    3      0.691967   0.584175   0.77625                   \n",
      "    4      0.653139   0.580617   0.7625                    \n",
      "    5      0.564644   0.494252   0.804375                  \n",
      "    6      0.499008   0.493287   0.804375                  \n",
      "    7      0.610974   0.619156   0.771875                  \n",
      "    8      0.644519   0.568733   0.771875                  \n",
      "    9      0.589918   0.652016   0.775                     \n",
      "    10     0.570832   0.532012   0.78875                   \n",
      "    11     0.514912   0.482309   0.804375                  \n",
      "    12     0.47609    0.490096   0.811875                  \n",
      "    13     0.440477   0.475173   0.81125                   \n",
      "    14     0.422645   0.479043   0.811875                  \n"
     ]
    },
    {
     "data": {
      "text/plain": [
       "[array([0.47904]), 0.811875]"
      ]
     },
     "execution_count": 10,
     "metadata": {},
     "output_type": "execute_result"
    }
   ],
   "source": [
    "learn.fit(lr, 4, cycle_len=1, cycle_mult=2)"
   ]
  },
  {
   "cell_type": "code",
   "execution_count": 11,
   "metadata": {},
   "outputs": [],
   "source": [
    "lrs = np.array([lr/9,lr/3,lr])"
   ]
  },
  {
   "cell_type": "code",
   "execution_count": 13,
   "metadata": {},
   "outputs": [
    {
     "data": {
      "application/vnd.jupyter.widget-view+json": {
       "model_id": "cfc6abcdedef4341bcb9df90ebf6cd82",
       "version_major": 2,
       "version_minor": 0
      },
      "text/plain": [
       "HBox(children=(IntProgress(value=0, description='Epoch', max=15), HTML(value='')))"
      ]
     },
     "metadata": {},
     "output_type": "display_data"
    },
    {
     "name": "stdout",
     "output_type": "stream",
     "text": [
      "epoch      trn_loss   val_loss   accuracy                  \n",
      "    0      0.886736   0.667461   0.6925    \n",
      "    1      0.80353    0.602632   0.7225                    \n",
      "    2      0.638138   0.520999   0.7725                    \n",
      "    3      0.648252   0.88203    0.654375                  \n",
      "    4      0.597402   0.52077    0.785625                  \n",
      "    5      0.514993   0.427349   0.819375                  \n",
      "    6      0.430273   0.41168    0.8275                    \n",
      "    7      0.528035   0.528277   0.775625                  \n",
      "    8      0.524163   0.772442   0.7325                    \n",
      "    9      0.480919   0.816998   0.733125                  \n",
      "    10     0.417073   0.434953   0.826875                  \n",
      "    11     0.353613   0.344403   0.858125                  \n",
      "    12     0.309332   0.347509   0.86625                   \n",
      "    13     0.262457   0.338528   0.86875                   \n",
      "    14     0.25164    0.338498   0.868125                  \n"
     ]
    },
    {
     "data": {
      "text/plain": [
       "[array([0.3385]), 0.868125]"
      ]
     },
     "execution_count": 13,
     "metadata": {},
     "output_type": "execute_result"
    }
   ],
   "source": [
    "learn.unfreeze()\n",
    "learn.fit(lrs, 4, cycle_len=1, cycle_mult=2)"
   ]
  },
  {
   "cell_type": "code",
   "execution_count": 15,
   "metadata": {},
   "outputs": [],
   "source": [
    "learn.save('2_4_resnet34_kvasir_11_07_2018_v1')"
   ]
  },
  {
   "cell_type": "code",
   "execution_count": 16,
   "metadata": {},
   "outputs": [
    {
     "data": {
      "image/png": "[encoded data removed]",
      "text/plain": [
       "<Figure size 432x288 with 1 Axes>"
      ]
     },
     "metadata": {},
     "output_type": "display_data"
    }
   ],
   "source": [
    "learn.sched.plot_loss()"
   ]
  },
  {
   "cell_type": "code",
   "execution_count": 17,
   "metadata": {},
   "outputs": [],
   "source": [
    "sz=128"
   ]
  },
  {
   "cell_type": "code",
   "execution_count": 19,
   "metadata": {},
   "outputs": [],
   "source": [
    "tfms = tfms_from_model(arch, sz, aug_tfms=transforms_side_on, max_zoom=1.1)\n",
    "data = ImageClassifierData.from_paths(PATH, tfms=tfms, bs=bs, num_workers=4,val_name='validation')"
   ]
  },
  {
   "cell_type": "code",
   "execution_count": 20,
   "metadata": {},
   "outputs": [
    {
     "data": {
      "application/vnd.jupyter.widget-view+json": {
       "model_id": "1b277ca974df45fcb8eebfc3b47ce3dd",
       "version_major": 2,
       "version_minor": 0
      },
      "text/plain": [
       "HBox(children=(IntProgress(value=0, description='Epoch', max=15), HTML(value='')))"
      ]
     },
     "metadata": {},
     "output_type": "display_data"
    },
    {
     "name": "stdout",
     "output_type": "stream",
     "text": [
      "epoch      trn_loss   val_loss   accuracy                  \n",
      "    0      0.455508   0.403654   0.84125   \n",
      "    1      0.461491   0.414782   0.831875                  \n",
      "    2      0.429835   0.390908   0.848125                  \n",
      "    3      0.452288   0.456741   0.826875                  \n",
      "    4      0.449076   0.406526   0.833125                  \n",
      "    5      0.41326    0.392638   0.85                      \n",
      "    6      0.406954   0.382206   0.855625                  \n",
      "    7      0.439136   0.403032   0.84875                   \n",
      "    8      0.445843   0.444038   0.829375                  \n",
      "    9      0.447188   0.432587   0.82875                   \n",
      "    10     0.424664   0.394234   0.846875                  \n",
      "    11     0.413692   0.382538   0.849375                  \n",
      "    12     0.411153   0.386208   0.849375                  \n",
      "    13     0.399452   0.37846    0.855625                  \n",
      "    14     0.400362   0.380178   0.85375                   \n"
     ]
    },
    {
     "data": {
      "text/plain": [
       "[array([0.38018]), 0.85375]"
      ]
     },
     "execution_count": 20,
     "metadata": {},
     "output_type": "execute_result"
    }
   ],
   "source": [
    "learn.set_data(data)\n",
    "learn.freeze()\n",
    "learn.fit(lr, 4, cycle_len=1, cycle_mult=2)"
   ]
  },
  {
   "cell_type": "code",
   "execution_count": 21,
   "metadata": {},
   "outputs": [
    {
     "data": {
      "application/vnd.jupyter.widget-view+json": {
       "model_id": "7d9ae80591ae471189a7875fd27012b1",
       "version_major": 2,
       "version_minor": 0
      },
      "text/plain": [
       "HBox(children=(IntProgress(value=0, description='Epoch', max=15), HTML(value='')))"
      ]
     },
     "metadata": {},
     "output_type": "display_data"
    },
    {
     "name": "stdout",
     "output_type": "stream",
     "text": [
      "epoch      trn_loss   val_loss   accuracy                  \n",
      "    0      0.454058   0.349377   0.868125  \n",
      "    1      0.446493   0.457549   0.81625                   \n",
      "    2      0.337048   0.284678   0.886875                  \n",
      "    3      0.402721   0.532901   0.783125                  \n",
      "    4      0.376041   0.304139   0.88125                   \n",
      "    5      0.291563   0.262532   0.895625                  \n",
      "    6      0.230634   0.256259   0.89375                   \n",
      "    7      0.334457   0.518847   0.84125                   \n",
      "    8      0.33137    0.356379   0.85875                   \n",
      "    9      0.289842   0.350439   0.879375                  \n",
      "    10     0.266701   0.344331   0.8775                    \n",
      "    11     0.210261   0.27337    0.903125                  \n",
      "    12     0.17283    0.255053   0.901875                  \n",
      "    13     0.15111    0.249448   0.903125                  \n",
      "    14     0.138962   0.253809   0.904375                  \n"
     ]
    },
    {
     "data": {
      "text/plain": [
       "[array([0.25381]), 0.904375]"
      ]
     },
     "execution_count": 21,
     "metadata": {},
     "output_type": "execute_result"
    }
   ],
   "source": [
    "learn.unfreeze()\n",
    "learn.fit(lrs, 4, cycle_len=1, cycle_mult=2)\n"
   ]
  },
  {
   "cell_type": "code",
   "execution_count": 22,
   "metadata": {},
   "outputs": [],
   "source": [
    "learn.save('2_4_resnet34_kvasir_11_07_2018_v2')"
   ]
  },
  {
   "cell_type": "code",
   "execution_count": 6,
   "metadata": {},
   "outputs": [],
   "source": [
    "learn.load('2_4_resnet34_kvasir_11_07_2018_v2')"
   ]
  },
  {
   "cell_type": "code",
   "execution_count": 8,
   "metadata": {},
   "outputs": [],
   "source": [
    "sz=256\n",
    "tfms = tfms_from_model(arch, sz, aug_tfms=transforms_side_on, max_zoom=1.1)\n",
    "data = ImageClassifierData.from_paths(PATH, tfms=tfms, bs=bs, num_workers=4,val_name='validation')"
   ]
  },
  {
   "cell_type": "code",
   "execution_count": 12,
   "metadata": {},
   "outputs": [
    {
     "data": {
      "application/vnd.jupyter.widget-view+json": {
       "model_id": "6d3e18dec5ab4bd2a4ecc885081b152e",
       "version_major": 2,
       "version_minor": 0
      },
      "text/plain": [
       "HBox(children=(IntProgress(value=0, description='Epoch', max=15), HTML(value='')))"
      ]
     },
     "metadata": {},
     "output_type": "display_data"
    },
    {
     "name": "stdout",
     "output_type": "stream",
     "text": [
      "epoch      trn_loss   val_loss   accuracy                  \n",
      "    0      0.318118   0.303323   0.88625   \n",
      "    1      0.323221   0.31729    0.885625                  \n",
      "    2      0.293751   0.309265   0.8825                    \n",
      "    3      0.299597   0.342339   0.874375                  \n",
      "    4      0.3028     0.328585   0.870625                  \n",
      "    5      0.296025   0.298954   0.88875                   \n",
      "    6      0.291793   0.299216   0.8875                    \n",
      "    7      0.310171   0.38658    0.871875                  \n",
      "    8      0.311872   0.357965   0.87375                   \n",
      "    9      0.304534   0.354853   0.8725                    \n",
      "    10     0.291805   0.331537   0.87625                   \n",
      "    11     0.294438   0.297087   0.8875                    \n",
      "    12     0.276387   0.29452    0.888125                  \n",
      "    13     0.264569   0.296514   0.89                      \n",
      "    14     0.26498    0.295792   0.8875                    \n",
      "\n"
     ]
    },
    {
     "data": {
      "text/plain": [
       "[array([0.29579]), 0.8875]"
      ]
     },
     "execution_count": 12,
     "metadata": {},
     "output_type": "execute_result"
    }
   ],
   "source": [
    "learn.set_data(data)\n",
    "learn.freeze()\n",
    "learn.fit(lr, 4, cycle_len=1, cycle_mult=2)"
   ]
  },
  {
   "cell_type": "code",
   "execution_count": 13,
   "metadata": {},
   "outputs": [
    {
     "data": {
      "application/vnd.jupyter.widget-view+json": {
       "model_id": "ae936ee3f9e84452ab5693693b2d3e23",
       "version_major": 2,
       "version_minor": 0
      },
      "text/plain": [
       "HBox(children=(IntProgress(value=0, description='Epoch', max=15), HTML(value='')))"
      ]
     },
     "metadata": {},
     "output_type": "display_data"
    },
    {
     "name": "stdout",
     "output_type": "stream",
     "text": [
      "epoch      trn_loss   val_loss   accuracy                  \n",
      "    0      0.323456   0.257257   0.89875   \n",
      "    1      0.346407   0.275657   0.9025                    \n",
      "    2      0.249528   0.230567   0.914375                  \n",
      "    3      0.333718   0.385727   0.858125                  \n",
      "    4      0.290072   0.243141   0.898125                  \n",
      "    5      0.23434    0.220416   0.91375                   \n",
      "    6      0.181575   0.21232    0.91875                   \n",
      "    7      0.261924   0.542477   0.813125                  \n",
      "    8      0.288652   0.564288   0.82                      \n",
      "    9      0.247193   0.255816   0.901875                  \n",
      "    10     0.212199   0.256675   0.913125                  \n",
      "    11     0.17862    0.227718   0.913125                  \n",
      "    12     0.139844   0.222488   0.919375                  \n",
      "    13     0.121858   0.208737   0.925625                  \n",
      "    14     0.115422   0.203716   0.925625                  \n",
      "\n"
     ]
    }
   ],
   "source": [
    "learn.unfreeze()\n",
    "learn.fit(lrs, 4, cycle_len=1, cycle_mult=2)\n",
    "learn.save('2_4_resnet34_kvasir_12_07_2018_last')"
   ]
  },
  {
   "cell_type": "code",
   "execution_count": null,
   "metadata": {},
   "outputs": [],
   "source": []
  },
  {
   "cell_type": "code",
   "execution_count": 14,
   "metadata": {
    "hidden": true
   },
   "outputs": [
    {
     "data": {
      "image/png": "[encoded data removed]",
      "text/plain": [
       "<Figure size 432x288 with 1 Axes>"
      ]
     },
     "metadata": {},
     "output_type": "display_data"
    }
   ],
   "source": [
    "learn.sched.plot_loss()"
   ]
  },
  {
   "cell_type": "code",
   "execution_count": 15,
   "metadata": {
    "hidden": true
   },
   "outputs": [
    {
     "name": "stdout",
     "output_type": "stream",
     "text": [
      "                                             \r"
     ]
    }
   ],
   "source": [
    "log_preds,y = learn.TTA()\n",
    "probs = np.mean(np.exp(log_preds),0)"
   ]
  },
  {
   "cell_type": "code",
   "execution_count": 16,
   "metadata": {
    "hidden": true
   },
   "outputs": [
    {
     "data": {
      "text/plain": [
       "0.929375"
      ]
     },
     "execution_count": 16,
     "metadata": {},
     "output_type": "execute_result"
    }
   ],
   "source": [
    "accuracy_np(probs, y)"
   ]
  },
  {
   "cell_type": "markdown",
   "metadata": {},
   "source": [
    "## Analyzing results"
   ]
  },
  {
   "cell_type": "markdown",
   "metadata": {
    "heading_collapsed": true
   },
   "source": [
    "### Confusion matrix "
   ]
  },
  {
   "cell_type": "code",
   "execution_count": 17,
   "metadata": {
    "hidden": true
   },
   "outputs": [],
   "source": [
    "preds = np.argmax(probs, axis=1)"
   ]
  },
  {
   "cell_type": "code",
   "execution_count": 18,
   "metadata": {
    "hidden": true
   },
   "outputs": [],
   "source": [
    "from sklearn.metrics import confusion_matrix\n",
    "cm = confusion_matrix(y, preds)"
   ]
  },
  {
   "cell_type": "code",
   "execution_count": 19,
   "metadata": {},
   "outputs": [],
   "source": [
    "plt.rcParams['figure.figsize'] = [15, 10]"
   ]
  },
  {
   "cell_type": "code",
   "execution_count": 20,
   "metadata": {
    "hidden": true
   },
   "outputs": [
    {
     "name": "stdout",
     "output_type": "stream",
     "text": [
      "[[192   8   0   0   0   0   0   0]\n",
      " [ 10 190   0   0   0   0   0   0]\n",
      " [  0   0 156   0   1  43   0   0]\n",
      " [  0   0   0 198   0   0   2   0]\n",
      " [  0   0   1   0 199   0   0   0]\n",
      " [  0   0  24   0   1 175   0   0]\n",
      " [  0   0   1   4   3   0 186   6]\n",
      " [  1   1   2   2   0   0   3 191]]\n"
     ]
    },
    {
     "data": {
      "image/png": "[encoded data removed]",
      "text/plain": [
       "<Figure size 1080x720 with 2 Axes>"
      ]
     },
     "metadata": {},
     "output_type": "display_data"
    }
   ],
   "source": [
    "plot_confusion_matrix(cm, data.classes)"
   ]
  },
  {
   "cell_type": "code",
   "execution_count": 21,
   "metadata": {},
   "outputs": [],
   "source": [
    "tfms = tfms_from_model(arch, sz, aug_tfms=transforms_side_on, max_zoom=1.1)\n",
    "data = ImageClassifierData.from_paths(PATH, tfms=tfms, bs=bs, val_name='test', num_workers=4)"
   ]
  },
  {
   "cell_type": "code",
   "execution_count": 22,
   "metadata": {
    "hidden": true
   },
   "outputs": [
    {
     "name": "stdout",
     "output_type": "stream",
     "text": [
      "                                             \r"
     ]
    }
   ],
   "source": [
    "log_preds_t,y_t = learn.TTA()"
   ]
  },
  {
   "cell_type": "code",
   "execution_count": 23,
   "metadata": {},
   "outputs": [
    {
     "data": {
      "text/plain": [
       "0.93"
      ]
     },
     "execution_count": 23,
     "metadata": {},
     "output_type": "execute_result"
    }
   ],
   "source": [
    "probs_t = np.mean(np.exp(log_preds_t),0)\n",
    "accuracy_np(probs_t, y_t)"
   ]
  },
  {
   "cell_type": "code",
   "execution_count": 24,
   "metadata": {},
   "outputs": [
    {
     "name": "stdout",
     "output_type": "stream",
     "text": [
      "[[192   8   0   0   0   0   0   0]\n",
      " [ 10 190   0   0   0   0   0   0]\n",
      " [  0   0 155   0   1  44   0   0]\n",
      " [  0   0   0 198   0   0   2   0]\n",
      " [  0   0   0   0 200   0   0   0]\n",
      " [  0   0  21   0   1 178   0   0]\n",
      " [  0   0   1   4   3   0 185   7]\n",
      " [  1   1   2   2   0   0   4 190]]\n"
     ]
    },
    {
     "data": {
      "image/png": "[encoded data removed]",
      "text/plain": [
       "<Figure size 1080x720 with 2 Axes>"
      ]
     },
     "metadata": {},
     "output_type": "display_data"
    }
   ],
   "source": [
    "preds_t = np.argmax(probs_t, axis=1)\n",
    "from sklearn.metrics import confusion_matrix\n",
    "cm = confusion_matrix(y_t, preds_t)\n",
    "plot_confusion_matrix(cm, data.classes)"
   ]
  },
  {
   "cell_type": "code",
   "execution_count": null,
   "metadata": {},
   "outputs": [],
   "source": []
  }
 ],
 "metadata": {
  "kernelspec": {
   "display_name": "Python 3",
   "language": "python",
   "name": "python3"
  },
  "language_info": {
   "codemirror_mode": {
    "name": "ipython",
    "version": 3
   },
   "file_extension": ".py",
   "mimetype": "text/x-python",
   "name": "python",
   "nbconvert_exporter": "python",
   "pygments_lexer": "ipython3",
   "version": "3.6.5"
  },
  "toc": {
   "colors": {
    "hover_highlight": "#DAA520",
    "navigate_num": "#000000",
    "navigate_text": "#333333",
    "running_highlight": "#FF0000",
    "selected_highlight": "#FFD700",
    "sidebar_border": "#EEEEEE",
    "wrapper_background": "#FFFFFF"
   },
   "moveMenuLeft": true,
   "nav_menu": {
    "height": "266px",
    "width": "252px"
   },
   "navigate_menu": true,
   "number_sections": true,
   "sideBar": true,
   "threshold": 4,
   "toc_cell": false,
   "toc_section_display": "block",
   "toc_window_display": false,
   "widenNotebook": false
  }
 },
 "nbformat": 4,
 "nbformat_minor": 2
}
