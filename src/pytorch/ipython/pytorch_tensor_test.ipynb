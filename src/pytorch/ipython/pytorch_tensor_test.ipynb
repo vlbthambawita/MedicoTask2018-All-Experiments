{
 "cells": [
  {
   "cell_type": "code",
   "execution_count": 1,
   "metadata": {},
   "outputs": [],
   "source": [
    "import torch"
   ]
  },
  {
   "cell_type": "code",
   "execution_count": 2,
   "metadata": {},
   "outputs": [],
   "source": [
    "test = torch.empty((5,4))"
   ]
  },
  {
   "cell_type": "code",
   "execution_count": 3,
   "metadata": {},
   "outputs": [
    {
     "data": {
      "text/plain": [
       "tensor([[ 1.2383e-37,  0.0000e+00,  0.0000e+00,  0.0000e+00],\n",
       "        [ 3.8200e+27,  4.5560e-41,  7.5086e+30,  4.5560e-41],\n",
       "        [ 1.4013e-45,  2.6948e-09,  0.0000e+00,  0.0000e+00],\n",
       "        [ 2.3906e-18,  4.5560e-41,  0.0000e+00,  0.0000e+00],\n",
       "        [ 0.0000e+00,  0.0000e+00,  0.0000e+00,  0.0000e+00]])"
      ]
     },
     "execution_count": 3,
     "metadata": {},
     "output_type": "execute_result"
    }
   ],
   "source": [
    "test"
   ]
  },
  {
   "cell_type": "code",
   "execution_count": 4,
   "metadata": {},
   "outputs": [],
   "source": [
    "test[1,1] = 10"
   ]
  },
  {
   "cell_type": "code",
   "execution_count": 5,
   "metadata": {},
   "outputs": [
    {
     "data": {
      "text/plain": [
       "tensor([[ 1.2383e-37,  0.0000e+00,  0.0000e+00,  0.0000e+00],\n",
       "        [ 3.8200e+27,  1.0000e+01,  7.5086e+30,  4.5560e-41],\n",
       "        [ 1.4013e-45,  2.6948e-09,  0.0000e+00,  0.0000e+00],\n",
       "        [ 2.3906e-18,  4.5560e-41,  0.0000e+00,  0.0000e+00],\n",
       "        [ 0.0000e+00,  0.0000e+00,  0.0000e+00,  0.0000e+00]])"
      ]
     },
     "execution_count": 5,
     "metadata": {},
     "output_type": "execute_result"
    }
   ],
   "source": [
    "test"
   ]
  },
  {
   "cell_type": "code",
   "execution_count": 6,
   "metadata": {},
   "outputs": [],
   "source": [
    "test[1,1] = 909090909"
   ]
  },
  {
   "cell_type": "code",
   "execution_count": 7,
   "metadata": {},
   "outputs": [
    {
     "data": {
      "text/plain": [
       "tensor([[ 1.2383e-37,  0.0000e+00,  0.0000e+00,  0.0000e+00],\n",
       "        [ 3.8200e+27,  9.0909e+08,  7.5086e+30,  4.5560e-41],\n",
       "        [ 1.4013e-45,  2.6948e-09,  0.0000e+00,  0.0000e+00],\n",
       "        [ 2.3906e-18,  4.5560e-41,  0.0000e+00,  0.0000e+00],\n",
       "        [ 0.0000e+00,  0.0000e+00,  0.0000e+00,  0.0000e+00]])"
      ]
     },
     "execution_count": 7,
     "metadata": {},
     "output_type": "execute_result"
    }
   ],
   "source": [
    "test"
   ]
  },
  {
   "cell_type": "code",
   "execution_count": null,
   "metadata": {},
   "outputs": [],
   "source": []
  }
 ],
 "metadata": {
  "kernelspec": {
   "display_name": "Python 3",
   "language": "python",
   "name": "python3"
  },
  "language_info": {
   "codemirror_mode": {
    "name": "ipython",
    "version": 3
   },
   "file_extension": ".py",
   "mimetype": "text/x-python",
   "name": "python",
   "nbconvert_exporter": "python",
   "pygments_lexer": "ipython3",
   "version": "3.6.5"
  }
 },
 "nbformat": 4,
 "nbformat_minor": 2
}
