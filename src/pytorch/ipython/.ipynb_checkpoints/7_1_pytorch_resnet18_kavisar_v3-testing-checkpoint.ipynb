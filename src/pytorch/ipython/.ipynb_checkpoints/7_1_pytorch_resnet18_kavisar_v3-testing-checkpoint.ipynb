{
 "cells": [
  {
   "cell_type": "markdown",
   "metadata": {},
   "source": [
    "#  First resnet implementation for kavisar -  PyTorch"
   ]
  },
  {
   "cell_type": "code",
   "execution_count": 1,
   "metadata": {},
   "outputs": [],
   "source": [
    "from __future__ import print_function, division\n",
    "\n",
    "import torch\n",
    "import torch.nn as nn\n",
    "import torch.optim as optim\n",
    "from torch.optim import lr_scheduler\n",
    "import numpy as np\n",
    "import torchvision\n",
    "from torchvision import datasets, models, transforms\n",
    "import matplotlib.pyplot as plt\n",
    "import time\n",
    "import os\n",
    "import copy\n",
    "\n",
    "from sklearn.metrics import confusion_matrix\n",
    "import itertools\n",
    "\n",
    "\n",
    "plt.ion()   # interactive mode\n",
    "\n"
   ]
  },
  {
   "cell_type": "code",
   "execution_count": 8,
   "metadata": {},
   "outputs": [],
   "source": [
    "data_dir = \"../../../data/data_generated_medicotask_70_30_v2\"\n",
    "model_dir = 'pytorch_models'\n",
    "plot_dir  = data_dir + '/pytorch_plots'\n",
    "\n",
    "model_name = '7_1_resnet18_kavisar__2018_07_17_v3_6'\n",
    "\n",
    "\n",
    "cm_plot_name = 'cm_'+model_name"
   ]
  },
  {
   "cell_type": "code",
   "execution_count": 9,
   "metadata": {},
   "outputs": [
    {
     "data": {
      "text/plain": [
       "'cm_7_1_resnet18_kavisar__2018_07_17_v3_6'"
      ]
     },
     "execution_count": 9,
     "metadata": {},
     "output_type": "execute_result"
    }
   ],
   "source": [
    "cm_plot_name"
   ]
  },
  {
   "cell_type": "code",
   "execution_count": 10,
   "metadata": {},
   "outputs": [],
   "source": [
    "if not os.path.exists(plot_dir):\n",
    "    os.mkdir(plot_dir)"
   ]
  },
  {
   "cell_type": "code",
   "execution_count": 11,
   "metadata": {},
   "outputs": [],
   "source": [
    "test_data_transforms = transforms.Compose([\n",
    "    transforms.Resize(256),\n",
    "    transforms.CenterCrop(224),\n",
    "    transforms.ToTensor(),\n",
    "    transforms.Normalize([0.485, 0.456, 0.406], [0.229, 0.224, 0.225])\n",
    "])"
   ]
  },
  {
   "cell_type": "code",
   "execution_count": 12,
   "metadata": {},
   "outputs": [],
   "source": [
    "test_datasets = datasets.ImageFolder(os.path.join(data_dir, 'validation'), test_data_transforms)"
   ]
  },
  {
   "cell_type": "code",
   "execution_count": null,
   "metadata": {},
   "outputs": [],
   "source": [
    "tes"
   ]
  },
  {
   "cell_type": "code",
   "execution_count": null,
   "metadata": {},
   "outputs": [],
   "source": []
  },
  {
   "cell_type": "code",
   "execution_count": 13,
   "metadata": {},
   "outputs": [],
   "source": [
    "test_dataloader = torch.utils.data.DataLoader(test_datasets, batch_size=64, shuffle=False, num_workers=4)"
   ]
  },
  {
   "cell_type": "code",
   "execution_count": 14,
   "metadata": {},
   "outputs": [],
   "source": [
    "model_ft = models.resnet18(pretrained=True)\n",
    "num_ftrs = model_ft.fc.in_features\n",
    "model_ft.fc = nn.Linear(num_ftrs, 8)"
   ]
  },
  {
   "cell_type": "code",
   "execution_count": 15,
   "metadata": {},
   "outputs": [],
   "source": [
    "if torch.cuda.device_count() > 1:\n",
    "    print(\"Let's use\", torch.cuda.device_count(), \"GPUs!\")\n",
    "    # dim = 0 [30, xxx] -> [10, ...], [10, ...], [10, ...] on 3 GPUs\n",
    "    model_ft = nn.DataParallel(model_ft)"
   ]
  },
  {
   "cell_type": "code",
   "execution_count": 16,
   "metadata": {},
   "outputs": [],
   "source": [
    "model_ft.load_state_dict(torch.load(os.path.join(model_dir,model_name)))"
   ]
  },
  {
   "cell_type": "code",
   "execution_count": 17,
   "metadata": {},
   "outputs": [],
   "source": [
    "device = torch.device(\"cuda\" if torch.cuda.is_available() else \"cpu\")"
   ]
  },
  {
   "cell_type": "code",
   "execution_count": 18,
   "metadata": {},
   "outputs": [],
   "source": [
    "model_ft = model_ft.to(device)"
   ]
  },
  {
   "cell_type": "code",
   "execution_count": 19,
   "metadata": {},
   "outputs": [
    {
     "name": "stdout",
     "output_type": "stream",
     "text": [
      "tensor(54, device='cuda:0')\n",
      "tensor(57, device='cuda:0')\n",
      "tensor(49, device='cuda:0')\n",
      "tensor(52, device='cuda:0')\n",
      "tensor(62, device='cuda:0')\n",
      "tensor(50, device='cuda:0')\n",
      "tensor(49, device='cuda:0')\n",
      "tensor(46, device='cuda:0')\n",
      "tensor(49, device='cuda:0')\n",
      "tensor(51, device='cuda:0')\n",
      "tensor(54, device='cuda:0')\n",
      "tensor(51, device='cuda:0')\n",
      "tensor(58, device='cuda:0')\n",
      "tensor(63, device='cuda:0')\n",
      "tensor(64, device='cuda:0')\n",
      "tensor(60, device='cuda:0')\n",
      "tensor(55, device='cuda:0')\n",
      "tensor(53, device='cuda:0')\n",
      "tensor(58, device='cuda:0')\n",
      "tensor(61, device='cuda:0')\n",
      "tensor(61, device='cuda:0')\n",
      "tensor(59, device='cuda:0')\n",
      "tensor(57, device='cuda:0')\n",
      "tensor(56, device='cuda:0')\n",
      "tensor(58, device='cuda:0')\n",
      "Accuracy of the network on the 1600 test images: 86 %\n"
     ]
    }
   ],
   "source": [
    "model_ft.eval()\n",
    "correct = 0\n",
    "total = 0\n",
    "all_labels_d = torch.tensor([], dtype=torch.long).to(device)\n",
    "all_predictions_d = torch.tensor([], dtype=torch.long).to(device)\n",
    "\n",
    "with torch.no_grad():\n",
    "    for inputs, labels in test_dataloader:\n",
    "        inputs = inputs.to(device)\n",
    "        labels = labels.to(device)\n",
    "        outputs = model_ft(inputs)\n",
    "        _, predicted = torch.max(outputs.data, 1)\n",
    "        print((predicted == labels).sum())\n",
    "        total += labels.size(0) \n",
    "        correct += (predicted == labels).sum()\n",
    "        all_labels_d = torch.cat((all_labels_d, labels),0)\n",
    "        all_predictions_d = torch.cat((all_predictions_d, predicted),0)\n",
    "        \n",
    "testset_labels = all_labels_d.to('cpu')\n",
    "testset_predicted_labels = all_predictions_d.to('cpu')\n",
    "        \n",
    "print('Accuracy of the network on the %d test images: %d %%' % (total, (\n",
    "    100 * correct / total)))   "
   ]
  },
  {
   "cell_type": "markdown",
   "metadata": {},
   "source": [
    "## Testing the accuracy of the test data"
   ]
  },
  {
   "cell_type": "markdown",
   "metadata": {},
   "source": [
    "## Testing Multi- GPU - for testing"
   ]
  },
  {
   "cell_type": "code",
   "execution_count": 20,
   "metadata": {},
   "outputs": [],
   "source": [
    "cm=confusion_matrix(testset_labels, testset_predicted_labels)"
   ]
  },
  {
   "cell_type": "code",
   "execution_count": 21,
   "metadata": {},
   "outputs": [
    {
     "data": {
      "text/plain": [
       "array([[168,  26,   0,   0,   0,   0,   6,   0],\n",
       "       [ 32, 168,   0,   0,   0,   0,   0,   0],\n",
       "       [  0,   0, 148,   0,   0,  52,   0,   0],\n",
       "       [  0,   0,   0, 168,   0,   0,  25,   7],\n",
       "       [  1,   0,   0,   0, 197,   1,   0,   1],\n",
       "       [  0,   0,  30,   0,   0, 170,   0,   0],\n",
       "       [  0,   0,   0,   2,   2,   0, 191,   5],\n",
       "       [  0,   0,   0,   7,   1,   1,  14, 177]])"
      ]
     },
     "execution_count": 21,
     "metadata": {},
     "output_type": "execute_result"
    }
   ],
   "source": [
    "cm"
   ]
  },
  {
   "cell_type": "code",
   "execution_count": 36,
   "metadata": {},
   "outputs": [],
   "source": [
    "def plot_confusion_matrix(cm, classes,\n",
    "                          normalize=False,\n",
    "                          title='Confusion matrix',\n",
    "                          cmap=plt.cm.Blues,\n",
    "                          plt_size=[10,10]):\n",
    "    \"\"\"\n",
    "    This function prints and plots the confusion matrix.\n",
    "    Normalization can be applied by setting `normalize=True`.\n",
    "    \"\"\"\n",
    "    plt.rcParams['figure.figsize'] = plt_size\n",
    "    if normalize:\n",
    "        cm = cm.astype('float') / cm.sum(axis=1)[:, np.newaxis]\n",
    "        print(\"Normalized confusion matrix\")\n",
    "    else:\n",
    "        print('Confusion matrix, without normalization')\n",
    "\n",
    "    print(cm)\n",
    "\n",
    "    plt.imshow(cm, interpolation='nearest', cmap=cmap)\n",
    "    plt.title(title)\n",
    "    plt.colorbar()\n",
    "    tick_marks = np.arange(len(classes))\n",
    "    plt.xticks(tick_marks, classes, rotation=45)\n",
    "    plt.yticks(tick_marks, classes)\n",
    "\n",
    "    fmt = '.2f' if normalize else 'd'\n",
    "    thresh = cm.max() / 2.\n",
    "    for i, j in itertools.product(range(cm.shape[0]), range(cm.shape[1])):\n",
    "        plt.text(j, i, format(cm[i, j], fmt),\n",
    "                 horizontalalignment=\"center\",\n",
    "                 color=\"white\" if cm[i, j] > thresh else \"black\")\n",
    "\n",
    "    plt.tight_layout()\n",
    "    plt.ylabel('True label')\n",
    "    plt.xlabel('Predicted label')\n",
    "    plt.savefig(os.path.join(plot_dir,cm_plot_name))"
   ]
  },
  {
   "cell_type": "code",
   "execution_count": 37,
   "metadata": {},
   "outputs": [],
   "source": [
    "class_names = test_datasets.classes"
   ]
  },
  {
   "cell_type": "code",
   "execution_count": 38,
   "metadata": {},
   "outputs": [
    {
     "name": "stdout",
     "output_type": "stream",
     "text": [
      "Confusion matrix, without normalization\n",
      "[[168  26   0   0   0   0   6   0]\n",
      " [ 32 168   0   0   0   0   0   0]\n",
      " [  0   0 148   0   0  52   0   0]\n",
      " [  0   0   0 168   0   0  25   7]\n",
      " [  1   0   0   0 197   1   0   1]\n",
      " [  0   0  30   0   0 170   0   0]\n",
      " [  0   0   0   2   2   0 191   5]\n",
      " [  0   0   0   7   1   1  14 177]]\n"
     ]
    },
    {
     "data": {
      "image/png": "[encoded data removed]",
      "text/plain": [
       "<Figure size 720x720 with 2 Axes>"
      ]
     },
     "metadata": {},
     "output_type": "display_data"
    }
   ],
   "source": [
    "plot_confusion_matrix(cm, classes=class_names,title='my confusion matrix')"
   ]
  },
  {
   "cell_type": "code",
   "execution_count": null,
   "metadata": {},
   "outputs": [],
   "source": []
  }
 ],
 "metadata": {
  "kernelspec": {
   "display_name": "Python 3",
   "language": "python",
   "name": "python3"
  },
  "language_info": {
   "codemirror_mode": {
    "name": "ipython",
    "version": 3
   },
   "file_extension": ".py",
   "mimetype": "text/x-python",
   "name": "python",
   "nbconvert_exporter": "python",
   "pygments_lexer": "ipython3",
   "version": "3.6.5"
  }
 },
 "nbformat": 4,
 "nbformat_minor": 2
}
