{
 "cells": [
  {
   "cell_type": "code",
   "execution_count": 1,
   "metadata": {},
   "outputs": [
    {
     "name": "stderr",
     "output_type": "stream",
     "text": [
      "Using TensorFlow backend.\n"
     ]
    }
   ],
   "source": [
    "import numpy as np\n",
    "import datetime\n",
    "import os\n",
    "import pickle\n",
    "from keras.preprocessing.image import ImageDataGenerator\n",
    "from keras.preprocessing import image\n",
    "from keras.layers import Dropout, Flatten, Dense\n",
    "from keras.applications import ResNet50\n",
    "from keras.models import Model, Sequential\n",
    "from keras.layers import Dense, GlobalAveragePooling2D\n",
    "from keras import backend as K\n",
    "from keras.applications.resnet50 import preprocess_input\n",
    "from keras import optimizers\n",
    "\n",
    "import matplotlib as mpl\n",
    "\n",
    "#  ######################################################\n",
    "#  #### Matplotlib X display error - removing for server#\n",
    "#  ######################################################\n",
    "mpl.use('Agg')  # This has to run before pyplot import\n",
    "\n",
    "import matplotlib.pyplot as plt\n",
    "\n",
    "import sys\n",
    "import pandas as pd\n",
    "import numpy as np\n",
    "import itertools\n",
    "\n",
    "\n",
    "from sklearn.metrics import confusion_matrix"
   ]
  },
  {
   "cell_type": "code",
   "execution_count": 10,
   "metadata": {},
   "outputs": [],
   "source": [
    "###################################################################\n",
    "#  Getting main data directory\n",
    "###############################################################\n",
    "\n",
    "main_data_dir = sys.argv[1]  # Main data directory to be handled\n",
    "model_name = sys.argv[2] # model name to be saves\n",
    "\n",
    "my_file_name = model_name #\"8_1_pytorch_resnet18_v1\"  # model name to be saved\n",
    "\n",
    "###########################################\n",
    "\n",
    "#  Set parameters here\n",
    "data_dir = \"../../../data/data_generated_medicotask_v1\" #main_data_dir\n",
    "model_dir = data_dir + '/keras_models'\n",
    "plot_dir  = data_dir + '/keras_plots'\n",
    "\n",
    "\n",
    "\n",
    "model_name = \"backups/8_1_keras_resnet50_v2\" # take my file name as the model name\n",
    "\n",
    "cm_plot_name = 'cm_'+model_name\n",
    "\n",
    "\n",
    "batch_size = 16\n",
    "\n",
    "trgt_sz = 224"
   ]
  },
  {
   "cell_type": "code",
   "execution_count": 11,
   "metadata": {},
   "outputs": [],
   "source": [
    "#########################################\n",
    "#  Managing Directory\n",
    "#########################################\n",
    "if not os.path.exists(plot_dir):\n",
    "    os.mkdir(plot_dir)\n"
   ]
  },
  {
   "cell_type": "code",
   "execution_count": 12,
   "metadata": {},
   "outputs": [],
   "source": [
    "test_data_dir = f'{data_dir}/validation'"
   ]
  },
  {
   "cell_type": "code",
   "execution_count": 13,
   "metadata": {},
   "outputs": [],
   "source": [
    "test_datagen = ImageDataGenerator(preprocessing_function=preprocess_input)"
   ]
  },
  {
   "cell_type": "code",
   "execution_count": 14,
   "metadata": {},
   "outputs": [
    {
     "name": "stdout",
     "output_type": "stream",
     "text": [
      "Found 1067 images belonging to 16 classes.\n"
     ]
    }
   ],
   "source": [
    "test_generator = test_datagen.flow_from_directory(test_data_dir,\n",
    "    shuffle=False,\n",
    "    target_size=(trgt_sz, trgt_sz),\n",
    "    batch_size=batch_size, class_mode='categorical')"
   ]
  },
  {
   "cell_type": "code",
   "execution_count": 15,
   "metadata": {},
   "outputs": [],
   "source": [
    "base_model = ResNet50(weights='imagenet', include_top=False)\n",
    "x = base_model.output\n",
    "x = GlobalAveragePooling2D()(x)\n",
    "x = Dense(1024, activation='relu')(x)\n",
    "predictions = Dense(16, activation='softmax')(x)"
   ]
  },
  {
   "cell_type": "code",
   "execution_count": 16,
   "metadata": {},
   "outputs": [],
   "source": [
    "model = Model(inputs=base_model.input, outputs=predictions)"
   ]
  },
  {
   "cell_type": "code",
   "execution_count": 17,
   "metadata": {},
   "outputs": [],
   "source": [
    "model.load_weights(os.path.join(model_dir, model_name))"
   ]
  },
  {
   "cell_type": "code",
   "execution_count": 18,
   "metadata": {},
   "outputs": [],
   "source": [
    "probabilities = model.predict_generator(test_generator)"
   ]
  },
  {
   "cell_type": "code",
   "execution_count": 19,
   "metadata": {},
   "outputs": [],
   "source": [
    "predicted = np.argmax(probabilities.data,1)"
   ]
  },
  {
   "cell_type": "code",
   "execution_count": null,
   "metadata": {},
   "outputs": [],
   "source": []
  },
  {
   "cell_type": "code",
   "execution_count": 24,
   "metadata": {},
   "outputs": [
    {
     "data": {
      "text/plain": [
       "{'blurry-nothing': 0,\n",
       " 'colon-clear': 1,\n",
       " 'dyed-lifted-polyps': 2,\n",
       " 'dyed-resection-margins': 3,\n",
       " 'esophagitis': 4,\n",
       " 'instruments': 5,\n",
       " 'normal-cecum': 6,\n",
       " 'normal-pylorus': 7,\n",
       " 'normal-z-line': 8,\n",
       " 'out-of-patient': 9,\n",
       " 'polyps': 10,\n",
       " 'retroflex-rectum': 11,\n",
       " 'retroflex-stomach': 12,\n",
       " 'stool-inclusions': 13,\n",
       " 'stool-plenty': 14,\n",
       " 'ulcerative-colitis': 15}"
      ]
     },
     "execution_count": 24,
     "metadata": {},
     "output_type": "execute_result"
    }
   ],
   "source": [
    "test_generator.class_indices"
   ]
  },
  {
   "cell_type": "code",
   "execution_count": 23,
   "metadata": {},
   "outputs": [
    {
     "data": {
      "text/plain": [
       "array([ 0,  0,  0, ...,  6,  6, 10])"
      ]
     },
     "execution_count": 23,
     "metadata": {},
     "output_type": "execute_result"
    }
   ],
   "source": [
    "predicted"
   ]
  },
  {
   "cell_type": "code",
   "execution_count": 20,
   "metadata": {},
   "outputs": [],
   "source": [
    "cm = confusion_matrix(test_generator.classes, predicted)"
   ]
  },
  {
   "cell_type": "code",
   "execution_count": 21,
   "metadata": {},
   "outputs": [
    {
     "data": {
      "text/plain": [
       "array([[ 35,   0,   0,   0,   0,   0,   0,   1,   0,   0,   0,   0,   0,\n",
       "          0,   0,   0],\n",
       "       [  0,  25,   0,   0,   0,   0,   7,   0,   0,   0,  22,   0,   0,\n",
       "          0,   0,   0],\n",
       "       [  0,   0,  48,   1,   0,   0,   8,   0,   0,   0,  33,   2,   0,\n",
       "          0,   0,   0],\n",
       "       [  0,   0,  57,  15,   0,   0,   4,   0,   0,   0,   5,   3,   0,\n",
       "          0,   0,   0],\n",
       "       [  0,   0,   0,   0,  45,   0,   0,  29,  15,   0,   0,   0,   0,\n",
       "          0,   0,   0],\n",
       "       [  0,   0,   0,   0,   0,   0,   0,   1,   0,   0,   7,   0,   0,\n",
       "          0,   0,   0],\n",
       "       [  0,   0,   0,   0,   0,   0,  72,   0,   0,   0,  12,   0,   0,\n",
       "          0,   0,   0],\n",
       "       [  0,   0,   0,   0,   0,   0,   0,  88,   0,   0,   0,   0,   0,\n",
       "          0,   0,   0],\n",
       "       [  0,   0,   0,   0,   7,   0,   0,  50,  31,   0,   0,   0,   0,\n",
       "          0,   0,   0],\n",
       "       [  0,   0,   0,   0,   0,   0,   0,   0,   0,   0,   0,   0,   1,\n",
       "          0,   0,   0],\n",
       "       [  0,   0,   0,   0,   0,   0,   8,   2,   0,   0, 113,   0,   0,\n",
       "          0,   0,   0],\n",
       "       [  0,   0,   0,   0,   0,   0,   0,   0,   0,   0,  19,  29,   0,\n",
       "          0,   0,   0],\n",
       "       [  0,   0,   0,   0,   0,   0,   0,  26,   0,   0,   4,   1,  49,\n",
       "          0,   0,   0],\n",
       "       [  0,   1,   0,   0,   0,   0,   8,   0,   0,   0,  16,   0,   0,\n",
       "          1,   0,   0],\n",
       "       [  0,   0,   0,   0,   0,   0,  35,   0,   0,   0,  39,   0,   0,\n",
       "          0,   0,   0],\n",
       "       [  0,   0,   0,   0,   0,   0,  17,   3,   0,   0,  26,   1,   0,\n",
       "          0,   0,  45]])"
      ]
     },
     "execution_count": 21,
     "metadata": {},
     "output_type": "execute_result"
    }
   ],
   "source": [
    "cm"
   ]
  },
  {
   "cell_type": "code",
   "execution_count": null,
   "metadata": {},
   "outputs": [],
   "source": []
  },
  {
   "cell_type": "code",
   "execution_count": 14,
   "metadata": {},
   "outputs": [],
   "source": [
    "class_names = test_generator.class_indices"
   ]
  },
  {
   "cell_type": "code",
   "execution_count": 15,
   "metadata": {
    "scrolled": true
   },
   "outputs": [],
   "source": [
    "class_names = list(class_names.keys())"
   ]
  },
  {
   "cell_type": "code",
   "execution_count": null,
   "metadata": {},
   "outputs": [],
   "source": []
  },
  {
   "cell_type": "code",
   "execution_count": 16,
   "metadata": {},
   "outputs": [],
   "source": [
    "class_names = np.asarray(class_names)"
   ]
  },
  {
   "cell_type": "code",
   "execution_count": null,
   "metadata": {},
   "outputs": [],
   "source": []
  },
  {
   "cell_type": "code",
   "execution_count": null,
   "metadata": {},
   "outputs": [],
   "source": []
  },
  {
   "cell_type": "code",
   "execution_count": 17,
   "metadata": {},
   "outputs": [],
   "source": [
    "def plot_confusion_matrix(cm, classes,\n",
    "                          normalize=False,\n",
    "                          title='Confusion matrix',\n",
    "                          cmap=plt.cm.Blues,\n",
    "                          plt_size=[10,10]):\n",
    "    \"\"\"\n",
    "    This function prints and plots the confusion matrix.\n",
    "    Normalization can be applied by setting `normalize=True`.\n",
    "    \"\"\"\n",
    "    plt.rcParams['figure.figsize'] = plt_size\n",
    "    if normalize:\n",
    "        cm = cm.astype('float') / cm.sum(axis=1)[:, np.newaxis]\n",
    "        print(\"Normalized confusion matrix\")\n",
    "    else:\n",
    "        print('Confusion matrix, without normalization')\n",
    "\n",
    "    print(cm)\n",
    "\n",
    "    plt.imshow(cm, interpolation='nearest', cmap=cmap)\n",
    "    plt.title(title)\n",
    "    plt.colorbar()\n",
    "    tick_marks = np.arange(len(classes))\n",
    "    plt.xticks(tick_marks, classes, rotation=90)\n",
    "    plt.yticks(tick_marks, classes)\n",
    "\n",
    "    fmt = '.2f' if normalize else 'd'\n",
    "    thresh = cm.max() / 2.\n",
    "    for i, j in itertools.product(range(cm.shape[0]), range(cm.shape[1])):\n",
    "        plt.text(j, i, format(cm[i, j], fmt),\n",
    "                 horizontalalignment=\"center\",\n",
    "                 color=\"white\" if cm[i, j] > thresh else \"black\")\n",
    "\n",
    "    plt.tight_layout()\n",
    "    plt.ylabel('True label')\n",
    "    plt.xlabel('Predicted label')\n",
    "    plt.savefig(os.path.join(plot_dir, cm_plot_name))"
   ]
  },
  {
   "cell_type": "code",
   "execution_count": 19,
   "metadata": {},
   "outputs": [
    {
     "name": "stdout",
     "output_type": "stream",
     "text": [
      "Confusion matrix, without normalization\n",
      "[[ 35   0   0   0   0   0   0   1   0   0   0   0   0   0   0   0]\n",
      " [  0  25   0   0   0   0   7   0   0   0  22   0   0   0   0   0]\n",
      " [  0   0  48   1   0   0   8   0   0   0  33   2   0   0   0   0]\n",
      " [  0   0  57  15   0   0   4   0   0   0   5   3   0   0   0   0]\n",
      " [  0   0   0   0  45   0   0  29  15   0   0   0   0   0   0   0]\n",
      " [  0   0   0   0   0   0   0   1   0   0   7   0   0   0   0   0]\n",
      " [  0   0   0   0   0   0  72   0   0   0  12   0   0   0   0   0]\n",
      " [  0   0   0   0   0   0   0  88   0   0   0   0   0   0   0   0]\n",
      " [  0   0   0   0   7   0   0  50  31   0   0   0   0   0   0   0]\n",
      " [  0   0   0   0   0   0   0   0   0   0   0   0   1   0   0   0]\n",
      " [  0   0   0   0   0   0   8   2   0   0 113   0   0   0   0   0]\n",
      " [  0   0   0   0   0   0   0   0   0   0  19  29   0   0   0   0]\n",
      " [  0   0   0   0   0   0   0  26   0   0   4   1  49   0   0   0]\n",
      " [  0   1   0   0   0   0   8   0   0   0  16   0   0   1   0   0]\n",
      " [  0   0   0   0   0   0  35   0   0   0  39   0   0   0   0   0]\n",
      " [  0   0   0   0   0   0  17   3   0   0  26   1   0   0   0  45]]\n"
     ]
    }
   ],
   "source": [
    "plot_confusion_matrix(cm, classes=class_names, title='my confusion matrix')"
   ]
  },
  {
   "cell_type": "code",
   "execution_count": null,
   "metadata": {},
   "outputs": [],
   "source": []
  },
  {
   "cell_type": "code",
   "execution_count": null,
   "metadata": {},
   "outputs": [],
   "source": []
  }
 ],
 "metadata": {
  "kernelspec": {
   "display_name": "Python 3",
   "language": "python",
   "name": "python3"
  },
  "language_info": {
   "codemirror_mode": {
    "name": "ipython",
    "version": 3
   },
   "file_extension": ".py",
   "mimetype": "text/x-python",
   "name": "python",
   "nbconvert_exporter": "python",
   "pygments_lexer": "ipython3",
   "version": "3.6.5"
  }
 },
 "nbformat": 4,
 "nbformat_minor": 2
}
